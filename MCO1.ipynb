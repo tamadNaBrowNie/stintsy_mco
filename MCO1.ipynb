{
 "cells": [
  {
   "cell_type": "markdown",
   "id": "09302bc8",
   "metadata": {
    "jp-MarkdownHeadingCollapsed": true
   },
   "source": [
    "# Sports Dataset\n",
    "\n",
    "10,000 random photos from soccer matches captured at a single timestamp make up the dataset. Every snapshot has a number of elements that offer details on the current match. The objective of the dataset is to capture the evolving dynamics of a soccer game, and to make predictions for the number of goals that will be scored for the remaining playing time."
   ]
  },
  {
   "cell_type": "markdown",
   "id": "0caa0afd",
   "metadata": {
    "jp-MarkdownHeadingCollapsed": true
   },
   "source": [
    "# Dataset Structure\n",
    "\n",
    "The dataset is presented in a single file with 10,000 rows and 20 columns, each row representing a snapshot of a soccer match, and each column representing a specific attribute or feature of that snapshot.\n",
    "\n",
    "Number of Instances (Rows): 10,000 instances \n",
    "Number of Features (Columns): 20 features/columns "
   ]
  },
  {
   "cell_type": "markdown",
   "id": "e3270845",
   "metadata": {},
   "source": [
    "# Feature Representation\n",
    "\n",
    "The features include identifiers such as uuid, and dynamic match-related details such as the current minute of play, home and away team scores, yellow and red cards for both teams, the number of attacks and dangerous attacks by each team, corners awarded, shots on and off target for both teams, and the ball possession percentage for both the home and away teams until the current minute."
   ]
  },
  {
   "cell_type": "markdown",
   "id": "1da51430",
   "metadata": {},
   "source": [
    "# Libraries\n",
    "\n",
    "- pandas\n",
    "- numpy\n",
    "- matplotlib\n",
    "- pickle\n",
    "- os\n",
    "- sklearn.metrics accuracy_score, classification_report, confusion_matrix\n",
    "- sklearn.model_selection cross_val_predict, cross_val_score, train_test_split\n",
    "- sklearn preprocessing \n",
    "- sklearn.linear_model LogisticRegression\n",
    "- sklearn.model_selection GridSearchCV,train_test_split,RandomizedSearchCV\n",
    "- sklearn.ensembke RandomForestClassifier"
   ]
  },
  {
   "cell_type": "code",
   "execution_count": 1,
   "id": "442b3c67",
   "metadata": {},
   "outputs": [],
   "source": [
    "import pandas as pd\n",
    "import matplotlib.pyplot as plt\n",
    "import numpy as np\n",
    "import pickle\n",
    "import os\n",
    "import seaborn as sns\n",
    "from sklearn.model_selection import GridSearchCV, RandomizedSearchCV\n",
    "from sklearn.neighbors import KNeighborsClassifier\n",
    "from sklearn.metrics import accuracy_score, classification_report, confusion_matrix\n",
    "from sklearn.model_selection import cross_val_predict, cross_val_score\n",
    "from sklearn import preprocessing\n",
    "from sklearn.model_selection import train_test_split\n",
    "from sklearn.linear_model import LogisticRegression\n",
    "from sklearn.preprocessing import StandardScaler\n",
    "from sklearn.ensemble import RandomForestClassifier"
   ]
  },
  {
   "cell_type": "code",
   "execution_count": 3,
   "id": "fd43de47-6ab2-4693-8401-e426983a3f62",
   "metadata": {
    "scrolled": true
   },
   "outputs": [
    {
     "data": {
      "text/html": [
       "<div>\n",
       "<style scoped>\n",
       "    .dataframe tbody tr th:only-of-type {\n",
       "        vertical-align: middle;\n",
       "    }\n",
       "\n",
       "    .dataframe tbody tr th {\n",
       "        vertical-align: top;\n",
       "    }\n",
       "\n",
       "    .dataframe thead th {\n",
       "        text-align: right;\n",
       "    }\n",
       "</style>\n",
       "<table border=\"1\" class=\"dataframe\">\n",
       "  <thead>\n",
       "    <tr style=\"text-align: right;\">\n",
       "      <th></th>\n",
       "      <th>uuid</th>\n",
       "      <th>current_minute</th>\n",
       "      <th>home_score</th>\n",
       "      <th>away_score</th>\n",
       "      <th>home_yellow_cards</th>\n",
       "      <th>away_yellow_cards</th>\n",
       "      <th>home_red_cards</th>\n",
       "      <th>away_red_cards</th>\n",
       "      <th>home_attacks</th>\n",
       "      <th>away_attacks</th>\n",
       "      <th>...</th>\n",
       "      <th>away_dangerous_attacks</th>\n",
       "      <th>home_corners</th>\n",
       "      <th>away_corners</th>\n",
       "      <th>home_off_target</th>\n",
       "      <th>away_off_target</th>\n",
       "      <th>home_on_target</th>\n",
       "      <th>away_on_target</th>\n",
       "      <th>home_possession</th>\n",
       "      <th>away_possession</th>\n",
       "      <th>final_delta</th>\n",
       "    </tr>\n",
       "  </thead>\n",
       "  <tbody>\n",
       "    <tr>\n",
       "      <th>0</th>\n",
       "      <td>2f9dd904-8d9d-4aa0-a9d9-4e0f3e50d742</td>\n",
       "      <td>94</td>\n",
       "      <td>1</td>\n",
       "      <td>2</td>\n",
       "      <td>0</td>\n",
       "      <td>0</td>\n",
       "      <td>0</td>\n",
       "      <td>0</td>\n",
       "      <td>39</td>\n",
       "      <td>45</td>\n",
       "      <td>...</td>\n",
       "      <td>26</td>\n",
       "      <td>4</td>\n",
       "      <td>1</td>\n",
       "      <td>4</td>\n",
       "      <td>0</td>\n",
       "      <td>4</td>\n",
       "      <td>6</td>\n",
       "      <td>48</td>\n",
       "      <td>52</td>\n",
       "      <td>1</td>\n",
       "    </tr>\n",
       "    <tr>\n",
       "      <th>1</th>\n",
       "      <td>869c1420-9153-4d73-8d79-5db31a8a80a4</td>\n",
       "      <td>91</td>\n",
       "      <td>2</td>\n",
       "      <td>0</td>\n",
       "      <td>0</td>\n",
       "      <td>0</td>\n",
       "      <td>0</td>\n",
       "      <td>0</td>\n",
       "      <td>0</td>\n",
       "      <td>0</td>\n",
       "      <td>...</td>\n",
       "      <td>0</td>\n",
       "      <td>0</td>\n",
       "      <td>0</td>\n",
       "      <td>0</td>\n",
       "      <td>0</td>\n",
       "      <td>0</td>\n",
       "      <td>0</td>\n",
       "      <td>50</td>\n",
       "      <td>50</td>\n",
       "      <td>1</td>\n",
       "    </tr>\n",
       "    <tr>\n",
       "      <th>2</th>\n",
       "      <td>549e25a3-4c93-459d-b115-fb303273c78a</td>\n",
       "      <td>3</td>\n",
       "      <td>0</td>\n",
       "      <td>0</td>\n",
       "      <td>0</td>\n",
       "      <td>0</td>\n",
       "      <td>0</td>\n",
       "      <td>0</td>\n",
       "      <td>3</td>\n",
       "      <td>1</td>\n",
       "      <td>...</td>\n",
       "      <td>0</td>\n",
       "      <td>0</td>\n",
       "      <td>0</td>\n",
       "      <td>0</td>\n",
       "      <td>0</td>\n",
       "      <td>0</td>\n",
       "      <td>0</td>\n",
       "      <td>62</td>\n",
       "      <td>38</td>\n",
       "      <td>4</td>\n",
       "    </tr>\n",
       "    <tr>\n",
       "      <th>3</th>\n",
       "      <td>287b4be5-9163-4e2e-895d-d11052a97410</td>\n",
       "      <td>17</td>\n",
       "      <td>0</td>\n",
       "      <td>0</td>\n",
       "      <td>1</td>\n",
       "      <td>0</td>\n",
       "      <td>0</td>\n",
       "      <td>0</td>\n",
       "      <td>41</td>\n",
       "      <td>46</td>\n",
       "      <td>...</td>\n",
       "      <td>25</td>\n",
       "      <td>1</td>\n",
       "      <td>0</td>\n",
       "      <td>0</td>\n",
       "      <td>2</td>\n",
       "      <td>0</td>\n",
       "      <td>0</td>\n",
       "      <td>55</td>\n",
       "      <td>45</td>\n",
       "      <td>2</td>\n",
       "    </tr>\n",
       "    <tr>\n",
       "      <th>4</th>\n",
       "      <td>a607da6a-d6b2-4652-b7a5-6c8e4b61c2b8</td>\n",
       "      <td>76</td>\n",
       "      <td>1</td>\n",
       "      <td>0</td>\n",
       "      <td>1</td>\n",
       "      <td>0</td>\n",
       "      <td>0</td>\n",
       "      <td>0</td>\n",
       "      <td>69</td>\n",
       "      <td>78</td>\n",
       "      <td>...</td>\n",
       "      <td>46</td>\n",
       "      <td>1</td>\n",
       "      <td>1</td>\n",
       "      <td>0</td>\n",
       "      <td>3</td>\n",
       "      <td>4</td>\n",
       "      <td>4</td>\n",
       "      <td>45</td>\n",
       "      <td>55</td>\n",
       "      <td>0</td>\n",
       "    </tr>\n",
       "    <tr>\n",
       "      <th>...</th>\n",
       "      <td>...</td>\n",
       "      <td>...</td>\n",
       "      <td>...</td>\n",
       "      <td>...</td>\n",
       "      <td>...</td>\n",
       "      <td>...</td>\n",
       "      <td>...</td>\n",
       "      <td>...</td>\n",
       "      <td>...</td>\n",
       "      <td>...</td>\n",
       "      <td>...</td>\n",
       "      <td>...</td>\n",
       "      <td>...</td>\n",
       "      <td>...</td>\n",
       "      <td>...</td>\n",
       "      <td>...</td>\n",
       "      <td>...</td>\n",
       "      <td>...</td>\n",
       "      <td>...</td>\n",
       "      <td>...</td>\n",
       "      <td>...</td>\n",
       "    </tr>\n",
       "    <tr>\n",
       "      <th>6995</th>\n",
       "      <td>838f35c5-afa3-474b-876e-063fd49d4326</td>\n",
       "      <td>32</td>\n",
       "      <td>0</td>\n",
       "      <td>0</td>\n",
       "      <td>0</td>\n",
       "      <td>0</td>\n",
       "      <td>0</td>\n",
       "      <td>0</td>\n",
       "      <td>16</td>\n",
       "      <td>25</td>\n",
       "      <td>...</td>\n",
       "      <td>13</td>\n",
       "      <td>0</td>\n",
       "      <td>1</td>\n",
       "      <td>1</td>\n",
       "      <td>2</td>\n",
       "      <td>0</td>\n",
       "      <td>1</td>\n",
       "      <td>45</td>\n",
       "      <td>55</td>\n",
       "      <td>0</td>\n",
       "    </tr>\n",
       "    <tr>\n",
       "      <th>6996</th>\n",
       "      <td>4bcfd248-5f39-4af2-b465-5358c9e7088e</td>\n",
       "      <td>101</td>\n",
       "      <td>3</td>\n",
       "      <td>0</td>\n",
       "      <td>0</td>\n",
       "      <td>1</td>\n",
       "      <td>0</td>\n",
       "      <td>0</td>\n",
       "      <td>0</td>\n",
       "      <td>0</td>\n",
       "      <td>...</td>\n",
       "      <td>0</td>\n",
       "      <td>0</td>\n",
       "      <td>0</td>\n",
       "      <td>0</td>\n",
       "      <td>0</td>\n",
       "      <td>0</td>\n",
       "      <td>0</td>\n",
       "      <td>50</td>\n",
       "      <td>50</td>\n",
       "      <td>0</td>\n",
       "    </tr>\n",
       "    <tr>\n",
       "      <th>6997</th>\n",
       "      <td>deccdc2c-625e-495a-9b06-02d540d4cd24</td>\n",
       "      <td>78</td>\n",
       "      <td>1</td>\n",
       "      <td>0</td>\n",
       "      <td>0</td>\n",
       "      <td>0</td>\n",
       "      <td>0</td>\n",
       "      <td>0</td>\n",
       "      <td>71</td>\n",
       "      <td>60</td>\n",
       "      <td>...</td>\n",
       "      <td>40</td>\n",
       "      <td>7</td>\n",
       "      <td>0</td>\n",
       "      <td>5</td>\n",
       "      <td>5</td>\n",
       "      <td>7</td>\n",
       "      <td>0</td>\n",
       "      <td>61</td>\n",
       "      <td>39</td>\n",
       "      <td>2</td>\n",
       "    </tr>\n",
       "    <tr>\n",
       "      <th>6998</th>\n",
       "      <td>94a20308-55d8-47cb-8f8b-d2702a531c74</td>\n",
       "      <td>72</td>\n",
       "      <td>2</td>\n",
       "      <td>0</td>\n",
       "      <td>0</td>\n",
       "      <td>0</td>\n",
       "      <td>0</td>\n",
       "      <td>0</td>\n",
       "      <td>85</td>\n",
       "      <td>66</td>\n",
       "      <td>...</td>\n",
       "      <td>20</td>\n",
       "      <td>3</td>\n",
       "      <td>0</td>\n",
       "      <td>4</td>\n",
       "      <td>1</td>\n",
       "      <td>2</td>\n",
       "      <td>1</td>\n",
       "      <td>52</td>\n",
       "      <td>48</td>\n",
       "      <td>0</td>\n",
       "    </tr>\n",
       "    <tr>\n",
       "      <th>6999</th>\n",
       "      <td>0362876c-00dc-428f-a278-303d175a6ad2</td>\n",
       "      <td>8</td>\n",
       "      <td>0</td>\n",
       "      <td>0</td>\n",
       "      <td>0</td>\n",
       "      <td>0</td>\n",
       "      <td>0</td>\n",
       "      <td>0</td>\n",
       "      <td>6</td>\n",
       "      <td>14</td>\n",
       "      <td>...</td>\n",
       "      <td>3</td>\n",
       "      <td>0</td>\n",
       "      <td>0</td>\n",
       "      <td>0</td>\n",
       "      <td>0</td>\n",
       "      <td>0</td>\n",
       "      <td>0</td>\n",
       "      <td>31</td>\n",
       "      <td>69</td>\n",
       "      <td>1</td>\n",
       "    </tr>\n",
       "  </tbody>\n",
       "</table>\n",
       "<p>7000 rows × 21 columns</p>\n",
       "</div>"
      ],
      "text/plain": [
       "                                      uuid  current_minute  home_score  \\\n",
       "0     2f9dd904-8d9d-4aa0-a9d9-4e0f3e50d742              94           1   \n",
       "1     869c1420-9153-4d73-8d79-5db31a8a80a4              91           2   \n",
       "2     549e25a3-4c93-459d-b115-fb303273c78a               3           0   \n",
       "3     287b4be5-9163-4e2e-895d-d11052a97410              17           0   \n",
       "4     a607da6a-d6b2-4652-b7a5-6c8e4b61c2b8              76           1   \n",
       "...                                    ...             ...         ...   \n",
       "6995  838f35c5-afa3-474b-876e-063fd49d4326              32           0   \n",
       "6996  4bcfd248-5f39-4af2-b465-5358c9e7088e             101           3   \n",
       "6997  deccdc2c-625e-495a-9b06-02d540d4cd24              78           1   \n",
       "6998  94a20308-55d8-47cb-8f8b-d2702a531c74              72           2   \n",
       "6999  0362876c-00dc-428f-a278-303d175a6ad2               8           0   \n",
       "\n",
       "      away_score  home_yellow_cards  away_yellow_cards  home_red_cards  \\\n",
       "0              2                  0                  0               0   \n",
       "1              0                  0                  0               0   \n",
       "2              0                  0                  0               0   \n",
       "3              0                  1                  0               0   \n",
       "4              0                  1                  0               0   \n",
       "...          ...                ...                ...             ...   \n",
       "6995           0                  0                  0               0   \n",
       "6996           0                  0                  1               0   \n",
       "6997           0                  0                  0               0   \n",
       "6998           0                  0                  0               0   \n",
       "6999           0                  0                  0               0   \n",
       "\n",
       "      away_red_cards  home_attacks  away_attacks  ...  away_dangerous_attacks  \\\n",
       "0                  0            39            45  ...                      26   \n",
       "1                  0             0             0  ...                       0   \n",
       "2                  0             3             1  ...                       0   \n",
       "3                  0            41            46  ...                      25   \n",
       "4                  0            69            78  ...                      46   \n",
       "...              ...           ...           ...  ...                     ...   \n",
       "6995               0            16            25  ...                      13   \n",
       "6996               0             0             0  ...                       0   \n",
       "6997               0            71            60  ...                      40   \n",
       "6998               0            85            66  ...                      20   \n",
       "6999               0             6            14  ...                       3   \n",
       "\n",
       "      home_corners  away_corners  home_off_target  away_off_target  \\\n",
       "0                4             1                4                0   \n",
       "1                0             0                0                0   \n",
       "2                0             0                0                0   \n",
       "3                1             0                0                2   \n",
       "4                1             1                0                3   \n",
       "...            ...           ...              ...              ...   \n",
       "6995             0             1                1                2   \n",
       "6996             0             0                0                0   \n",
       "6997             7             0                5                5   \n",
       "6998             3             0                4                1   \n",
       "6999             0             0                0                0   \n",
       "\n",
       "      home_on_target  away_on_target  home_possession  away_possession  \\\n",
       "0                  4               6               48               52   \n",
       "1                  0               0               50               50   \n",
       "2                  0               0               62               38   \n",
       "3                  0               0               55               45   \n",
       "4                  4               4               45               55   \n",
       "...              ...             ...              ...              ...   \n",
       "6995               0               1               45               55   \n",
       "6996               0               0               50               50   \n",
       "6997               7               0               61               39   \n",
       "6998               2               1               52               48   \n",
       "6999               0               0               31               69   \n",
       "\n",
       "      final_delta  \n",
       "0               1  \n",
       "1               1  \n",
       "2               4  \n",
       "3               2  \n",
       "4               0  \n",
       "...           ...  \n",
       "6995            0  \n",
       "6996            0  \n",
       "6997            2  \n",
       "6998            0  \n",
       "6999            1  \n",
       "\n",
       "[7000 rows x 21 columns]"
      ]
     },
     "execution_count": 3,
     "metadata": {},
     "output_type": "execute_result"
    }
   ],
   "source": [
    "df = None\n",
    "try:df = pd.read_csv(filepath_or_buffer = 'sports.csv', header = 0)\n",
    "except:df = pd.read_csv(filepath_or_buffer = 'Dataset 3 - Sports Dataset/sports.csv', header = 0)\n",
    "df"
   ]
  },
  {
   "cell_type": "markdown",
   "id": "cb91d867-d833-469a-840a-ed8c912345f8",
   "metadata": {},
   "source": [
    "# Goal\n",
    "Our objective for this project is to use the data given in the dataset to predict whether 1 or more goals can be scored in the remaining playing time of the match."
   ]
  },
  {
   "cell_type": "markdown",
   "id": "eb117b6e",
   "metadata": {},
   "source": [
    "# Data Preprocessing\n"
   ]
  },
  {
   "cell_type": "markdown",
   "id": "1817f26e-6fa3-4fe5-9218-cc983a20e278",
   "metadata": {
    "scrolled": true
   },
   "source": [
    "Remove Missing Data"
   ]
  },
  {
   "cell_type": "code",
   "execution_count": null,
   "id": "3dffecdb-d752-48c4-a996-e074e002d871",
   "metadata": {
    "scrolled": true
   },
   "outputs": [],
   "source": [
    "df.dropna(inplace=True)"
   ]
  },
  {
   "cell_type": "markdown",
   "id": "fa0978ff-c7c2-40c1-93d6-ed491f5881b4",
   "metadata": {},
   "source": [
    "UUID is an unique identifier. no need to keep it."
   ]
  },
  {
   "cell_type": "code",
   "execution_count": null,
   "id": "8aae6059-7650-46a1-8d31-10c64cf6f85c",
   "metadata": {
    "scrolled": true
   },
   "outputs": [],
   "source": [
    "try:\n",
    "    df = df.drop(['uuid'], axis=1)\n",
    "except:\n",
    "    print('no uuid')"
   ]
  },
  {
   "cell_type": "markdown",
   "id": "c2b47730-39c7-47fe-afd8-766a2756f460",
   "metadata": {},
   "source": [
    "Use only data taken within the game time. Games last 105 minutes.  \n",
    "Then remove any data from halftime. Halftime should be around minute 45 to minute 60. Because of that, starting minute 60, subtract them by 15 to make data contiguous."
   ]
  },
  {
   "cell_type": "code",
   "execution_count": null,
   "id": "678ebeae-34cc-4c76-bdd1-12027c476433",
   "metadata": {
    "scrolled": true
   },
   "outputs": [],
   "source": [
    "df = df.query('0<= current_minute <= 105 ')\n",
    "df = df.query('not (44 < current_minute <60)')\n",
    "df['current_minute'] = df['current_minute'].apply(lambda x: x-15 if x > 45 else x)"
   ]
  },
  {
   "cell_type": "markdown",
   "id": "b02bf09e-2286-46c2-9048-4b3ea9248902",
   "metadata": {
    "scrolled": true
   },
   "source": [
    "<!-- df = df.groupby(df['current_minute'],as_index = False).aggregate('sum')\n",
    "Aggregating was temptying but the samples became to small to use \n",
    "Feature Scaling\n",
    "numerical_features = ['current_minute', 'home_score', 'away_score', 'home_yellow_cards', 'away_yellow_cards',\n",
    "                      'home_red_cards', 'away_red_cards', 'home_attacks', 'away_attacks', 'home_dangerous_attacks',\n",
    "                      'away_dangerous_attacks', 'home_corners', 'away_corners', 'home_off_target', 'away_off_target',\n",
    "                      'home_on_target', 'away_on_target', 'home_possession', 'away_possession'] -->"
   ]
  },
  {
   "cell_type": "code",
   "execution_count": null,
   "id": "a8c2687b",
   "metadata": {},
   "outputs": [],
   "source": [
    "# the target variable indicates whether 1 goal or more will be scored with the remaining time of the match. it shows binary values\n",
    "df['target']= 0\n",
    "df.loc[df['home_score'] + df['away_score']>0,'target'] = 1\n",
    "\n",
    "X = df.drop(['target','home_score','away_score'], axis=1)\n",
    "y = df['target']\n"
   ]
  },
  {
   "cell_type": "code",
   "execution_count": null,
   "id": "0fd06acd",
   "metadata": {},
   "outputs": [],
   "source": [
    "# Current shape of our X and y\n",
    "print(\"Shape of X:\", X.shape)\n",
    "print(\"Shape of y:\", y.shape)"
   ]
  },
  {
   "cell_type": "markdown",
   "id": "16ea4ec6",
   "metadata": {},
   "source": [
    "# Exploratory Data Analysis"
   ]
  },
  {
   "cell_type": "markdown",
   "id": "f71cd015",
   "metadata": {},
   "source": [
    "This is the content of the dataset"
   ]
  },
  {
   "cell_type": "code",
   "execution_count": null,
   "id": "5edeccd2",
   "metadata": {
    "scrolled": true
   },
   "outputs": [],
   "source": [
    "print(\"First 5 rows of the dataset:\")\n",
    "df.head()"
   ]
  },
  {
   "cell_type": "code",
   "execution_count": null,
   "id": "a31e7989",
   "metadata": {},
   "outputs": [],
   "source": [
    "df.plot(x='current_minute', y='target', style='o')\n",
    "plt.xlabel('remaining_time')\n",
    "plt.ylabel('target')\n",
    "plt.show()"
   ]
  },
  {
   "cell_type": "markdown",
   "id": "3e981834",
   "metadata": {},
   "source": [
    "Basic summary statistics for numerical values.  \n",
    "Chart above shows that some snapshots had goals. Others had none. The data given does not have enough resolution to resolve when goals were made."
   ]
  },
  {
   "cell_type": "code",
   "execution_count": null,
   "id": "e782a0f9",
   "metadata": {
    "scrolled": true
   },
   "outputs": [],
   "source": [
    "print(\"\\nSummary statistics of numerical features:\")\n",
    "df.describe()"
   ]
  },
  {
   "cell_type": "markdown",
   "id": "6f13dccc",
   "metadata": {},
   "source": [
    "Scatterplot matrix for pairs of numerical features"
   ]
  },
  {
   "cell_type": "code",
   "execution_count": null,
   "id": "a3bbf363",
   "metadata": {},
   "outputs": [],
   "source": [
    "print(\"\\nPairplot for numerical features:\")\n",
    "scatter_matrix = pd.plotting.scatter_matrix(df[['home_score', 'away_score', 'home_yellow_cards', 'away_yellow_cards', 'home_possession', 'away_possession']], figsize=(12, 8))\n",
    "plt.show()"
   ]
  },
  {
   "cell_type": "markdown",
   "id": "8253e5fd",
   "metadata": {},
   "source": [
    "Histogram that shows the distribution of home and away scores"
   ]
  },
  {
   "cell_type": "code",
   "execution_count": null,
   "id": "01d4130f",
   "metadata": {},
   "outputs": [],
   "source": [
    "print(\"\\nDistribution of home and away scores:\")\n",
    "plt.figure(figsize=(12, 6))\n",
    "plt.hist(df['home_score'], bins=20, alpha=0.5, label='Home Score', color='blue')\n",
    "plt.hist(df['away_score'], bins=20, alpha=0.5, label='Away Score', color='red')\n",
    "plt.title('Distribution of Home and Away Scores')\n",
    "plt.legend()\n",
    "plt.show()"
   ]
  },
  {
   "cell_type": "markdown",
   "id": "097735da-e8c5-4353-969c-fd7b8c2f9d44",
   "metadata": {},
   "source": [
    "# Data set splitting"
   ]
  },
  {
   "cell_type": "code",
   "execution_count": null,
   "id": "951260b3-0067-45f9-a2e2-43bd90de3df1",
   "metadata": {},
   "outputs": [],
   "source": [
    "# Split train and test data\n",
    "X_train, X_test, y_train, y_test = train_test_split(X, y, test_size=0.2, random_state=42)\n",
    "# Scale the data sets\n",
    "scaler = StandardScaler()\n",
    "X_train = scaler.fit_transform(X_train)\n",
    "X_test = scaler.transform(X_test)\n",
    "# split train data to test and validation sets equally\n",
    "# train data will train the initial  model\n",
    "# validation will be used to find the best hyper parameters\n",
    "X_train_1, X_val, y_train_1, y_val = train_test_split(X_train, y_train, test_size=0.8, random_state=42)"
   ]
  },
  {
   "cell_type": "markdown",
   "id": "82255aae-e70f-46d0-b350-8154baf095fe",
   "metadata": {},
   "source": [
    "# Helpers\n",
    "The cells below contain functions that will help with displaying things later"
   ]
  },
  {
   "cell_type": "code",
   "execution_count": null,
   "id": "dd06a8ce-55d6-4d18-81ab-7d69951dcdf0",
   "metadata": {},
   "outputs": [],
   "source": [
    "# predictions: model predictions\n",
    "# actual: the actual labels\n",
    "#mode: type of data set evaluated\n",
    "def show_metrics(true,predictions,mode = \"Train\"):\n",
    "    \n",
    "    accuracy = accuracy_score(true,predictions)\n",
    "    conf_matrix = confusion_matrix(true,predictions)\n",
    "    classification_rep = classification_report(true,predictions)\n",
    "    \n",
    "    print(f\"\\n{mode} Accuracy:\", accuracy)\n",
    "    print(f\"{mode} Confusion Matrix:\\n\", conf_matrix)\n",
    "    print(f\"{mode} Classification Report:\\n\", classification_rep)\n",
    "    return accuracy, conf_matrix,classification_rep"
   ]
  },
  {
   "cell_type": "code",
   "execution_count": null,
   "id": "603ace1a",
   "metadata": {},
   "outputs": [],
   "source": [
    "def show_mat(mat,title = \"Confusion Matrix\"):\n",
    "    fig, axes = plt.subplots(1, 1, figsize=(12, 4))\n",
    "    \n",
    "    # Confusion Matrix\n",
    "    sns.heatmap(mat, annot=True, fmt='d', cmap='Blues', cbar=False, ax=axes)\n",
    "    axes.set_xlabel('Predicted')\n",
    "    axes.set_ylabel('True')\n",
    "    axes.set_title(title)\n",
    "    \n",
    "    plt.show()"
   ]
  },
  {
   "cell_type": "markdown",
   "id": "c6389702",
   "metadata": {},
   "source": [
    "# Logistic Regression Model\n",
    "Since this is a classification task, Logistic regression can be applied. Its implementation is rather simple here."
   ]
  },
  {
   "cell_type": "markdown",
   "id": "6285a521-41ec-4b0e-adcd-9ff7f8142690",
   "metadata": {},
   "source": [
    "Step 1: Initialize and train the model"
   ]
  },
  {
   "cell_type": "code",
   "execution_count": 17,
   "id": "da869556-917a-4fe6-a64e-749bdac7ff81",
   "metadata": {},
   "outputs": [
    {
     "data": {
      "text/html": [
       "<style>#sk-container-id-1 {color: black;}#sk-container-id-1 pre{padding: 0;}#sk-container-id-1 div.sk-toggleable {background-color: white;}#sk-container-id-1 label.sk-toggleable__label {cursor: pointer;display: block;width: 100%;margin-bottom: 0;padding: 0.3em;box-sizing: border-box;text-align: center;}#sk-container-id-1 label.sk-toggleable__label-arrow:before {content: \"▸\";float: left;margin-right: 0.25em;color: #696969;}#sk-container-id-1 label.sk-toggleable__label-arrow:hover:before {color: black;}#sk-container-id-1 div.sk-estimator:hover label.sk-toggleable__label-arrow:before {color: black;}#sk-container-id-1 div.sk-toggleable__content {max-height: 0;max-width: 0;overflow: hidden;text-align: left;background-color: #f0f8ff;}#sk-container-id-1 div.sk-toggleable__content pre {margin: 0.2em;color: black;border-radius: 0.25em;background-color: #f0f8ff;}#sk-container-id-1 input.sk-toggleable__control:checked~div.sk-toggleable__content {max-height: 200px;max-width: 100%;overflow: auto;}#sk-container-id-1 input.sk-toggleable__control:checked~label.sk-toggleable__label-arrow:before {content: \"▾\";}#sk-container-id-1 div.sk-estimator input.sk-toggleable__control:checked~label.sk-toggleable__label {background-color: #d4ebff;}#sk-container-id-1 div.sk-label input.sk-toggleable__control:checked~label.sk-toggleable__label {background-color: #d4ebff;}#sk-container-id-1 input.sk-hidden--visually {border: 0;clip: rect(1px 1px 1px 1px);clip: rect(1px, 1px, 1px, 1px);height: 1px;margin: -1px;overflow: hidden;padding: 0;position: absolute;width: 1px;}#sk-container-id-1 div.sk-estimator {font-family: monospace;background-color: #f0f8ff;border: 1px dotted black;border-radius: 0.25em;box-sizing: border-box;margin-bottom: 0.5em;}#sk-container-id-1 div.sk-estimator:hover {background-color: #d4ebff;}#sk-container-id-1 div.sk-parallel-item::after {content: \"\";width: 100%;border-bottom: 1px solid gray;flex-grow: 1;}#sk-container-id-1 div.sk-label:hover label.sk-toggleable__label {background-color: #d4ebff;}#sk-container-id-1 div.sk-serial::before {content: \"\";position: absolute;border-left: 1px solid gray;box-sizing: border-box;top: 0;bottom: 0;left: 50%;z-index: 0;}#sk-container-id-1 div.sk-serial {display: flex;flex-direction: column;align-items: center;background-color: white;padding-right: 0.2em;padding-left: 0.2em;position: relative;}#sk-container-id-1 div.sk-item {position: relative;z-index: 1;}#sk-container-id-1 div.sk-parallel {display: flex;align-items: stretch;justify-content: center;background-color: white;position: relative;}#sk-container-id-1 div.sk-item::before, #sk-container-id-1 div.sk-parallel-item::before {content: \"\";position: absolute;border-left: 1px solid gray;box-sizing: border-box;top: 0;bottom: 0;left: 50%;z-index: -1;}#sk-container-id-1 div.sk-parallel-item {display: flex;flex-direction: column;z-index: 1;position: relative;background-color: white;}#sk-container-id-1 div.sk-parallel-item:first-child::after {align-self: flex-end;width: 50%;}#sk-container-id-1 div.sk-parallel-item:last-child::after {align-self: flex-start;width: 50%;}#sk-container-id-1 div.sk-parallel-item:only-child::after {width: 0;}#sk-container-id-1 div.sk-dashed-wrapped {border: 1px dashed gray;margin: 0 0.4em 0.5em 0.4em;box-sizing: border-box;padding-bottom: 0.4em;background-color: white;}#sk-container-id-1 div.sk-label label {font-family: monospace;font-weight: bold;display: inline-block;line-height: 1.2em;}#sk-container-id-1 div.sk-label-container {text-align: center;}#sk-container-id-1 div.sk-container {/* jupyter's `normalize.less` sets `[hidden] { display: none; }` but bootstrap.min.css set `[hidden] { display: none !important; }` so we also need the `!important` here to be able to override the default hidden behavior on the sphinx rendered scikit-learn.org. See: https://github.com/scikit-learn/scikit-learn/issues/21755 */display: inline-block !important;position: relative;}#sk-container-id-1 div.sk-text-repr-fallback {display: none;}</style><div id=\"sk-container-id-1\" class=\"sk-top-container\"><div class=\"sk-text-repr-fallback\"><pre>LogisticRegression(n_jobs=-1)</pre><b>In a Jupyter environment, please rerun this cell to show the HTML representation or trust the notebook. <br />On GitHub, the HTML representation is unable to render, please try loading this page with nbviewer.org.</b></div><div class=\"sk-container\" hidden><div class=\"sk-item\"><div class=\"sk-estimator sk-toggleable\"><input class=\"sk-toggleable__control sk-hidden--visually\" id=\"sk-estimator-id-1\" type=\"checkbox\" checked><label for=\"sk-estimator-id-1\" class=\"sk-toggleable__label sk-toggleable__label-arrow\">LogisticRegression</label><div class=\"sk-toggleable__content\"><pre>LogisticRegression(n_jobs=-1)</pre></div></div></div></div></div>"
      ],
      "text/plain": [
       "LogisticRegression(max_iter=10000, n_jobs=-1)"
      ]
     },
     "execution_count": 17,
     "metadata": {},
     "output_type": "execute_result"
    }
   ],
   "source": [
    "logreg = LogisticRegression(n_jobs = -1, max_iter = 10000)\n",
    "logreg.fit(X_train_1,y_train_1)"
   ]
  },
  {
   "cell_type": "markdown",
   "id": "c29dad24-63f7-4014-aba1-7a9b17dd6c81",
   "metadata": {},
   "source": [
    "Step 2: validate initial model"
   ]
  },
  {
   "cell_type": "code",
   "execution_count": 18,
   "id": "16371e56-02b7-4510-ba58-01f81cf468be",
   "metadata": {},
   "outputs": [
    {
     "name": "stdout",
     "output_type": "stream",
     "text": [
      "\n",
      "Train Accuracy: 0.8041825095057035\n",
      "Train Confusion Matrix:\n",
      " [[263 112]\n",
      " [ 94 583]]\n",
      "Train Classification Report:\n",
      "               precision    recall  f1-score   support\n",
      "\n",
      "           0       0.74      0.70      0.72       375\n",
      "           1       0.84      0.86      0.85       677\n",
      "\n",
      "    accuracy                           0.80      1052\n",
      "   macro avg       0.79      0.78      0.78      1052\n",
      "weighted avg       0.80      0.80      0.80      1052\n",
      "\n"
     ]
    },
    {
     "data": {
      "image/png": "[encoded data removed]",
      "text/plain": [
       "<Figure size 1200x400 with 1 Axes>"
      ]
     },
     "metadata": {},
     "output_type": "display_data"
    }
   ],
   "source": [
    "# This is the training \n",
    "metrics = show_metrics(y_train_1,logreg.predict(X_train_1))\n",
    "show_mat(metrics[1])"
   ]
  },
  {
   "cell_type": "markdown",
   "id": "ca4cb018",
   "metadata": {},
   "source": [
    "Based on the class report, the model gives us approximately 80.42% accuracy of predictions for the train set. \n",
    "\n",
    "The confusion matrix gives us:\n",
    "True Positives: 583\n",
    "True Negatives: 263\n",
    "False Positives: 112\n",
    "False Negatives: 94\n",
    "\n",
    "There is also a decent balance between the recall and precision for predicting whether one or more goals will be scored in the remaining time of a match."
   ]
  },
  {
   "cell_type": "code",
   "execution_count": 19,
   "id": "6e3f9fa9-2dca-4eb5-8721-5738bff651e4",
   "metadata": {
    "scrolled": true
   },
   "outputs": [
    {
     "name": "stdout",
     "output_type": "stream",
     "text": [
      "\n",
      "Train Accuracy: 0.7963525835866262\n",
      "Train Confusion Matrix:\n",
      " [[300 137]\n",
      " [131 748]]\n",
      "Train Classification Report:\n",
      "               precision    recall  f1-score   support\n",
      "\n",
      "           0       0.70      0.69      0.69       437\n",
      "           1       0.85      0.85      0.85       879\n",
      "\n",
      "    accuracy                           0.80      1316\n",
      "   macro avg       0.77      0.77      0.77      1316\n",
      "weighted avg       0.80      0.80      0.80      1316\n",
      "\n"
     ]
    },
    {
     "data": {
      "image/png": "[encoded data removed]",
      "text/plain": [
       "<Figure size 1200x400 with 1 Axes>"
      ]
     },
     "metadata": {},
     "output_type": "display_data"
    }
   ],
   "source": [
    "# get test accuracy with a validation set\n",
    "test_pred = logreg.predict(X_test)\n",
    "metrics = show_metrics(y_test,test_pred)\n",
    "show_mat(metrics[1])\n"
   ]
  },
  {
   "cell_type": "markdown",
   "id": "bc764161",
   "metadata": {},
   "source": [
    "The accuracy on the validation set (79.64%) is slightly lower than the accuracy on the training set (80.42%). This model performed slightly lower on new, unseen data on the validation set. \n",
    "\n",
    "The confusion matrix gives us:\n",
    "True Positives: 748\n",
    "True Negatives: 300\n",
    "False Positives: 137\n",
    "False Negatives: 131\n",
    "\n",
    "The confusion matrices show a similar pattern in terms of True Positives, True Negatives, False Positives, and False Negatives between the training and validation sets. Precision, recall, and F1-score for class (1) are also slightly consistent between the training and validation sets, indicating that the model's performance on predicting one or more goals is similar on both datasets."
   ]
  },
  {
   "cell_type": "markdown",
   "id": "1131edb3",
   "metadata": {},
   "source": [
    "Step 3: Find the best hyper parameters for the model"
   ]
  },
  {
   "cell_type": "markdown",
   "id": "9dbc0f0a-587c-42a1-a508-a432ee1047fa",
   "metadata": {},
   "source": [
    "This is the grid of possible hyperparameter values to use. Dropped the solvers that use hessian matrix. Gridsearch practically did not finish. The regularization is only l2 because that is the only regularization function that all the solvers use. It is the default regularization. Regularization term C, tolerance, and the maximum iterations are only limited for demonstration purposes."
   ]
  },
  {
   "cell_type": "code",
   "execution_count": 20,
   "id": "1ee868f7-ad08-4bb8-81c7-ce0513db2529",
   "metadata": {},
   "outputs": [],
   "source": [
    "hpg = {'solver' : ['lbfgs', 'liblinear',  'sag','saga'],\n",
    "      'fit_intercept' : [True,False],\n",
    "       'class_weight' : [None, 'balanced'],\n",
    "       # 'max_iter': [i for i in range(100,1000, 100)],\n",
    "       'C' : [1.0,1.1,1.01,1.001,1.0001,1.00001],\n",
    "       'tol' : [1e-5,1e-4,1e-3,1e-2,1e-1],\n",
    "      }"
   ]
  },
  {
   "cell_type": "markdown",
   "id": "92f2f472-d9aa-48c3-bbbf-6179501f2b84",
   "metadata": {},
   "source": [
    "Let the searching commence."
   ]
  },
  {
   "cell_type": "code",
   "execution_count": 21,
   "id": "bc1c76e3-8bc5-42b7-ba69-abfa29f3ff18",
   "metadata": {},
   "outputs": [],
   "source": [
    "finder = GridSearchCV(logreg,hpg,n_jobs = -1,refit = True,scoring = 'f1',error_score='raise')"
   ]
  },
  {
   "cell_type": "code",
   "execution_count": null,
   "id": "867bdf33-451f-463e-97c2-af33cc7ba852",
   "metadata": {},
   "outputs": [],
   "source": [
    "finder.fit(X_val, y_val)"
   ]
  },
  {
   "cell_type": "code",
   "execution_count": null,
   "id": "b30c38c3-0201-455b-9ad9-8e5eebdf714a",
   "metadata": {},
   "outputs": [],
   "source": [
    "finder.best_params_"
   ]
  },
  {
   "cell_type": "code",
   "execution_count": 24,
   "id": "fd8e4036-ad03-4020-b89a-a565900c65ff",
   "metadata": {},
   "outputs": [],
   "source": [
    "logreg = finder.best_estimator_"
   ]
  },
  {
   "cell_type": "markdown",
   "id": "ee35f653",
   "metadata": {},
   "source": [
    "To evaluate the model, we will get the training accuracy first. We used the validation set for training since the Training dataset was already used to train the initial model."
   ]
  },
  {
   "cell_type": "code",
   "execution_count": 25,
   "id": "adf20afe-9c03-4503-ad12-4f134b37360e",
   "metadata": {
    "scrolled": true
   },
   "outputs": [
    {
     "name": "stdout",
     "output_type": "stream",
     "text": [
      "\n",
      "Train Accuracy: 0.7823711095272036\n",
      "Train Confusion Matrix:\n",
      " [[ 989  504]\n",
      " [ 412 2304]]\n",
      "Train Classification Report:\n",
      "               precision    recall  f1-score   support\n",
      "\n",
      "           0       0.71      0.66      0.68      1493\n",
      "           1       0.82      0.85      0.83      2716\n",
      "\n",
      "    accuracy                           0.78      4209\n",
      "   macro avg       0.76      0.76      0.76      4209\n",
      "weighted avg       0.78      0.78      0.78      4209\n",
      "\n"
     ]
    },
    {
     "data": {
      "image/png": "[encoded data removed]",
      "text/plain": [
       "<Figure size 1200x400 with 1 Axes>"
      ]
     },
     "metadata": {},
     "output_type": "display_data"
    }
   ],
   "source": [
    "train_predictions = logreg.predict(X_val)\n",
    "acc, mat, class_rep = show_metrics(y_val,train_predictions,\"Train\")\n",
    "show_mat(mat,\"Best Model Confusion Matrix, Train Set\")"
   ]
  },
  {
   "cell_type": "markdown",
   "id": "b2bb1a3a",
   "metadata": {},
   "source": [
    "The accuracy slightly decreased after hyperparameter tuning, going from 80.42% to approximately 78%. This could be due to the model being more conservative after tuning.\n",
    "\n",
    "There is a notable increase in both true positives (TP) and true negatives (TN) after hyperparameter tuning. However, false positives (FP) and false negatives (FN) have also increased.\n",
    "\n",
    "The precision for class 1 remained the same, but recall and f1-score slightly decreased. This indicates that the model is still good at identifying instances of class 1, though there is still a chance that it does not capture some data points."
   ]
  },
  {
   "cell_type": "markdown",
   "id": "1cda9b87",
   "metadata": {},
   "source": [
    "After evaluating the model on the validation set, we will now evaluate it on the test set to see how well it can predict on its own."
   ]
  },
  {
   "cell_type": "code",
   "execution_count": 26,
   "id": "d6138f1f",
   "metadata": {},
   "outputs": [],
   "source": [
    "# Make predictions on the test setn\n",
    "test_predictions = logreg.predict(X_test)"
   ]
  },
  {
   "cell_type": "code",
   "execution_count": 27,
   "id": "9b153db6",
   "metadata": {},
   "outputs": [
    {
     "name": "stdout",
     "output_type": "stream",
     "text": [
      "\n",
      "Train Accuracy: 0.7963525835866262\n",
      "Train Confusion Matrix:\n",
      " [[301 136]\n",
      " [132 747]]\n",
      "Train Classification Report:\n",
      "               precision    recall  f1-score   support\n",
      "\n",
      "           0       0.70      0.69      0.69       437\n",
      "           1       0.85      0.85      0.85       879\n",
      "\n",
      "    accuracy                           0.80      1316\n",
      "   macro avg       0.77      0.77      0.77      1316\n",
      "weighted avg       0.80      0.80      0.80      1316\n",
      "\n"
     ]
    },
    {
     "data": {
      "image/png": "[encoded data removed]",
      "text/plain": [
       "<Figure size 1200x400 with 1 Axes>"
      ]
     },
     "metadata": {},
     "output_type": "display_data"
    }
   ],
   "source": [
    "# Evaluate the model on the test set\n",
    "metrics = show_metrics(y_test,test_predictions)\n",
    "show_mat(metrics[1], \"Test Data Confusion Matrix\")"
   ]
  },
  {
   "cell_type": "markdown",
   "id": "baccaef9",
   "metadata": {},
   "source": [
    "We can see that the accuracy on the test set (79.64%) is very close to the accuracy on the training set (78%). This suggests that the model is generalizing well to new, unseen data.\n",
    "\n",
    "The true positives (TP) and true negatives (TN) on the test set are similar to those on the training set. False positives (FP) and false negatives (FN) also exhibit similar patterns.\n",
    "\n",
    "The precision, recall, and f1-score for both classes (0 and 1) are consistent between the test and training sets. This indicates that the model's performance is stable across the two datasets."
   ]
  },
  {
   "cell_type": "markdown",
   "id": "0a8102e9",
   "metadata": {},
   "source": [
    "# Logistic Regression Model Conclusions\n",
    "\n",
    "After hyperparameter tuning, the test set performance is similar to the training set performance, suggesting that the model generalizes well to the test set. The hyperparameter-tuned model appears to be robust and not overfit to the training data based on the consistency of metrics between the training and test sets."
   ]
  },
  {
   "cell_type": "markdown",
   "id": "42086e59-bdd3-4182-813a-8f35bfcc333b",
   "metadata": {},
   "source": [
    "# Random Forest Classifier"
   ]
  },
  {
   "cell_type": "code",
   "execution_count": null,
   "id": "9a2a1401-639c-4663-8c84-25106a1f07b3",
   "metadata": {},
   "outputs": [],
   "source": [
    "rfr = RandomForestaClassifier()\n",
    "rfr.fit(X_train_1,y_train_1)"
   ]
  }
 ],
 "metadata": {
  "kernelspec": {
   "display_name": "Python 3 (ipykernel)",
   "language": "python",
   "name": "python3"
  },
  "language_info": {
   "codemirror_mode": {
    "name": "ipython",
    "version": 3
   },
   "file_extension": ".py",
   "mimetype": "text/x-python",
   "name": "python",
   "nbconvert_exporter": "python",
   "pygments_lexer": "ipython3",
   "version": "3.11.5"
  }
 },
 "nbformat": 4,
 "nbformat_minor": 5
}
