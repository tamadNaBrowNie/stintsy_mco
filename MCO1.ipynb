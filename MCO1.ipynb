{
 "cells": [
  {
   "cell_type": "markdown",
   "id": "09302bc8",
   "metadata": {},
   "source": [
    "# Sports Dataset\n",
    "\n",
    "10,000 random photos from soccer matches captured at a single timestamp make up the dataset. Every snapshot has a number of elements that offer details on the current match. The objective of the dataset is to capture the evolving dynamics of a soccer game, and to make predictions for the number of goals that will be scored for the remaining playing time."
   ]
  },
  {
   "cell_type": "markdown",
   "id": "0caa0afd",
   "metadata": {},
   "source": [
    "# Dataset Structure\n",
    "\n",
    "The dataset is presented in a single file with 10,000 rows and 20 columns, each row representing a snapshot of a soccer match, and each column representing a specific attribute or feature of that snapshot.\n",
    "\n",
    "Number of Instances (Rows): 10,000 instances \n",
    "Number of Features (Columns): 20 features/columns "
   ]
  },
  {
   "cell_type": "markdown",
   "id": "e3270845",
   "metadata": {},
   "source": [
    "# Feature Representation\n",
    "\n",
    "The features include identifiers such as uuid, and dynamic match-related details such as the current minute of play, home and away team scores, yellow and red cards for both teams, the number of attacks and dangerous attacks by each team, corners awarded, shots on and off target for both teams, and the ball possession percentage for both the home and away teams until the current minute."
   ]
  },
  {
   "cell_type": "markdown",
   "id": "1da51430",
   "metadata": {},
   "source": [
    "# Libraries\n",
    "\n",
    "- pandas\n",
    "- numpy\n",
    "- matplotlib\n",
    "- pickle\n",
    "- os\n",
    "- sklearn\n",
    "- pytorch\n",
    "- scipy"
   ]
  },
  {
   "cell_type": "code",
   "execution_count": 162,
   "id": "442b3c67",
   "metadata": {
    "tags": []
   },
   "outputs": [],
   "source": [
    "import pandas as pd\n",
    "import matplotlib.pyplot as plt\n",
    "import numpy as np\n",
    "import pickle\n",
    "import os\n",
    "import seaborn as sns\n",
    "import torch\n",
    "from sklearn.model_selection import GridSearchCV\n",
    "from sklearn.metrics import accuracy_score, classification_report, confusion_matrix\n",
    "from sklearn.model_selection import cross_val_predict, cross_val_score\n",
    "from sklearn import preprocessing\n",
    "from sklearn.model_selection import train_test_split\n",
    "from sklearn.linear_model import LogisticRegression\n",
    "from sklearn.preprocessing import StandardScaler\n",
    "from sklearn.tree import DecisionTreeClassifier"
   ]
  },
  {
   "cell_type": "code",
   "execution_count": 163,
   "id": "fd43de47-6ab2-4693-8401-e426983a3f62",
   "metadata": {
    "scrolled": true,
    "tags": []
   },
   "outputs": [
    {
     "data": {
      "text/html": [
       "<div>\n",
       "<style scoped>\n",
       "    .dataframe tbody tr th:only-of-type {\n",
       "        vertical-align: middle;\n",
       "    }\n",
       "\n",
       "    .dataframe tbody tr th {\n",
       "        vertical-align: top;\n",
       "    }\n",
       "\n",
       "    .dataframe thead th {\n",
       "        text-align: right;\n",
       "    }\n",
       "</style>\n",
       "<table border=\"1\" class=\"dataframe\">\n",
       "  <thead>\n",
       "    <tr style=\"text-align: right;\">\n",
       "      <th></th>\n",
       "      <th>uuid</th>\n",
       "      <th>current_minute</th>\n",
       "      <th>home_score</th>\n",
       "      <th>away_score</th>\n",
       "      <th>home_yellow_cards</th>\n",
       "      <th>away_yellow_cards</th>\n",
       "      <th>home_red_cards</th>\n",
       "      <th>away_red_cards</th>\n",
       "      <th>home_attacks</th>\n",
       "      <th>away_attacks</th>\n",
       "      <th>...</th>\n",
       "      <th>away_dangerous_attacks</th>\n",
       "      <th>home_corners</th>\n",
       "      <th>away_corners</th>\n",
       "      <th>home_off_target</th>\n",
       "      <th>away_off_target</th>\n",
       "      <th>home_on_target</th>\n",
       "      <th>away_on_target</th>\n",
       "      <th>home_possession</th>\n",
       "      <th>away_possession</th>\n",
       "      <th>final_delta</th>\n",
       "    </tr>\n",
       "  </thead>\n",
       "  <tbody>\n",
       "    <tr>\n",
       "      <th>0</th>\n",
       "      <td>2f9dd904-8d9d-4aa0-a9d9-4e0f3e50d742</td>\n",
       "      <td>94</td>\n",
       "      <td>1</td>\n",
       "      <td>2</td>\n",
       "      <td>0</td>\n",
       "      <td>0</td>\n",
       "      <td>0</td>\n",
       "      <td>0</td>\n",
       "      <td>39</td>\n",
       "      <td>45</td>\n",
       "      <td>...</td>\n",
       "      <td>26</td>\n",
       "      <td>4</td>\n",
       "      <td>1</td>\n",
       "      <td>4</td>\n",
       "      <td>0</td>\n",
       "      <td>4</td>\n",
       "      <td>6</td>\n",
       "      <td>48</td>\n",
       "      <td>52</td>\n",
       "      <td>1</td>\n",
       "    </tr>\n",
       "    <tr>\n",
       "      <th>1</th>\n",
       "      <td>869c1420-9153-4d73-8d79-5db31a8a80a4</td>\n",
       "      <td>91</td>\n",
       "      <td>2</td>\n",
       "      <td>0</td>\n",
       "      <td>0</td>\n",
       "      <td>0</td>\n",
       "      <td>0</td>\n",
       "      <td>0</td>\n",
       "      <td>0</td>\n",
       "      <td>0</td>\n",
       "      <td>...</td>\n",
       "      <td>0</td>\n",
       "      <td>0</td>\n",
       "      <td>0</td>\n",
       "      <td>0</td>\n",
       "      <td>0</td>\n",
       "      <td>0</td>\n",
       "      <td>0</td>\n",
       "      <td>50</td>\n",
       "      <td>50</td>\n",
       "      <td>1</td>\n",
       "    </tr>\n",
       "    <tr>\n",
       "      <th>2</th>\n",
       "      <td>549e25a3-4c93-459d-b115-fb303273c78a</td>\n",
       "      <td>3</td>\n",
       "      <td>0</td>\n",
       "      <td>0</td>\n",
       "      <td>0</td>\n",
       "      <td>0</td>\n",
       "      <td>0</td>\n",
       "      <td>0</td>\n",
       "      <td>3</td>\n",
       "      <td>1</td>\n",
       "      <td>...</td>\n",
       "      <td>0</td>\n",
       "      <td>0</td>\n",
       "      <td>0</td>\n",
       "      <td>0</td>\n",
       "      <td>0</td>\n",
       "      <td>0</td>\n",
       "      <td>0</td>\n",
       "      <td>62</td>\n",
       "      <td>38</td>\n",
       "      <td>4</td>\n",
       "    </tr>\n",
       "    <tr>\n",
       "      <th>3</th>\n",
       "      <td>287b4be5-9163-4e2e-895d-d11052a97410</td>\n",
       "      <td>17</td>\n",
       "      <td>0</td>\n",
       "      <td>0</td>\n",
       "      <td>1</td>\n",
       "      <td>0</td>\n",
       "      <td>0</td>\n",
       "      <td>0</td>\n",
       "      <td>41</td>\n",
       "      <td>46</td>\n",
       "      <td>...</td>\n",
       "      <td>25</td>\n",
       "      <td>1</td>\n",
       "      <td>0</td>\n",
       "      <td>0</td>\n",
       "      <td>2</td>\n",
       "      <td>0</td>\n",
       "      <td>0</td>\n",
       "      <td>55</td>\n",
       "      <td>45</td>\n",
       "      <td>2</td>\n",
       "    </tr>\n",
       "    <tr>\n",
       "      <th>4</th>\n",
       "      <td>a607da6a-d6b2-4652-b7a5-6c8e4b61c2b8</td>\n",
       "      <td>76</td>\n",
       "      <td>1</td>\n",
       "      <td>0</td>\n",
       "      <td>1</td>\n",
       "      <td>0</td>\n",
       "      <td>0</td>\n",
       "      <td>0</td>\n",
       "      <td>69</td>\n",
       "      <td>78</td>\n",
       "      <td>...</td>\n",
       "      <td>46</td>\n",
       "      <td>1</td>\n",
       "      <td>1</td>\n",
       "      <td>0</td>\n",
       "      <td>3</td>\n",
       "      <td>4</td>\n",
       "      <td>4</td>\n",
       "      <td>45</td>\n",
       "      <td>55</td>\n",
       "      <td>0</td>\n",
       "    </tr>\n",
       "    <tr>\n",
       "      <th>...</th>\n",
       "      <td>...</td>\n",
       "      <td>...</td>\n",
       "      <td>...</td>\n",
       "      <td>...</td>\n",
       "      <td>...</td>\n",
       "      <td>...</td>\n",
       "      <td>...</td>\n",
       "      <td>...</td>\n",
       "      <td>...</td>\n",
       "      <td>...</td>\n",
       "      <td>...</td>\n",
       "      <td>...</td>\n",
       "      <td>...</td>\n",
       "      <td>...</td>\n",
       "      <td>...</td>\n",
       "      <td>...</td>\n",
       "      <td>...</td>\n",
       "      <td>...</td>\n",
       "      <td>...</td>\n",
       "      <td>...</td>\n",
       "      <td>...</td>\n",
       "    </tr>\n",
       "    <tr>\n",
       "      <th>6995</th>\n",
       "      <td>838f35c5-afa3-474b-876e-063fd49d4326</td>\n",
       "      <td>32</td>\n",
       "      <td>0</td>\n",
       "      <td>0</td>\n",
       "      <td>0</td>\n",
       "      <td>0</td>\n",
       "      <td>0</td>\n",
       "      <td>0</td>\n",
       "      <td>16</td>\n",
       "      <td>25</td>\n",
       "      <td>...</td>\n",
       "      <td>13</td>\n",
       "      <td>0</td>\n",
       "      <td>1</td>\n",
       "      <td>1</td>\n",
       "      <td>2</td>\n",
       "      <td>0</td>\n",
       "      <td>1</td>\n",
       "      <td>45</td>\n",
       "      <td>55</td>\n",
       "      <td>0</td>\n",
       "    </tr>\n",
       "    <tr>\n",
       "      <th>6996</th>\n",
       "      <td>4bcfd248-5f39-4af2-b465-5358c9e7088e</td>\n",
       "      <td>101</td>\n",
       "      <td>3</td>\n",
       "      <td>0</td>\n",
       "      <td>0</td>\n",
       "      <td>1</td>\n",
       "      <td>0</td>\n",
       "      <td>0</td>\n",
       "      <td>0</td>\n",
       "      <td>0</td>\n",
       "      <td>...</td>\n",
       "      <td>0</td>\n",
       "      <td>0</td>\n",
       "      <td>0</td>\n",
       "      <td>0</td>\n",
       "      <td>0</td>\n",
       "      <td>0</td>\n",
       "      <td>0</td>\n",
       "      <td>50</td>\n",
       "      <td>50</td>\n",
       "      <td>0</td>\n",
       "    </tr>\n",
       "    <tr>\n",
       "      <th>6997</th>\n",
       "      <td>deccdc2c-625e-495a-9b06-02d540d4cd24</td>\n",
       "      <td>78</td>\n",
       "      <td>1</td>\n",
       "      <td>0</td>\n",
       "      <td>0</td>\n",
       "      <td>0</td>\n",
       "      <td>0</td>\n",
       "      <td>0</td>\n",
       "      <td>71</td>\n",
       "      <td>60</td>\n",
       "      <td>...</td>\n",
       "      <td>40</td>\n",
       "      <td>7</td>\n",
       "      <td>0</td>\n",
       "      <td>5</td>\n",
       "      <td>5</td>\n",
       "      <td>7</td>\n",
       "      <td>0</td>\n",
       "      <td>61</td>\n",
       "      <td>39</td>\n",
       "      <td>2</td>\n",
       "    </tr>\n",
       "    <tr>\n",
       "      <th>6998</th>\n",
       "      <td>94a20308-55d8-47cb-8f8b-d2702a531c74</td>\n",
       "      <td>72</td>\n",
       "      <td>2</td>\n",
       "      <td>0</td>\n",
       "      <td>0</td>\n",
       "      <td>0</td>\n",
       "      <td>0</td>\n",
       "      <td>0</td>\n",
       "      <td>85</td>\n",
       "      <td>66</td>\n",
       "      <td>...</td>\n",
       "      <td>20</td>\n",
       "      <td>3</td>\n",
       "      <td>0</td>\n",
       "      <td>4</td>\n",
       "      <td>1</td>\n",
       "      <td>2</td>\n",
       "      <td>1</td>\n",
       "      <td>52</td>\n",
       "      <td>48</td>\n",
       "      <td>0</td>\n",
       "    </tr>\n",
       "    <tr>\n",
       "      <th>6999</th>\n",
       "      <td>0362876c-00dc-428f-a278-303d175a6ad2</td>\n",
       "      <td>8</td>\n",
       "      <td>0</td>\n",
       "      <td>0</td>\n",
       "      <td>0</td>\n",
       "      <td>0</td>\n",
       "      <td>0</td>\n",
       "      <td>0</td>\n",
       "      <td>6</td>\n",
       "      <td>14</td>\n",
       "      <td>...</td>\n",
       "      <td>3</td>\n",
       "      <td>0</td>\n",
       "      <td>0</td>\n",
       "      <td>0</td>\n",
       "      <td>0</td>\n",
       "      <td>0</td>\n",
       "      <td>0</td>\n",
       "      <td>31</td>\n",
       "      <td>69</td>\n",
       "      <td>1</td>\n",
       "    </tr>\n",
       "  </tbody>\n",
       "</table>\n",
       "<p>7000 rows × 21 columns</p>\n",
       "</div>"
      ],
      "text/plain": [
       "                                      uuid  current_minute  home_score  \\\n",
       "0     2f9dd904-8d9d-4aa0-a9d9-4e0f3e50d742              94           1   \n",
       "1     869c1420-9153-4d73-8d79-5db31a8a80a4              91           2   \n",
       "2     549e25a3-4c93-459d-b115-fb303273c78a               3           0   \n",
       "3     287b4be5-9163-4e2e-895d-d11052a97410              17           0   \n",
       "4     a607da6a-d6b2-4652-b7a5-6c8e4b61c2b8              76           1   \n",
       "...                                    ...             ...         ...   \n",
       "6995  838f35c5-afa3-474b-876e-063fd49d4326              32           0   \n",
       "6996  4bcfd248-5f39-4af2-b465-5358c9e7088e             101           3   \n",
       "6997  deccdc2c-625e-495a-9b06-02d540d4cd24              78           1   \n",
       "6998  94a20308-55d8-47cb-8f8b-d2702a531c74              72           2   \n",
       "6999  0362876c-00dc-428f-a278-303d175a6ad2               8           0   \n",
       "\n",
       "      away_score  home_yellow_cards  away_yellow_cards  home_red_cards  \\\n",
       "0              2                  0                  0               0   \n",
       "1              0                  0                  0               0   \n",
       "2              0                  0                  0               0   \n",
       "3              0                  1                  0               0   \n",
       "4              0                  1                  0               0   \n",
       "...          ...                ...                ...             ...   \n",
       "6995           0                  0                  0               0   \n",
       "6996           0                  0                  1               0   \n",
       "6997           0                  0                  0               0   \n",
       "6998           0                  0                  0               0   \n",
       "6999           0                  0                  0               0   \n",
       "\n",
       "      away_red_cards  home_attacks  away_attacks  ...  away_dangerous_attacks  \\\n",
       "0                  0            39            45  ...                      26   \n",
       "1                  0             0             0  ...                       0   \n",
       "2                  0             3             1  ...                       0   \n",
       "3                  0            41            46  ...                      25   \n",
       "4                  0            69            78  ...                      46   \n",
       "...              ...           ...           ...  ...                     ...   \n",
       "6995               0            16            25  ...                      13   \n",
       "6996               0             0             0  ...                       0   \n",
       "6997               0            71            60  ...                      40   \n",
       "6998               0            85            66  ...                      20   \n",
       "6999               0             6            14  ...                       3   \n",
       "\n",
       "      home_corners  away_corners  home_off_target  away_off_target  \\\n",
       "0                4             1                4                0   \n",
       "1                0             0                0                0   \n",
       "2                0             0                0                0   \n",
       "3                1             0                0                2   \n",
       "4                1             1                0                3   \n",
       "...            ...           ...              ...              ...   \n",
       "6995             0             1                1                2   \n",
       "6996             0             0                0                0   \n",
       "6997             7             0                5                5   \n",
       "6998             3             0                4                1   \n",
       "6999             0             0                0                0   \n",
       "\n",
       "      home_on_target  away_on_target  home_possession  away_possession  \\\n",
       "0                  4               6               48               52   \n",
       "1                  0               0               50               50   \n",
       "2                  0               0               62               38   \n",
       "3                  0               0               55               45   \n",
       "4                  4               4               45               55   \n",
       "...              ...             ...              ...              ...   \n",
       "6995               0               1               45               55   \n",
       "6996               0               0               50               50   \n",
       "6997               7               0               61               39   \n",
       "6998               2               1               52               48   \n",
       "6999               0               0               31               69   \n",
       "\n",
       "      final_delta  \n",
       "0               1  \n",
       "1               1  \n",
       "2               4  \n",
       "3               2  \n",
       "4               0  \n",
       "...           ...  \n",
       "6995            0  \n",
       "6996            0  \n",
       "6997            2  \n",
       "6998            0  \n",
       "6999            1  \n",
       "\n",
       "[7000 rows x 21 columns]"
      ]
     },
     "execution_count": 163,
     "metadata": {},
     "output_type": "execute_result"
    }
   ],
   "source": [
    "try:df = pd.read_csv(filepath_or_buffer = 'sports.csv', header = 0)\n",
    "except:df = pd.read_csv(filepath_or_buffer = 'Dataset 3 - Sports Dataset/sports.csv', header = 0)\n",
    "df"
   ]
  },
  {
   "cell_type": "markdown",
   "id": "eb117b6e",
   "metadata": {},
   "source": [
    "# Data Preprocessing\n",
    "Our objective for this project is to use the data given in the dataset to predict whether 1 or more goals can be scored in the remaining playing time of the match."
   ]
  },
  {
   "cell_type": "markdown",
   "id": "1817f26e-6fa3-4fe5-9218-cc983a20e278",
   "metadata": {},
   "source": [
    "Remove Missing Data"
   ]
  },
  {
   "cell_type": "code",
   "execution_count": 4,
   "id": "3dffecdb-d752-48c4-a996-e074e002d871",
   "metadata": {
    "scrolled": true
   },
   "outputs": [],
   "source": [
    "df.dropna(inplace=True)"
   ]
  },
  {
   "cell_type": "markdown",
   "id": "fa0978ff-c7c2-40c1-93d6-ed491f5881b4",
   "metadata": {},
   "source": [
    "UUID is an unique identifier. no need to keep it."
   ]
  },
  {
   "cell_type": "code",
   "execution_count": 5,
   "id": "8aae6059-7650-46a1-8d31-10c64cf6f85c",
   "metadata": {
    "scrolled": true
   },
   "outputs": [],
   "source": [
    "try:\n",
    "    df = df.drop(['uuid'], axis=1)\n",
    "except:\n",
    "    print('no uuid')"
   ]
  },
  {
   "cell_type": "markdown",
   "id": "c2b47730-39c7-47fe-afd8-766a2756f460",
   "metadata": {},
   "source": [
    "Use only data taken within the game time. Games last 105 minutes.  \n",
    "Then remove any data from halftime. Halftime should be around minute 45 to minute 60. Because of that, starting minute 60, subtract them by 15 to make data contiguous."
   ]
  },
  {
   "cell_type": "code",
   "execution_count": 6,
   "id": "678ebeae-34cc-4c76-bdd1-12027c476433",
   "metadata": {
    "scrolled": true
   },
   "outputs": [],
   "source": [
    "df = df.query('0<= current_minute <= 105 ')\n",
    "df = df.query('not (44 < current_minute <60)')\n",
    "df['current_minute'] = df['current_minute'].apply(lambda x: x-15 if x > 45 else x)"
   ]
  },
  {
   "cell_type": "markdown",
   "id": "b02bf09e-2286-46c2-9048-4b3ea9248902",
   "metadata": {},
   "source": [
    "<!-- df = df.groupby(df['current_minute'],as_index = False).aggregate('sum')\n",
    "Aggregating was temptying but the samples became to small to use \n",
    "Feature Scaling\n",
    "numerical_features = ['current_minute', 'home_score', 'away_score', 'home_yellow_cards', 'away_yellow_cards',\n",
    "                      'home_red_cards', 'away_red_cards', 'home_attacks', 'away_attacks', 'home_dangerous_attacks',\n",
    "                      'away_dangerous_attacks', 'home_corners', 'away_corners', 'home_off_target', 'away_off_target',\n",
    "                      'home_on_target', 'away_on_target', 'home_possession', 'away_possession'] -->"
   ]
  },
  {
   "cell_type": "code",
   "execution_count": 7,
   "id": "a8c2687b",
   "metadata": {},
   "outputs": [],
   "source": [
    "# the target variable indicates whether 1 goal or more will be scored with the remaining time of the match. it shows binary values\n",
    "df['target']= 0\n",
    "df.loc[df['home_score'] + df['away_score']>0,'target'] = 1\n",
    "\n",
    "X = df.drop(['target','home_score','away_score'], axis=1)\n",
    "y = df['target']\n"
   ]
  },
  {
   "cell_type": "code",
   "execution_count": 8,
   "id": "0fd06acd",
   "metadata": {},
   "outputs": [
    {
     "name": "stdout",
     "output_type": "stream",
     "text": [
      "Shape of X: (6577, 18)\n",
      "Shape of y: (6577,)\n"
     ]
    }
   ],
   "source": [
    "# Current shape of our X and y\n",
    "print(\"Shape of X:\", X.shape)\n",
    "print(\"Shape of y:\", y.shape)"
   ]
  },
  {
   "cell_type": "markdown",
   "id": "16ea4ec6",
   "metadata": {},
   "source": [
    "# Exploratory Data Analysis"
   ]
  },
  {
   "cell_type": "markdown",
   "id": "f71cd015",
   "metadata": {},
   "source": [
    "This is the content of the dataset"
   ]
  },
  {
   "cell_type": "code",
   "execution_count": 9,
   "id": "5edeccd2",
   "metadata": {
    "scrolled": true
   },
   "outputs": [
    {
     "name": "stdout",
     "output_type": "stream",
     "text": [
      "First 5 rows of the dataset:\n"
     ]
    },
    {
     "data": {
      "text/html": [
       "<div>\n",
       "<style scoped>\n",
       "    .dataframe tbody tr th:only-of-type {\n",
       "        vertical-align: middle;\n",
       "    }\n",
       "\n",
       "    .dataframe tbody tr th {\n",
       "        vertical-align: top;\n",
       "    }\n",
       "\n",
       "    .dataframe thead th {\n",
       "        text-align: right;\n",
       "    }\n",
       "</style>\n",
       "<table border=\"1\" class=\"dataframe\">\n",
       "  <thead>\n",
       "    <tr style=\"text-align: right;\">\n",
       "      <th></th>\n",
       "      <th>current_minute</th>\n",
       "      <th>home_score</th>\n",
       "      <th>away_score</th>\n",
       "      <th>home_yellow_cards</th>\n",
       "      <th>away_yellow_cards</th>\n",
       "      <th>home_red_cards</th>\n",
       "      <th>away_red_cards</th>\n",
       "      <th>home_attacks</th>\n",
       "      <th>away_attacks</th>\n",
       "      <th>home_dangerous_attacks</th>\n",
       "      <th>...</th>\n",
       "      <th>home_corners</th>\n",
       "      <th>away_corners</th>\n",
       "      <th>home_off_target</th>\n",
       "      <th>away_off_target</th>\n",
       "      <th>home_on_target</th>\n",
       "      <th>away_on_target</th>\n",
       "      <th>home_possession</th>\n",
       "      <th>away_possession</th>\n",
       "      <th>final_delta</th>\n",
       "      <th>target</th>\n",
       "    </tr>\n",
       "  </thead>\n",
       "  <tbody>\n",
       "    <tr>\n",
       "      <th>0</th>\n",
       "      <td>79</td>\n",
       "      <td>1</td>\n",
       "      <td>2</td>\n",
       "      <td>0</td>\n",
       "      <td>0</td>\n",
       "      <td>0</td>\n",
       "      <td>0</td>\n",
       "      <td>39</td>\n",
       "      <td>45</td>\n",
       "      <td>29</td>\n",
       "      <td>...</td>\n",
       "      <td>4</td>\n",
       "      <td>1</td>\n",
       "      <td>4</td>\n",
       "      <td>0</td>\n",
       "      <td>4</td>\n",
       "      <td>6</td>\n",
       "      <td>48</td>\n",
       "      <td>52</td>\n",
       "      <td>1</td>\n",
       "      <td>1</td>\n",
       "    </tr>\n",
       "    <tr>\n",
       "      <th>1</th>\n",
       "      <td>76</td>\n",
       "      <td>2</td>\n",
       "      <td>0</td>\n",
       "      <td>0</td>\n",
       "      <td>0</td>\n",
       "      <td>0</td>\n",
       "      <td>0</td>\n",
       "      <td>0</td>\n",
       "      <td>0</td>\n",
       "      <td>0</td>\n",
       "      <td>...</td>\n",
       "      <td>0</td>\n",
       "      <td>0</td>\n",
       "      <td>0</td>\n",
       "      <td>0</td>\n",
       "      <td>0</td>\n",
       "      <td>0</td>\n",
       "      <td>50</td>\n",
       "      <td>50</td>\n",
       "      <td>1</td>\n",
       "      <td>1</td>\n",
       "    </tr>\n",
       "    <tr>\n",
       "      <th>2</th>\n",
       "      <td>3</td>\n",
       "      <td>0</td>\n",
       "      <td>0</td>\n",
       "      <td>0</td>\n",
       "      <td>0</td>\n",
       "      <td>0</td>\n",
       "      <td>0</td>\n",
       "      <td>3</td>\n",
       "      <td>1</td>\n",
       "      <td>1</td>\n",
       "      <td>...</td>\n",
       "      <td>0</td>\n",
       "      <td>0</td>\n",
       "      <td>0</td>\n",
       "      <td>0</td>\n",
       "      <td>0</td>\n",
       "      <td>0</td>\n",
       "      <td>62</td>\n",
       "      <td>38</td>\n",
       "      <td>4</td>\n",
       "      <td>0</td>\n",
       "    </tr>\n",
       "    <tr>\n",
       "      <th>3</th>\n",
       "      <td>17</td>\n",
       "      <td>0</td>\n",
       "      <td>0</td>\n",
       "      <td>1</td>\n",
       "      <td>0</td>\n",
       "      <td>0</td>\n",
       "      <td>0</td>\n",
       "      <td>41</td>\n",
       "      <td>46</td>\n",
       "      <td>11</td>\n",
       "      <td>...</td>\n",
       "      <td>1</td>\n",
       "      <td>0</td>\n",
       "      <td>0</td>\n",
       "      <td>2</td>\n",
       "      <td>0</td>\n",
       "      <td>0</td>\n",
       "      <td>55</td>\n",
       "      <td>45</td>\n",
       "      <td>2</td>\n",
       "      <td>0</td>\n",
       "    </tr>\n",
       "    <tr>\n",
       "      <th>4</th>\n",
       "      <td>61</td>\n",
       "      <td>1</td>\n",
       "      <td>0</td>\n",
       "      <td>1</td>\n",
       "      <td>0</td>\n",
       "      <td>0</td>\n",
       "      <td>0</td>\n",
       "      <td>69</td>\n",
       "      <td>78</td>\n",
       "      <td>21</td>\n",
       "      <td>...</td>\n",
       "      <td>1</td>\n",
       "      <td>1</td>\n",
       "      <td>0</td>\n",
       "      <td>3</td>\n",
       "      <td>4</td>\n",
       "      <td>4</td>\n",
       "      <td>45</td>\n",
       "      <td>55</td>\n",
       "      <td>0</td>\n",
       "      <td>1</td>\n",
       "    </tr>\n",
       "  </tbody>\n",
       "</table>\n",
       "<p>5 rows × 21 columns</p>\n",
       "</div>"
      ],
      "text/plain": [
       "   current_minute  home_score  away_score  home_yellow_cards  \\\n",
       "0              79           1           2                  0   \n",
       "1              76           2           0                  0   \n",
       "2               3           0           0                  0   \n",
       "3              17           0           0                  1   \n",
       "4              61           1           0                  1   \n",
       "\n",
       "   away_yellow_cards  home_red_cards  away_red_cards  home_attacks  \\\n",
       "0                  0               0               0            39   \n",
       "1                  0               0               0             0   \n",
       "2                  0               0               0             3   \n",
       "3                  0               0               0            41   \n",
       "4                  0               0               0            69   \n",
       "\n",
       "   away_attacks  home_dangerous_attacks  ...  home_corners  away_corners  \\\n",
       "0            45                      29  ...             4             1   \n",
       "1             0                       0  ...             0             0   \n",
       "2             1                       1  ...             0             0   \n",
       "3            46                      11  ...             1             0   \n",
       "4            78                      21  ...             1             1   \n",
       "\n",
       "   home_off_target  away_off_target  home_on_target  away_on_target  \\\n",
       "0                4                0               4               6   \n",
       "1                0                0               0               0   \n",
       "2                0                0               0               0   \n",
       "3                0                2               0               0   \n",
       "4                0                3               4               4   \n",
       "\n",
       "   home_possession  away_possession  final_delta  target  \n",
       "0               48               52            1       1  \n",
       "1               50               50            1       1  \n",
       "2               62               38            4       0  \n",
       "3               55               45            2       0  \n",
       "4               45               55            0       1  \n",
       "\n",
       "[5 rows x 21 columns]"
      ]
     },
     "execution_count": 9,
     "metadata": {},
     "output_type": "execute_result"
    }
   ],
   "source": [
    "print(\"First 5 rows of the dataset:\")\n",
    "df.head()"
   ]
  },
  {
   "cell_type": "code",
   "execution_count": 10,
   "id": "a31e7989",
   "metadata": {},
   "outputs": [
    {
     "data": {
      "image/png": "[encoded data removed]",
      "text/plain": [
       "<Figure size 640x480 with 1 Axes>"
      ]
     },
     "metadata": {},
     "output_type": "display_data"
    }
   ],
   "source": [
    "df.plot(x='current_minute', y='target', style='o')\n",
    "plt.xlabel('remaining_time')\n",
    "plt.ylabel('target')\n",
    "plt.show()"
   ]
  },
  {
   "cell_type": "markdown",
   "id": "3e981834",
   "metadata": {},
   "source": [
    "Basic summary statistics for numerical values.  \n",
    "Chart above shows that some snapshots had goals. Others had none. The data given does not have enough resolution to resolve when goals were made."
   ]
  },
  {
   "cell_type": "code",
   "execution_count": 11,
   "id": "e782a0f9",
   "metadata": {
    "scrolled": true
   },
   "outputs": [
    {
     "name": "stdout",
     "output_type": "stream",
     "text": [
      "\n",
      "Summary statistics of numerical features:\n"
     ]
    },
    {
     "data": {
      "text/html": [
       "<div>\n",
       "<style scoped>\n",
       "    .dataframe tbody tr th:only-of-type {\n",
       "        vertical-align: middle;\n",
       "    }\n",
       "\n",
       "    .dataframe tbody tr th {\n",
       "        vertical-align: top;\n",
       "    }\n",
       "\n",
       "    .dataframe thead th {\n",
       "        text-align: right;\n",
       "    }\n",
       "</style>\n",
       "<table border=\"1\" class=\"dataframe\">\n",
       "  <thead>\n",
       "    <tr style=\"text-align: right;\">\n",
       "      <th></th>\n",
       "      <th>current_minute</th>\n",
       "      <th>home_score</th>\n",
       "      <th>away_score</th>\n",
       "      <th>home_yellow_cards</th>\n",
       "      <th>away_yellow_cards</th>\n",
       "      <th>home_red_cards</th>\n",
       "      <th>away_red_cards</th>\n",
       "      <th>home_attacks</th>\n",
       "      <th>away_attacks</th>\n",
       "      <th>home_dangerous_attacks</th>\n",
       "      <th>...</th>\n",
       "      <th>home_corners</th>\n",
       "      <th>away_corners</th>\n",
       "      <th>home_off_target</th>\n",
       "      <th>away_off_target</th>\n",
       "      <th>home_on_target</th>\n",
       "      <th>away_on_target</th>\n",
       "      <th>home_possession</th>\n",
       "      <th>away_possession</th>\n",
       "      <th>final_delta</th>\n",
       "      <th>target</th>\n",
       "    </tr>\n",
       "  </thead>\n",
       "  <tbody>\n",
       "    <tr>\n",
       "      <th>count</th>\n",
       "      <td>6577.000000</td>\n",
       "      <td>6577.000000</td>\n",
       "      <td>6577.000000</td>\n",
       "      <td>6577.000000</td>\n",
       "      <td>6577.000000</td>\n",
       "      <td>6577.000000</td>\n",
       "      <td>6577.000000</td>\n",
       "      <td>6577.000000</td>\n",
       "      <td>6577.000000</td>\n",
       "      <td>6577.000000</td>\n",
       "      <td>...</td>\n",
       "      <td>6577.00000</td>\n",
       "      <td>6577.000000</td>\n",
       "      <td>6577.000000</td>\n",
       "      <td>6577.000000</td>\n",
       "      <td>6577.000000</td>\n",
       "      <td>6577.000000</td>\n",
       "      <td>6577.000000</td>\n",
       "      <td>6577.000000</td>\n",
       "      <td>6577.000000</td>\n",
       "      <td>6577.000000</td>\n",
       "    </tr>\n",
       "    <tr>\n",
       "      <th>mean</th>\n",
       "      <td>49.804926</td>\n",
       "      <td>0.783032</td>\n",
       "      <td>0.608332</td>\n",
       "      <td>0.510263</td>\n",
       "      <td>0.592215</td>\n",
       "      <td>0.008515</td>\n",
       "      <td>0.014900</td>\n",
       "      <td>45.755968</td>\n",
       "      <td>42.857686</td>\n",
       "      <td>27.212863</td>\n",
       "      <td>...</td>\n",
       "      <td>2.33161</td>\n",
       "      <td>1.971111</td>\n",
       "      <td>3.016573</td>\n",
       "      <td>2.551163</td>\n",
       "      <td>2.136688</td>\n",
       "      <td>1.759313</td>\n",
       "      <td>51.581572</td>\n",
       "      <td>48.415235</td>\n",
       "      <td>1.427855</td>\n",
       "      <td>0.649536</td>\n",
       "    </tr>\n",
       "    <tr>\n",
       "      <th>std</th>\n",
       "      <td>26.441958</td>\n",
       "      <td>1.068046</td>\n",
       "      <td>0.911459</td>\n",
       "      <td>0.907488</td>\n",
       "      <td>1.007297</td>\n",
       "      <td>0.093528</td>\n",
       "      <td>0.122412</td>\n",
       "      <td>36.029737</td>\n",
       "      <td>33.539557</td>\n",
       "      <td>22.968335</td>\n",
       "      <td>...</td>\n",
       "      <td>2.44227</td>\n",
       "      <td>2.192337</td>\n",
       "      <td>3.138122</td>\n",
       "      <td>2.719920</td>\n",
       "      <td>2.316965</td>\n",
       "      <td>2.002735</td>\n",
       "      <td>10.542929</td>\n",
       "      <td>10.544736</td>\n",
       "      <td>1.423859</td>\n",
       "      <td>0.477151</td>\n",
       "    </tr>\n",
       "    <tr>\n",
       "      <th>min</th>\n",
       "      <td>0.000000</td>\n",
       "      <td>0.000000</td>\n",
       "      <td>0.000000</td>\n",
       "      <td>0.000000</td>\n",
       "      <td>0.000000</td>\n",
       "      <td>0.000000</td>\n",
       "      <td>0.000000</td>\n",
       "      <td>0.000000</td>\n",
       "      <td>0.000000</td>\n",
       "      <td>0.000000</td>\n",
       "      <td>...</td>\n",
       "      <td>0.00000</td>\n",
       "      <td>0.000000</td>\n",
       "      <td>0.000000</td>\n",
       "      <td>0.000000</td>\n",
       "      <td>0.000000</td>\n",
       "      <td>0.000000</td>\n",
       "      <td>0.000000</td>\n",
       "      <td>0.000000</td>\n",
       "      <td>-2.000000</td>\n",
       "      <td>0.000000</td>\n",
       "    </tr>\n",
       "    <tr>\n",
       "      <th>25%</th>\n",
       "      <td>27.000000</td>\n",
       "      <td>0.000000</td>\n",
       "      <td>0.000000</td>\n",
       "      <td>0.000000</td>\n",
       "      <td>0.000000</td>\n",
       "      <td>0.000000</td>\n",
       "      <td>0.000000</td>\n",
       "      <td>14.000000</td>\n",
       "      <td>13.000000</td>\n",
       "      <td>7.000000</td>\n",
       "      <td>...</td>\n",
       "      <td>0.00000</td>\n",
       "      <td>0.000000</td>\n",
       "      <td>0.000000</td>\n",
       "      <td>0.000000</td>\n",
       "      <td>0.000000</td>\n",
       "      <td>0.000000</td>\n",
       "      <td>46.000000</td>\n",
       "      <td>42.000000</td>\n",
       "      <td>0.000000</td>\n",
       "      <td>0.000000</td>\n",
       "    </tr>\n",
       "    <tr>\n",
       "      <th>50%</th>\n",
       "      <td>55.000000</td>\n",
       "      <td>0.000000</td>\n",
       "      <td>0.000000</td>\n",
       "      <td>0.000000</td>\n",
       "      <td>0.000000</td>\n",
       "      <td>0.000000</td>\n",
       "      <td>0.000000</td>\n",
       "      <td>42.000000</td>\n",
       "      <td>40.000000</td>\n",
       "      <td>24.000000</td>\n",
       "      <td>...</td>\n",
       "      <td>2.00000</td>\n",
       "      <td>1.000000</td>\n",
       "      <td>2.000000</td>\n",
       "      <td>2.000000</td>\n",
       "      <td>2.000000</td>\n",
       "      <td>1.000000</td>\n",
       "      <td>51.000000</td>\n",
       "      <td>49.000000</td>\n",
       "      <td>1.000000</td>\n",
       "      <td>1.000000</td>\n",
       "    </tr>\n",
       "    <tr>\n",
       "      <th>75%</th>\n",
       "      <td>72.000000</td>\n",
       "      <td>1.000000</td>\n",
       "      <td>1.000000</td>\n",
       "      <td>1.000000</td>\n",
       "      <td>1.000000</td>\n",
       "      <td>0.000000</td>\n",
       "      <td>0.000000</td>\n",
       "      <td>71.000000</td>\n",
       "      <td>67.000000</td>\n",
       "      <td>42.000000</td>\n",
       "      <td>...</td>\n",
       "      <td>4.00000</td>\n",
       "      <td>3.000000</td>\n",
       "      <td>5.000000</td>\n",
       "      <td>4.000000</td>\n",
       "      <td>3.000000</td>\n",
       "      <td>3.000000</td>\n",
       "      <td>58.000000</td>\n",
       "      <td>54.000000</td>\n",
       "      <td>2.000000</td>\n",
       "      <td>1.000000</td>\n",
       "    </tr>\n",
       "    <tr>\n",
       "      <th>max</th>\n",
       "      <td>90.000000</td>\n",
       "      <td>8.000000</td>\n",
       "      <td>9.000000</td>\n",
       "      <td>8.000000</td>\n",
       "      <td>8.000000</td>\n",
       "      <td>2.000000</td>\n",
       "      <td>2.000000</td>\n",
       "      <td>255.000000</td>\n",
       "      <td>183.000000</td>\n",
       "      <td>132.000000</td>\n",
       "      <td>...</td>\n",
       "      <td>14.00000</td>\n",
       "      <td>18.000000</td>\n",
       "      <td>24.000000</td>\n",
       "      <td>18.000000</td>\n",
       "      <td>22.000000</td>\n",
       "      <td>19.000000</td>\n",
       "      <td>100.000000</td>\n",
       "      <td>100.000000</td>\n",
       "      <td>10.000000</td>\n",
       "      <td>1.000000</td>\n",
       "    </tr>\n",
       "  </tbody>\n",
       "</table>\n",
       "<p>8 rows × 21 columns</p>\n",
       "</div>"
      ],
      "text/plain": [
       "       current_minute   home_score   away_score  home_yellow_cards  \\\n",
       "count     6577.000000  6577.000000  6577.000000        6577.000000   \n",
       "mean        49.804926     0.783032     0.608332           0.510263   \n",
       "std         26.441958     1.068046     0.911459           0.907488   \n",
       "min          0.000000     0.000000     0.000000           0.000000   \n",
       "25%         27.000000     0.000000     0.000000           0.000000   \n",
       "50%         55.000000     0.000000     0.000000           0.000000   \n",
       "75%         72.000000     1.000000     1.000000           1.000000   \n",
       "max         90.000000     8.000000     9.000000           8.000000   \n",
       "\n",
       "       away_yellow_cards  home_red_cards  away_red_cards  home_attacks  \\\n",
       "count        6577.000000     6577.000000     6577.000000   6577.000000   \n",
       "mean            0.592215        0.008515        0.014900     45.755968   \n",
       "std             1.007297        0.093528        0.122412     36.029737   \n",
       "min             0.000000        0.000000        0.000000      0.000000   \n",
       "25%             0.000000        0.000000        0.000000     14.000000   \n",
       "50%             0.000000        0.000000        0.000000     42.000000   \n",
       "75%             1.000000        0.000000        0.000000     71.000000   \n",
       "max             8.000000        2.000000        2.000000    255.000000   \n",
       "\n",
       "       away_attacks  home_dangerous_attacks  ...  home_corners  away_corners  \\\n",
       "count   6577.000000             6577.000000  ...    6577.00000   6577.000000   \n",
       "mean      42.857686               27.212863  ...       2.33161      1.971111   \n",
       "std       33.539557               22.968335  ...       2.44227      2.192337   \n",
       "min        0.000000                0.000000  ...       0.00000      0.000000   \n",
       "25%       13.000000                7.000000  ...       0.00000      0.000000   \n",
       "50%       40.000000               24.000000  ...       2.00000      1.000000   \n",
       "75%       67.000000               42.000000  ...       4.00000      3.000000   \n",
       "max      183.000000              132.000000  ...      14.00000     18.000000   \n",
       "\n",
       "       home_off_target  away_off_target  home_on_target  away_on_target  \\\n",
       "count      6577.000000      6577.000000     6577.000000     6577.000000   \n",
       "mean          3.016573         2.551163        2.136688        1.759313   \n",
       "std           3.138122         2.719920        2.316965        2.002735   \n",
       "min           0.000000         0.000000        0.000000        0.000000   \n",
       "25%           0.000000         0.000000        0.000000        0.000000   \n",
       "50%           2.000000         2.000000        2.000000        1.000000   \n",
       "75%           5.000000         4.000000        3.000000        3.000000   \n",
       "max          24.000000        18.000000       22.000000       19.000000   \n",
       "\n",
       "       home_possession  away_possession  final_delta       target  \n",
       "count      6577.000000      6577.000000  6577.000000  6577.000000  \n",
       "mean         51.581572        48.415235     1.427855     0.649536  \n",
       "std          10.542929        10.544736     1.423859     0.477151  \n",
       "min           0.000000         0.000000    -2.000000     0.000000  \n",
       "25%          46.000000        42.000000     0.000000     0.000000  \n",
       "50%          51.000000        49.000000     1.000000     1.000000  \n",
       "75%          58.000000        54.000000     2.000000     1.000000  \n",
       "max         100.000000       100.000000    10.000000     1.000000  \n",
       "\n",
       "[8 rows x 21 columns]"
      ]
     },
     "execution_count": 11,
     "metadata": {},
     "output_type": "execute_result"
    }
   ],
   "source": [
    "print(\"\\nSummary statistics of numerical features:\")\n",
    "df.describe()"
   ]
  },
  {
   "cell_type": "markdown",
   "id": "6f13dccc",
   "metadata": {},
   "source": [
    "Scatterplot matrix for pairs of numerical features"
   ]
  },
  {
   "cell_type": "code",
   "execution_count": 12,
   "id": "a3bbf363",
   "metadata": {},
   "outputs": [
    {
     "name": "stdout",
     "output_type": "stream",
     "text": [
      "\n",
      "Pairplot for numerical features:\n"
     ]
    },
    {
     "data": {
      "image/png": "[encoded data removed]",
      "text/plain": [
       "<Figure size 1200x800 with 36 Axes>"
      ]
     },
     "metadata": {},
     "output_type": "display_data"
    }
   ],
   "source": [
    "print(\"\\nPairplot for numerical features:\")\n",
    "scatter_matrix = pd.plotting.scatter_matrix(df[['home_score', 'away_score', 'home_yellow_cards', 'away_yellow_cards', 'home_possession', 'away_possession']], figsize=(12, 8))\n",
    "plt.show()"
   ]
  },
  {
   "cell_type": "markdown",
   "id": "8253e5fd",
   "metadata": {},
   "source": [
    "Histogram that shows the distribution of home and away scores"
   ]
  },
  {
   "cell_type": "code",
   "execution_count": 13,
   "id": "01d4130f",
   "metadata": {},
   "outputs": [
    {
     "name": "stdout",
     "output_type": "stream",
     "text": [
      "\n",
      "Distribution of home and away scores:\n"
     ]
    },
    {
     "data": {
      "image/png": "[encoded data removed]",
      "text/plain": [
       "<Figure size 1200x600 with 1 Axes>"
      ]
     },
     "metadata": {},
     "output_type": "display_data"
    }
   ],
   "source": [
    "print(\"\\nDistribution of home and away scores:\")\n",
    "plt.figure(figsize=(12, 6))\n",
    "plt.hist(df['home_score'], bins=20, alpha=0.5, label='Home Score', color='blue')\n",
    "plt.hist(df['away_score'], bins=20, alpha=0.5, label='Away Score', color='red')\n",
    "plt.title('Distribution of Home and Away Scores')\n",
    "plt.legend()\n",
    "plt.show()"
   ]
  },
  {
   "cell_type": "markdown",
   "id": "097735da-e8c5-4353-969c-fd7b8c2f9d44",
   "metadata": {},
   "source": [
    "# Data set splitting"
   ]
  },
  {
   "cell_type": "code",
   "execution_count": 14,
   "id": "951260b3-0067-45f9-a2e2-43bd90de3df1",
   "metadata": {},
   "outputs": [],
   "source": [
    "# Split train and test data\n",
    "X_train, X_test, y_train, y_test = train_test_split(X, y, test_size=0.2, random_state=42)\n",
    "# Scale the data sets\n",
    "scaler = StandardScaler()\n",
    "X_train = scaler.fit_transform(X_train)\n",
    "X_test = scaler.transform(X_test)\n",
    "# split train data to test and validation sets equally\n",
    "# train data will train the initial  model\n",
    "# validation will be used to find the best hyper parameters\n",
    "X_train_1, X_val, y_train_1, y_val = train_test_split(X_train, y_train, test_size=0.8, random_state=42)"
   ]
  },
  {
   "cell_type": "markdown",
   "id": "82255aae-e70f-46d0-b350-8154baf095fe",
   "metadata": {},
   "source": [
    "# Helpers\n",
    "The cells below contain functions that will help with displaying things later"
   ]
  },
  {
   "cell_type": "code",
   "execution_count": 15,
   "id": "dd06a8ce-55d6-4d18-81ab-7d69951dcdf0",
   "metadata": {},
   "outputs": [],
   "source": [
    "# predictions: model predictions\n",
    "# actual: the actual labels\n",
    "#mode: type of data set evaluated\n",
    "def show_metrics(true,predictions,mode = \"Train\"):\n",
    "    \n",
    "    accuracy = accuracy_score(true,predictions)\n",
    "    conf_matrix = confusion_matrix(true,predictions)\n",
    "    classification_rep = classification_report(true,predictions)\n",
    "    \n",
    "    print(f\"\\n{mode} Accuracy:\", accuracy)\n",
    "    print(f\"{mode} Confusion Matrix:\\n\", conf_matrix)\n",
    "    print(f\"{mode} Classification Report:\\n\", classification_rep)\n",
    "    return accuracy, conf_matrix,classification_rep"
   ]
  },
  {
   "cell_type": "code",
   "execution_count": 16,
   "id": "603ace1a",
   "metadata": {},
   "outputs": [],
   "source": [
    "def show_mat(mat,title = \"Confusion Matrix\"):\n",
    "    fig, axes = plt.subplots(1, 1, figsize=(12, 4))\n",
    "    \n",
    "    # Confusion Matrix\n",
    "    sns.heatmap(mat, annot=True, fmt='d', cmap='Blues', cbar=False, ax=axes)\n",
    "    axes.set_xlabel('Predicted')\n",
    "    axes.set_ylabel('True')\n",
    "    axes.set_title(title)\n",
    "    \n",
    "    plt.show()"
   ]
  },
  {
   "cell_type": "markdown",
   "id": "c6389702",
   "metadata": {},
   "source": [
    "# Logistic Regression Model\n",
    "Since this is a classification task, Logistic regression can be applied. Its implementation is rather simple here."
   ]
  },
  {
   "cell_type": "markdown",
   "id": "6285a521-41ec-4b0e-adcd-9ff7f8142690",
   "metadata": {},
   "source": [
    "Step 1: Initialize and train the model"
   ]
  },
  {
   "cell_type": "code",
   "execution_count": 17,
   "id": "da869556-917a-4fe6-a64e-749bdac7ff81",
   "metadata": {},
   "outputs": [
    {
     "data": {
      "text/html": [
       "<style>#sk-container-id-1 {color: black;}#sk-container-id-1 pre{padding: 0;}#sk-container-id-1 div.sk-toggleable {background-color: white;}#sk-container-id-1 label.sk-toggleable__label {cursor: pointer;display: block;width: 100%;margin-bottom: 0;padding: 0.3em;box-sizing: border-box;text-align: center;}#sk-container-id-1 label.sk-toggleable__label-arrow:before {content: \"▸\";float: left;margin-right: 0.25em;color: #696969;}#sk-container-id-1 label.sk-toggleable__label-arrow:hover:before {color: black;}#sk-container-id-1 div.sk-estimator:hover label.sk-toggleable__label-arrow:before {color: black;}#sk-container-id-1 div.sk-toggleable__content {max-height: 0;max-width: 0;overflow: hidden;text-align: left;background-color: #f0f8ff;}#sk-container-id-1 div.sk-toggleable__content pre {margin: 0.2em;color: black;border-radius: 0.25em;background-color: #f0f8ff;}#sk-container-id-1 input.sk-toggleable__control:checked~div.sk-toggleable__content {max-height: 200px;max-width: 100%;overflow: auto;}#sk-container-id-1 input.sk-toggleable__control:checked~label.sk-toggleable__label-arrow:before {content: \"▾\";}#sk-container-id-1 div.sk-estimator input.sk-toggleable__control:checked~label.sk-toggleable__label {background-color: #d4ebff;}#sk-container-id-1 div.sk-label input.sk-toggleable__control:checked~label.sk-toggleable__label {background-color: #d4ebff;}#sk-container-id-1 input.sk-hidden--visually {border: 0;clip: rect(1px 1px 1px 1px);clip: rect(1px, 1px, 1px, 1px);height: 1px;margin: -1px;overflow: hidden;padding: 0;position: absolute;width: 1px;}#sk-container-id-1 div.sk-estimator {font-family: monospace;background-color: #f0f8ff;border: 1px dotted black;border-radius: 0.25em;box-sizing: border-box;margin-bottom: 0.5em;}#sk-container-id-1 div.sk-estimator:hover {background-color: #d4ebff;}#sk-container-id-1 div.sk-parallel-item::after {content: \"\";width: 100%;border-bottom: 1px solid gray;flex-grow: 1;}#sk-container-id-1 div.sk-label:hover label.sk-toggleable__label {background-color: #d4ebff;}#sk-container-id-1 div.sk-serial::before {content: \"\";position: absolute;border-left: 1px solid gray;box-sizing: border-box;top: 0;bottom: 0;left: 50%;z-index: 0;}#sk-container-id-1 div.sk-serial {display: flex;flex-direction: column;align-items: center;background-color: white;padding-right: 0.2em;padding-left: 0.2em;position: relative;}#sk-container-id-1 div.sk-item {position: relative;z-index: 1;}#sk-container-id-1 div.sk-parallel {display: flex;align-items: stretch;justify-content: center;background-color: white;position: relative;}#sk-container-id-1 div.sk-item::before, #sk-container-id-1 div.sk-parallel-item::before {content: \"\";position: absolute;border-left: 1px solid gray;box-sizing: border-box;top: 0;bottom: 0;left: 50%;z-index: -1;}#sk-container-id-1 div.sk-parallel-item {display: flex;flex-direction: column;z-index: 1;position: relative;background-color: white;}#sk-container-id-1 div.sk-parallel-item:first-child::after {align-self: flex-end;width: 50%;}#sk-container-id-1 div.sk-parallel-item:last-child::after {align-self: flex-start;width: 50%;}#sk-container-id-1 div.sk-parallel-item:only-child::after {width: 0;}#sk-container-id-1 div.sk-dashed-wrapped {border: 1px dashed gray;margin: 0 0.4em 0.5em 0.4em;box-sizing: border-box;padding-bottom: 0.4em;background-color: white;}#sk-container-id-1 div.sk-label label {font-family: monospace;font-weight: bold;display: inline-block;line-height: 1.2em;}#sk-container-id-1 div.sk-label-container {text-align: center;}#sk-container-id-1 div.sk-container {/* jupyter's `normalize.less` sets `[hidden] { display: none; }` but bootstrap.min.css set `[hidden] { display: none !important; }` so we also need the `!important` here to be able to override the default hidden behavior on the sphinx rendered scikit-learn.org. See: https://github.com/scikit-learn/scikit-learn/issues/21755 */display: inline-block !important;position: relative;}#sk-container-id-1 div.sk-text-repr-fallback {display: none;}</style><div id=\"sk-container-id-1\" class=\"sk-top-container\"><div class=\"sk-text-repr-fallback\"><pre>LogisticRegression(n_jobs=-1)</pre><b>In a Jupyter environment, please rerun this cell to show the HTML representation or trust the notebook. <br />On GitHub, the HTML representation is unable to render, please try loading this page with nbviewer.org.</b></div><div class=\"sk-container\" hidden><div class=\"sk-item\"><div class=\"sk-estimator sk-toggleable\"><input class=\"sk-toggleable__control sk-hidden--visually\" id=\"sk-estimator-id-1\" type=\"checkbox\" checked><label for=\"sk-estimator-id-1\" class=\"sk-toggleable__label sk-toggleable__label-arrow\">LogisticRegression</label><div class=\"sk-toggleable__content\"><pre>LogisticRegression(n_jobs=-1)</pre></div></div></div></div></div>"
      ],
      "text/plain": [
       "LogisticRegression(n_jobs=-1)"
      ]
     },
     "execution_count": 17,
     "metadata": {},
     "output_type": "execute_result"
    }
   ],
   "source": [
    "logreg = LogisticRegression(n_jobs = -1)\n",
    "logreg.fit(X_train_1,y_train_1)"
   ]
  },
  {
   "cell_type": "markdown",
   "id": "c29dad24-63f7-4014-aba1-7a9b17dd6c81",
   "metadata": {},
   "source": [
    "Step 2: validate initial model"
   ]
  },
  {
   "cell_type": "code",
   "execution_count": 18,
   "id": "16371e56-02b7-4510-ba58-01f81cf468be",
   "metadata": {},
   "outputs": [
    {
     "name": "stdout",
     "output_type": "stream",
     "text": [
      "\n",
      "Train Accuracy: 0.8041825095057035\n",
      "Train Confusion Matrix:\n",
      " [[263 112]\n",
      " [ 94 583]]\n",
      "Train Classification Report:\n",
      "               precision    recall  f1-score   support\n",
      "\n",
      "           0       0.74      0.70      0.72       375\n",
      "           1       0.84      0.86      0.85       677\n",
      "\n",
      "    accuracy                           0.80      1052\n",
      "   macro avg       0.79      0.78      0.78      1052\n",
      "weighted avg       0.80      0.80      0.80      1052\n",
      "\n"
     ]
    },
    {
     "data": {
      "image/png": "[encoded data removed]",
      "text/plain": [
       "<Figure size 1200x400 with 1 Axes>"
      ]
     },
     "metadata": {},
     "output_type": "display_data"
    }
   ],
   "source": [
    "# This is the training \n",
    "metrics = show_metrics(y_train_1,logreg.predict(X_train_1))\n",
    "show_mat(metrics[1])"
   ]
  },
  {
   "cell_type": "markdown",
   "id": "ca4cb018",
   "metadata": {},
   "source": [
    "Based on the class report, the model gives us approximately 80.42% accuracy of predictions for the train set. \n",
    "\n",
    "The confusion matrix gives us:\n",
    "True Positives: 583\n",
    "True Negatives: 263\n",
    "False Positives: 112\n",
    "False Negatives: 94\n",
    "\n",
    "There is also a decent balance between the recall and precision for predicting whether one or more goals will be scored in the remaining time of a match."
   ]
  },
  {
   "cell_type": "code",
   "execution_count": 19,
   "id": "6e3f9fa9-2dca-4eb5-8721-5738bff651e4",
   "metadata": {
    "scrolled": true
   },
   "outputs": [
    {
     "name": "stdout",
     "output_type": "stream",
     "text": [
      "\n",
      "Train Accuracy: 0.7963525835866262\n",
      "Train Confusion Matrix:\n",
      " [[300 137]\n",
      " [131 748]]\n",
      "Train Classification Report:\n",
      "               precision    recall  f1-score   support\n",
      "\n",
      "           0       0.70      0.69      0.69       437\n",
      "           1       0.85      0.85      0.85       879\n",
      "\n",
      "    accuracy                           0.80      1316\n",
      "   macro avg       0.77      0.77      0.77      1316\n",
      "weighted avg       0.80      0.80      0.80      1316\n",
      "\n"
     ]
    },
    {
     "data": {
      "image/png": "[encoded data removed]",
      "text/plain": [
       "<Figure size 1200x400 with 1 Axes>"
      ]
     },
     "metadata": {},
     "output_type": "display_data"
    }
   ],
   "source": [
    "# get test accuracy with a validation set\n",
    "test_pred = logreg.predict(X_test)\n",
    "metrics = show_metrics(y_test,test_pred)\n",
    "show_mat(metrics[1])\n"
   ]
  },
  {
   "cell_type": "markdown",
   "id": "bc764161",
   "metadata": {},
   "source": [
    "The accuracy on the validation set (79.64%) is slightly lower than the accuracy on the training set (80.42%). This model performed slightly lower on new, unseen data on the validation set. \n",
    "\n",
    "The confusion matrix gives us:\n",
    "True Positives: 748\n",
    "True Negatives: 300\n",
    "False Positives: 137\n",
    "False Negatives: 131\n",
    "\n",
    "The confusion matrices show a similar pattern in terms of True Positives, True Negatives, False Positives, and False Negatives between the training and validation sets. Precision, recall, and F1-score for class (1) are also slightly consistent between the training and validation sets, indicating that the model's performance on predicting one or more goals is similar on both datasets."
   ]
  },
  {
   "cell_type": "markdown",
   "id": "1131edb3",
   "metadata": {},
   "source": [
    "Step 3: Find the best hyper parameters for the model"
   ]
  },
  {
   "cell_type": "markdown",
   "id": "9dbc0f0a-587c-42a1-a508-a432ee1047fa",
   "metadata": {},
   "source": [
    "This is the grid of possible hyperparameter values to use. Dropped the solvers that use hessian matrix. Gridsearch practically did not finish. The regularization is only l2 because that is the only regularization function that all the solvers use. It is the default regularization. Regularization term C, tolerance, and the maximum iterations are only limited for demonstration purposes."
   ]
  },
  {
   "cell_type": "code",
   "execution_count": 20,
   "id": "1ee868f7-ad08-4bb8-81c7-ce0513db2529",
   "metadata": {},
   "outputs": [],
   "source": [
    "hpg = {'solver' : ['lbfgs', 'liblinear',  'sag','saga'],\n",
    "      'fit_intercept' : [True,False],\n",
    "       'class_weight' : [None, 'balanced'],\n",
    "       'max_iter': [i for i in range(100,1000, 100)],\n",
    "       'C' : [1.0,1.1,1.01,1.001,1.0001,1.00001],\n",
    "       'tol' : [1e-5,1e-4,1e-3,1e-2,1e-1],\n",
    "      }"
   ]
  },
  {
   "cell_type": "markdown",
   "id": "92f2f472-d9aa-48c3-bbbf-6179501f2b84",
   "metadata": {},
   "source": [
    "Let the searching commence."
   ]
  },
  {
   "cell_type": "code",
   "execution_count": 21,
   "id": "bc1c76e3-8bc5-42b7-ba69-abfa29f3ff18",
   "metadata": {},
   "outputs": [],
   "source": [
    "finder = GridSearchCV(logreg,hpg,n_jobs = -1,refit = True,scoring = 'f1',error_score='raise')"
   ]
  },
  {
   "cell_type": "code",
   "execution_count": 23,
   "id": "2e5e9dcc-5e09-4530-9902-138dede1273d",
   "metadata": {},
   "outputs": [
    {
     "data": {
      "text/html": [
       "<style>#sk-container-id-2 {color: black;}#sk-container-id-2 pre{padding: 0;}#sk-container-id-2 div.sk-toggleable {background-color: white;}#sk-container-id-2 label.sk-toggleable__label {cursor: pointer;display: block;width: 100%;margin-bottom: 0;padding: 0.3em;box-sizing: border-box;text-align: center;}#sk-container-id-2 label.sk-toggleable__label-arrow:before {content: \"▸\";float: left;margin-right: 0.25em;color: #696969;}#sk-container-id-2 label.sk-toggleable__label-arrow:hover:before {color: black;}#sk-container-id-2 div.sk-estimator:hover label.sk-toggleable__label-arrow:before {color: black;}#sk-container-id-2 div.sk-toggleable__content {max-height: 0;max-width: 0;overflow: hidden;text-align: left;background-color: #f0f8ff;}#sk-container-id-2 div.sk-toggleable__content pre {margin: 0.2em;color: black;border-radius: 0.25em;background-color: #f0f8ff;}#sk-container-id-2 input.sk-toggleable__control:checked~div.sk-toggleable__content {max-height: 200px;max-width: 100%;overflow: auto;}#sk-container-id-2 input.sk-toggleable__control:checked~label.sk-toggleable__label-arrow:before {content: \"▾\";}#sk-container-id-2 div.sk-estimator input.sk-toggleable__control:checked~label.sk-toggleable__label {background-color: #d4ebff;}#sk-container-id-2 div.sk-label input.sk-toggleable__control:checked~label.sk-toggleable__label {background-color: #d4ebff;}#sk-container-id-2 input.sk-hidden--visually {border: 0;clip: rect(1px 1px 1px 1px);clip: rect(1px, 1px, 1px, 1px);height: 1px;margin: -1px;overflow: hidden;padding: 0;position: absolute;width: 1px;}#sk-container-id-2 div.sk-estimator {font-family: monospace;background-color: #f0f8ff;border: 1px dotted black;border-radius: 0.25em;box-sizing: border-box;margin-bottom: 0.5em;}#sk-container-id-2 div.sk-estimator:hover {background-color: #d4ebff;}#sk-container-id-2 div.sk-parallel-item::after {content: \"\";width: 100%;border-bottom: 1px solid gray;flex-grow: 1;}#sk-container-id-2 div.sk-label:hover label.sk-toggleable__label {background-color: #d4ebff;}#sk-container-id-2 div.sk-serial::before {content: \"\";position: absolute;border-left: 1px solid gray;box-sizing: border-box;top: 0;bottom: 0;left: 50%;z-index: 0;}#sk-container-id-2 div.sk-serial {display: flex;flex-direction: column;align-items: center;background-color: white;padding-right: 0.2em;padding-left: 0.2em;position: relative;}#sk-container-id-2 div.sk-item {position: relative;z-index: 1;}#sk-container-id-2 div.sk-parallel {display: flex;align-items: stretch;justify-content: center;background-color: white;position: relative;}#sk-container-id-2 div.sk-item::before, #sk-container-id-2 div.sk-parallel-item::before {content: \"\";position: absolute;border-left: 1px solid gray;box-sizing: border-box;top: 0;bottom: 0;left: 50%;z-index: -1;}#sk-container-id-2 div.sk-parallel-item {display: flex;flex-direction: column;z-index: 1;position: relative;background-color: white;}#sk-container-id-2 div.sk-parallel-item:first-child::after {align-self: flex-end;width: 50%;}#sk-container-id-2 div.sk-parallel-item:last-child::after {align-self: flex-start;width: 50%;}#sk-container-id-2 div.sk-parallel-item:only-child::after {width: 0;}#sk-container-id-2 div.sk-dashed-wrapped {border: 1px dashed gray;margin: 0 0.4em 0.5em 0.4em;box-sizing: border-box;padding-bottom: 0.4em;background-color: white;}#sk-container-id-2 div.sk-label label {font-family: monospace;font-weight: bold;display: inline-block;line-height: 1.2em;}#sk-container-id-2 div.sk-label-container {text-align: center;}#sk-container-id-2 div.sk-container {/* jupyter's `normalize.less` sets `[hidden] { display: none; }` but bootstrap.min.css set `[hidden] { display: none !important; }` so we also need the `!important` here to be able to override the default hidden behavior on the sphinx rendered scikit-learn.org. See: https://github.com/scikit-learn/scikit-learn/issues/21755 */display: inline-block !important;position: relative;}#sk-container-id-2 div.sk-text-repr-fallback {display: none;}</style><div id=\"sk-container-id-2\" class=\"sk-top-container\"><div class=\"sk-text-repr-fallback\"><pre>GridSearchCV(error_score=&#x27;raise&#x27;, estimator=LogisticRegression(n_jobs=-1),\n",
       "             n_jobs=-1,\n",
       "             param_grid={&#x27;C&#x27;: [1.0, 1.1, 1.01, 1.001, 1.0001, 1.00001],\n",
       "                         &#x27;class_weight&#x27;: [None, &#x27;balanced&#x27;],\n",
       "                         &#x27;fit_intercept&#x27;: [True, False],\n",
       "                         &#x27;max_iter&#x27;: [100, 200, 300, 400, 500, 600, 700, 800,\n",
       "                                      900],\n",
       "                         &#x27;solver&#x27;: [&#x27;lbfgs&#x27;, &#x27;liblinear&#x27;, &#x27;sag&#x27;, &#x27;saga&#x27;],\n",
       "                         &#x27;tol&#x27;: [1e-05, 0.0001, 0.001, 0.01, 0.1]},\n",
       "             scoring=&#x27;f1&#x27;)</pre><b>In a Jupyter environment, please rerun this cell to show the HTML representation or trust the notebook. <br />On GitHub, the HTML representation is unable to render, please try loading this page with nbviewer.org.</b></div><div class=\"sk-container\" hidden><div class=\"sk-item sk-dashed-wrapped\"><div class=\"sk-label-container\"><div class=\"sk-label sk-toggleable\"><input class=\"sk-toggleable__control sk-hidden--visually\" id=\"sk-estimator-id-2\" type=\"checkbox\" ><label for=\"sk-estimator-id-2\" class=\"sk-toggleable__label sk-toggleable__label-arrow\">GridSearchCV</label><div class=\"sk-toggleable__content\"><pre>GridSearchCV(error_score=&#x27;raise&#x27;, estimator=LogisticRegression(n_jobs=-1),\n",
       "             n_jobs=-1,\n",
       "             param_grid={&#x27;C&#x27;: [1.0, 1.1, 1.01, 1.001, 1.0001, 1.00001],\n",
       "                         &#x27;class_weight&#x27;: [None, &#x27;balanced&#x27;],\n",
       "                         &#x27;fit_intercept&#x27;: [True, False],\n",
       "                         &#x27;max_iter&#x27;: [100, 200, 300, 400, 500, 600, 700, 800,\n",
       "                                      900],\n",
       "                         &#x27;solver&#x27;: [&#x27;lbfgs&#x27;, &#x27;liblinear&#x27;, &#x27;sag&#x27;, &#x27;saga&#x27;],\n",
       "                         &#x27;tol&#x27;: [1e-05, 0.0001, 0.001, 0.01, 0.1]},\n",
       "             scoring=&#x27;f1&#x27;)</pre></div></div></div><div class=\"sk-parallel\"><div class=\"sk-parallel-item\"><div class=\"sk-item\"><div class=\"sk-label-container\"><div class=\"sk-label sk-toggleable\"><input class=\"sk-toggleable__control sk-hidden--visually\" id=\"sk-estimator-id-3\" type=\"checkbox\" ><label for=\"sk-estimator-id-3\" class=\"sk-toggleable__label sk-toggleable__label-arrow\">estimator: LogisticRegression</label><div class=\"sk-toggleable__content\"><pre>LogisticRegression(n_jobs=-1)</pre></div></div></div><div class=\"sk-serial\"><div class=\"sk-item\"><div class=\"sk-estimator sk-toggleable\"><input class=\"sk-toggleable__control sk-hidden--visually\" id=\"sk-estimator-id-4\" type=\"checkbox\" ><label for=\"sk-estimator-id-4\" class=\"sk-toggleable__label sk-toggleable__label-arrow\">LogisticRegression</label><div class=\"sk-toggleable__content\"><pre>LogisticRegression(n_jobs=-1)</pre></div></div></div></div></div></div></div></div></div></div>"
      ],
      "text/plain": [
       "GridSearchCV(error_score='raise', estimator=LogisticRegression(n_jobs=-1),\n",
       "             n_jobs=-1,\n",
       "             param_grid={'C': [1.0, 1.1, 1.01, 1.001, 1.0001, 1.00001],\n",
       "                         'class_weight': [None, 'balanced'],\n",
       "                         'fit_intercept': [True, False],\n",
       "                         'max_iter': [100, 200, 300, 400, 500, 600, 700, 800,\n",
       "                                      900],\n",
       "                         'solver': ['lbfgs', 'liblinear', 'sag', 'saga'],\n",
       "                         'tol': [1e-05, 0.0001, 0.001, 0.01, 0.1]},\n",
       "             scoring='f1')"
      ]
     },
     "execution_count": 23,
     "metadata": {},
     "output_type": "execute_result"
    }
   ],
   "source": [
    "finder.fit(X_val, y_val)"
   ]
  },
  {
   "cell_type": "code",
   "execution_count": 24,
   "id": "fd8e4036-ad03-4020-b89a-a565900c65ff",
   "metadata": {},
   "outputs": [],
   "source": [
    "logreg = finder.best_estimator_"
   ]
  },
  {
   "cell_type": "markdown",
   "id": "ee35f653",
   "metadata": {},
   "source": [
    "To evaluate the model, we will get the training accuracy first. We used the validation set for training since the Training dataset was already used to train the initial model."
   ]
  },
  {
   "cell_type": "code",
   "execution_count": 25,
   "id": "adf20afe-9c03-4503-ad12-4f134b37360e",
   "metadata": {},
   "outputs": [
    {
     "name": "stdout",
     "output_type": "stream",
     "text": [
      "\n",
      "Train Accuracy: 0.7823711095272036\n",
      "Train Confusion Matrix:\n",
      " [[ 989  504]\n",
      " [ 412 2304]]\n",
      "Train Classification Report:\n",
      "               precision    recall  f1-score   support\n",
      "\n",
      "           0       0.71      0.66      0.68      1493\n",
      "           1       0.82      0.85      0.83      2716\n",
      "\n",
      "    accuracy                           0.78      4209\n",
      "   macro avg       0.76      0.76      0.76      4209\n",
      "weighted avg       0.78      0.78      0.78      4209\n",
      "\n"
     ]
    },
    {
     "data": {
      "image/png": "[encoded data removed]",
      "text/plain": [
       "<Figure size 1200x400 with 1 Axes>"
      ]
     },
     "metadata": {},
     "output_type": "display_data"
    }
   ],
   "source": [
    "train_predictions = logreg.predict(X_val)\n",
    "acc, mat, class_rep = show_metrics(y_val,train_predictions,\"Train\")\n",
    "show_mat(mat,\"Best Model Confusion Matrix, Train Set\")"
   ]
  },
  {
   "cell_type": "markdown",
   "id": "b2bb1a3a",
   "metadata": {},
   "source": [
    "The accuracy slightly decreased after hyperparameter tuning, going from 80.42% to 78.24%. This could be due to the model being more conservative after tuning.\n",
    "\n",
    "There is a notable increase in both true positives (TP) and true negatives (TN) after hyperparameter tuning. However, false positives (FP) and false negatives (FN) have also increased.\n",
    "\n",
    "The precision for class 1 remained the same, but recall and f1-score slightly decreased. This indicates that the model is still good at identifying instances of class 1, though there is still a chance that it does not capture some data points."
   ]
  },
  {
   "cell_type": "markdown",
   "id": "1cda9b87",
   "metadata": {},
   "source": [
    "After evaluating the model on the validation set, we will now evaluate it on the test set to see how well it can predict on its own."
   ]
  },
  {
   "cell_type": "code",
   "execution_count": 26,
   "id": "d6138f1f",
   "metadata": {},
   "outputs": [],
   "source": [
    "# Make predictions on the test setn\n",
    "test_predictions = logreg.predict(X_test)"
   ]
  },
  {
   "cell_type": "code",
   "execution_count": 27,
   "id": "9b153db6",
   "metadata": {},
   "outputs": [
    {
     "name": "stdout",
     "output_type": "stream",
     "text": [
      "\n",
      "Train Accuracy: 0.7963525835866262\n",
      "Train Confusion Matrix:\n",
      " [[301 136]\n",
      " [132 747]]\n",
      "Train Classification Report:\n",
      "               precision    recall  f1-score   support\n",
      "\n",
      "           0       0.70      0.69      0.69       437\n",
      "           1       0.85      0.85      0.85       879\n",
      "\n",
      "    accuracy                           0.80      1316\n",
      "   macro avg       0.77      0.77      0.77      1316\n",
      "weighted avg       0.80      0.80      0.80      1316\n",
      "\n"
     ]
    },
    {
     "data": {
      "image/png": "[encoded data removed]",
      "text/plain": [
       "<Figure size 1200x400 with 1 Axes>"
      ]
     },
     "metadata": {},
     "output_type": "display_data"
    }
   ],
   "source": [
    "# Evaluate the model on the test set\n",
    "metrics = show_metrics(y_test,test_predictions)\n",
    "show_mat(metrics[1], \"Test Data Confusion Matrix\")"
   ]
  },
  {
   "cell_type": "markdown",
   "id": "baccaef9",
   "metadata": {},
   "source": [
    "We can see that the accuracy on the test set (79.64%) is very close to the accuracy on the training set (78.24%). This suggests that the model is generalizing well to new, unseen data.\n",
    "\n",
    "The true positives (TP) and true negatives (TN) on the test set are similar to those on the training set. False positives (FP) and false negatives (FN) also exhibit similar patterns.\n",
    "\n",
    "The precision, recall, and f1-score for both classes (0 and 1) are consistent between the test and training sets. This indicates that the model's performance is stable across the two datasets."
   ]
  },
  {
   "cell_type": "markdown",
   "id": "0a8102e9",
   "metadata": {},
   "source": [
    "# Logistic Regression Model Conclusions\n",
    "\n",
    "After hyperparameter tuning, the test set performance is similar to the training set performance, suggesting that the model generalizes well to the test set. The hyperparameter-tuned model appears to be robust and not overfit to the training data based on the consistency of metrics between the training and test sets."
   ]
  },
  {
   "cell_type": "markdown",
   "id": "b8b9b036-1159-4cc5-8aa0-da03c2994451",
   "metadata": {
    "tags": []
   },
   "source": [
    "# Neural Network Model"
   ]
  },
  {
   "cell_type": "markdown",
   "id": "99dd33d2-e923-4fe4-b722-7aaae81f2b0a",
   "metadata": {},
   "source": [
    "Next, let's create a neural network model for our predictions."
   ]
  },
  {
   "cell_type": "code",
   "execution_count": 164,
   "id": "82f52620-885a-47b0-8691-06724f466bdc",
   "metadata": {
    "tags": []
   },
   "outputs": [],
   "source": [
    "# preparing data for pytorch\n",
    "X_train, X_test, y_train, y_test = train_test_split(X, y, test_size=0.2, random_state=42)\n",
    "X_train, X_val, y_train, y_val = train_test_split(X_train, y_train, test_size=0.2, random_state=42)\n",
    "scaler = StandardScaler()\n",
    "X_train = scaler.fit_transform(X_train)\n",
    "X_val = scaler.transform(X_val)\n",
    "X_test = scaler.transform(X_test)"
   ]
  },
  {
   "cell_type": "markdown",
   "id": "536407df-121e-4d35-afb8-d6f65b09bfa1",
   "metadata": {},
   "source": [
    "Convert the training, validation, and test data into PyTorch tensors, to enable compatibility with PyTorch neural network models."
   ]
  },
  {
   "cell_type": "code",
   "execution_count": 165,
   "id": "3c68bcbc-e8d6-4330-aa9e-d46a7bcb0751",
   "metadata": {
    "tags": []
   },
   "outputs": [],
   "source": [
    "# convert data to pytorch tensors\n",
    "X_train_tensor = torch.tensor(X_train, dtype=torch.float32)\n",
    "y_train_tensor = torch.tensor(y_train.values, dtype=torch.float32).view(-1, 1)\n",
    "X_val_tensor = torch.tensor(X_val, dtype=torch.float32)\n",
    "y_val_tensor = torch.tensor(y_val.values, dtype=torch.float32).view(-1, 1)\n",
    "X_test_tensor = torch.tensor(X_test, dtype=torch.float32)\n",
    "y_test_tensor = torch.tensor(y_test.values, dtype=torch.float32).view(-1, 1)"
   ]
  },
  {
   "cell_type": "markdown",
   "id": "3cf61e9b-49e5-47dc-8f4a-b8157fd50384",
   "metadata": {},
   "source": [
    "Let's make sure to involve the creation of PyTorch datasets and dataloaders. The following code block utilizes TensorDataset to bundle the input features and target variables into training, validation, and test datasets. Moreover, DataLoader is employed to handle batch processing during model training, validation, and testing."
   ]
  },
  {
   "cell_type": "code",
   "execution_count": 166,
   "id": "299bf10c-088f-4383-8691-8d93c8b9f4ae",
   "metadata": {
    "tags": []
   },
   "outputs": [],
   "source": [
    "# create pytorch datasets and dataloaders\n",
    "train_data = TensorDataset(X_train_tensor, y_train_tensor)\n",
    "val_data = TensorDataset(X_val_tensor, y_val_tensor)\n",
    "test_data = TensorDataset(X_test_tensor, y_test_tensor)\n",
    "\n",
    "batch_size = 32\n",
    "train_loader = DataLoader(train_data, batch_size=batch_size, shuffle=True)\n",
    "val_loader = DataLoader(val_data, batch_size=batch_size)\n",
    "test_loader = DataLoader(test_data, batch_size=batch_size)"
   ]
  },
  {
   "cell_type": "markdown",
   "id": "6874d6db-1103-4805-83ce-925c9f5be3df",
   "metadata": {},
   "source": [
    "Next, let's define a neural network class using PyTorch's nn.Module. The network will consist of two fully connected layers  with a ReLU activation function applied after the first layer."
   ]
  },
  {
   "cell_type": "code",
   "execution_count": 167,
   "id": "43130cc2-1a9d-4b98-b534-ad3ea58cf737",
   "metadata": {
    "tags": []
   },
   "outputs": [],
   "source": [
    "# defining the neural network\n",
    "class RegressionNN(nn.Module):\n",
    "    def __init__(self, input_size):\n",
    "        super(RegressionNN, self).__init__()\n",
    "        self.fc1 = nn.Linear(input_size, 64)\n",
    "        self.relu = nn.ReLU()\n",
    "        self.fc2 = nn.Linear(64, 1)\n",
    "\n",
    "    def forward(self, x):\n",
    "        x = self.relu(self.fc1(x))\n",
    "        x = self.fc2(x)\n",
    "        return x"
   ]
  },
  {
   "cell_type": "markdown",
   "id": "7b84a258-0077-426c-a122-4acfe1a72f7b",
   "metadata": {},
   "source": [
    "Initialize the neural network model by instantiating it with the input size corresponding to the number of features in the training data. Also, don't forget to initialize the hyperparameters by setting up the mean squared error loss function and the Adam optimizer with a learning rate of 0.001, to enable the training of the neural network for regression tasks."
   ]
  },
  {
   "cell_type": "code",
   "execution_count": 168,
   "id": "98791770-19ee-4c94-9456-54971a00fce8",
   "metadata": {
    "tags": []
   },
   "outputs": [],
   "source": [
    "# instantiate the model, loss function and optimizer\n",
    "input_size = X_train.shape[1]\n",
    "model = RegressionNN(input_size)\n",
    "criterion = nn.MSELoss()\n",
    "optimizer = optim.Adam(model.parameters(), lr=0.001)"
   ]
  },
  {
   "cell_type": "markdown",
   "id": "131bc2d2-1468-47f2-a42d-34dacaa50f88",
   "metadata": {
    "tags": []
   },
   "source": [
    "Let's train the model! For now, we'll use the hyperparameters: epochs = 50, learning rate = 0.001 and batch size = 32."
   ]
  },
  {
   "cell_type": "code",
   "execution_count": 169,
   "id": "7f8fb471-29b2-42b3-be6d-ca89a381cbdf",
   "metadata": {
    "tags": []
   },
   "outputs": [],
   "source": [
    "# model training\n",
    "num_epochs = 50\n",
    "for epoch in range(num_epochs):\n",
    "    model.train()\n",
    "    for inputs, targets in train_loader:\n",
    "        optimizer.zero_grad()\n",
    "        outputs = model(inputs)\n",
    "        loss = criterion(outputs, targets)\n",
    "        loss.backward()\n",
    "        optimizer.step()\n",
    "\n",
    "    # validation\n",
    "    model.eval()\n",
    "    with torch.no_grad():\n",
    "        val_loss = 0.0\n",
    "        for inputs, targets in val_loader:\n",
    "            outputs = model(inputs)\n",
    "            val_loss += criterion(outputs, targets)"
   ]
  },
  {
   "cell_type": "markdown",
   "id": "1b45f030-eee0-49ae-900f-0b6280e53913",
   "metadata": {},
   "source": [
    "Let's evaluate the model before seeking out the best parameters to use, how well did we do? (Note: since we are using a Neural Network for a regression task, we'll use MSE to measure loss)"
   ]
  },
  {
   "cell_type": "code",
   "execution_count": 170,
   "id": "8650af68-29a0-4939-8edc-723cb1ba05c5",
   "metadata": {
    "tags": []
   },
   "outputs": [
    {
     "name": "stdout",
     "output_type": "stream",
     "text": [
      "Test MSE: 0.12549705803394318\n"
     ]
    }
   ],
   "source": [
    "# evaluation (training set)\n",
    "model.eval()\n",
    "predictions = []\n",
    "targets_list = []\n",
    "with torch.no_grad():\n",
    "    for inputs, targets in train_loader:\n",
    "        outputs = model(inputs)\n",
    "        predictions.extend(outputs.numpy())\n",
    "        targets_list.extend(targets.numpy())\n",
    "\n",
    "test_mse = mean_squared_error(targets_list, predictions)\n",
    "print(f'Test MSE: {test_mse}')"
   ]
  },
  {
   "cell_type": "code",
   "execution_count": 171,
   "id": "0316eac1-3542-44fe-8bf6-e1f2239dc829",
   "metadata": {
    "tags": []
   },
   "outputs": [
    {
     "name": "stdout",
     "output_type": "stream",
     "text": [
      "\n",
      "Train Accuracy: 0.8122623574144486\n",
      "Train Confusion Matrix:\n",
      " [[ 963  542]\n",
      " [ 248 2455]]\n",
      "Train Classification Report:\n",
      "               precision    recall  f1-score   support\n",
      "\n",
      "         0.0       0.80      0.64      0.71      1505\n",
      "         1.0       0.82      0.91      0.86      2703\n",
      "\n",
      "    accuracy                           0.81      4208\n",
      "   macro avg       0.81      0.77      0.79      4208\n",
      "weighted avg       0.81      0.81      0.81      4208\n",
      "\n"
     ]
    },
    {
     "data": {
      "image/png": "[encoded data removed]",
      "text/plain": [
       "<Figure size 1200x400 with 1 Axes>"
      ]
     },
     "metadata": {},
     "output_type": "display_data"
    }
   ],
   "source": [
    "show_metrics(targets_list, np.round(predictions), mode=\"Train\")\n",
    "conf_matrix_train = confusion_matrix(targets_list, np.round(predictions))\n",
    "show_mat(conf_matrix_train, title=\"Confusion Matrix - Train\")"
   ]
  },
  {
   "cell_type": "markdown",
   "id": "fb51932a-2c10-4cb0-a6d9-f9da6b06ea9e",
   "metadata": {},
   "source": [
    "To find the best hyperparameters, let's perform manual hyperparameter tuning. The following code iterates through different combinations of learning rates (lr), batch sizes (batch_size), and epochs (epochs). For each combination, it trains the model using the training data and evaluates its performance on the validation set. The best hyperparameters are determined based on the lowest mean squared error (MSE) on the test set, and the corresponding best model is retained."
   ]
  },
  {
   "cell_type": "code",
   "execution_count": 160,
   "id": "c06f1faf-0cad-46d9-b1a3-079ee41b5156",
   "metadata": {
    "tags": []
   },
   "outputs": [
    {
     "name": "stdout",
     "output_type": "stream",
     "text": [
      "LR: 0.001, Batch Size: 32, Epoch 50, Test MSE: 0.13793785870075226\n",
      "LR: 0.001, Batch Size: 32, Epoch 100, Test MSE: 0.14577074348926544\n",
      "LR: 0.001, Batch Size: 64, Epoch 50, Test MSE: 0.13791513442993164\n",
      "LR: 0.001, Batch Size: 64, Epoch 100, Test MSE: 0.14161191880702972\n",
      "LR: 0.01, Batch Size: 32, Epoch 50, Test MSE: 0.14426426589488983\n",
      "LR: 0.01, Batch Size: 32, Epoch 100, Test MSE: 0.14349237084388733\n",
      "LR: 0.01, Batch Size: 64, Epoch 50, Test MSE: 0.13809651136398315\n",
      "LR: 0.01, Batch Size: 64, Epoch 100, Test MSE: 0.1516948640346527\n",
      "LR: 0.1, Batch Size: 32, Epoch 50, Test MSE: 0.14148686826229095\n",
      "LR: 0.1, Batch Size: 32, Epoch 100, Test MSE: 0.15089450776576996\n",
      "LR: 0.1, Batch Size: 64, Epoch 50, Test MSE: 0.14622946083545685\n",
      "LR: 0.1, Batch Size: 64, Epoch 100, Test MSE: 0.1407519429922104\n",
      "Best Hyperparameters: {'lr': 0.001, 'batch_size': 64, 'epochs': 50}\n"
     ]
    }
   ],
   "source": [
    "# hyperparameter tuning\n",
    "best_mse = float('inf')\n",
    "best_params = None\n",
    "\n",
    "for lr in [0.001, 0.01, 0.1]:\n",
    "    for batch_size in [32, 64]:\n",
    "        for epochs in [50, 100]:\n",
    "            model = RegressionNN(X_train.shape[1])\n",
    "            optimizer = optim.Adam(model.parameters(), lr=lr)\n",
    "            criterion = nn.MSELoss()\n",
    "\n",
    "            train_loader = DataLoader(train_data, batch_size=batch_size, shuffle=True)\n",
    "            val_loader = DataLoader(val_data, batch_size=batch_size)\n",
    "\n",
    "            for epoch in range(epochs):\n",
    "                model.train()\n",
    "                for inputs, targets in train_loader:\n",
    "                    optimizer.zero_grad()\n",
    "                    outputs = model(inputs)\n",
    "                    loss = criterion(outputs, targets)\n",
    "                    loss.backward()\n",
    "                    optimizer.step()\n",
    "\n",
    "                model.eval()\n",
    "                with torch.no_grad():\n",
    "                    val_loss = 0.0\n",
    "                    for inputs, targets in val_loader:\n",
    "                        outputs = model(inputs)\n",
    "                        val_loss += criterion(outputs, targets)\n",
    "\n",
    "                val_mse = val_loss / len(val_loader)\n",
    "\n",
    "            model.eval()\n",
    "            predictions = []\n",
    "            targets_list = []\n",
    "            with torch.no_grad():\n",
    "                for inputs, targets in DataLoader(test_data, batch_size=batch_size):\n",
    "                    outputs = model(inputs)\n",
    "                    predictions.extend(outputs.numpy())\n",
    "                    targets_list.extend(targets.numpy())\n",
    "\n",
    "            test_mse = mean_squared_error(targets_list, predictions)\n",
    "            print(f'LR: {lr}, Batch Size: {batch_size}, Epoch {epochs}, Test MSE: {test_mse}')\n",
    "\n",
    "            if test_mse < best_mse:\n",
    "                best_mse = test_mse\n",
    "                best_params = {'lr': lr, 'batch_size': batch_size, 'epochs': epochs}\n",
    "                best_model = model\n",
    "\n",
    "print(\"Best Hyperparameters:\", best_params)"
   ]
  },
  {
   "cell_type": "markdown",
   "id": "2bc98754-4409-4cf2-8253-68a958fed4ae",
   "metadata": {},
   "source": [
    "From the results of our exhaustive search, we can see that the MSEs for the hyperparameter combinations are around 13-15%. The best performing hyperparameter combination is learning rate = 0.001, batch size = 64, and epochs = 50."
   ]
  },
  {
   "cell_type": "markdown",
   "id": "464e4323-0057-49e5-84fc-badb55bbd42c",
   "metadata": {},
   "source": [
    "Let's evaluate our best model."
   ]
  },
  {
   "cell_type": "code",
   "execution_count": 176,
   "id": "2bc693c8-33a7-4743-bb4b-b1be7d70c393",
   "metadata": {
    "tags": []
   },
   "outputs": [
    {
     "name": "stdout",
     "output_type": "stream",
     "text": [
      "Train MSE: 0.13036750257015228\n"
     ]
    }
   ],
   "source": [
    "# evaluation (training set - best model)\n",
    "best_model.eval()\n",
    "predictions = []\n",
    "targets_list = []\n",
    "with torch.no_grad():\n",
    "    for inputs, targets in train_loader:\n",
    "        outputs = best_model(inputs)\n",
    "        predictions.extend(outputs.numpy())\n",
    "        targets_list.extend(targets.numpy())\n",
    "\n",
    "train_mse = mean_squared_error(targets_list, predictions)\n",
    "print(f'Train MSE: {train_mse}')"
   ]
  },
  {
   "cell_type": "code",
   "execution_count": 177,
   "id": "1fcba866-94d4-43b6-a030-2efa94683e20",
   "metadata": {
    "tags": []
   },
   "outputs": [
    {
     "name": "stdout",
     "output_type": "stream",
     "text": [
      "\n",
      "Train Accuracy: 0.8127376425855514\n",
      "Train Confusion Matrix:\n",
      " [[1008  497]\n",
      " [ 291 2412]]\n",
      "Train Classification Report:\n",
      "               precision    recall  f1-score   support\n",
      "\n",
      "         0.0       0.78      0.67      0.72      1505\n",
      "         1.0       0.83      0.89      0.86      2703\n",
      "\n",
      "    accuracy                           0.81      4208\n",
      "   macro avg       0.80      0.78      0.79      4208\n",
      "weighted avg       0.81      0.81      0.81      4208\n",
      "\n"
     ]
    },
    {
     "data": {
      "image/png": "[encoded data removed]",
      "text/plain": [
       "<Figure size 1200x400 with 1 Axes>"
      ]
     },
     "metadata": {},
     "output_type": "display_data"
    }
   ],
   "source": [
    "show_metrics(targets_list, np.round(predictions), mode=\"Train\")\n",
    "conf_matrix_train = confusion_matrix(targets_list, np.round(predictions))\n",
    "show_mat(conf_matrix_train, title=\"Confusion Matrix - Train\")"
   ]
  },
  {
   "cell_type": "markdown",
   "id": "2d8ae9ee-b297-4738-94fe-8c63d39a090e",
   "metadata": {},
   "source": [
    "From the classification report, we can see that the best model shows marginal improvement in accuracy over the initial model."
   ]
  },
  {
   "cell_type": "code",
   "execution_count": 174,
   "id": "a52f0116-3f20-4cb8-9e65-55751e87440a",
   "metadata": {
    "tags": []
   },
   "outputs": [
    {
     "name": "stdout",
     "output_type": "stream",
     "text": [
      "Test MSE: 0.13791513442993164\n"
     ]
    }
   ],
   "source": [
    "# evaluation (test set - best model)\n",
    "best_model.eval()\n",
    "predictions = []\n",
    "targets_list = []\n",
    "with torch.no_grad():\n",
    "    for inputs, targets in test_loader:\n",
    "        outputs = best_model(inputs)\n",
    "        predictions.extend(outputs.numpy())\n",
    "        targets_list.extend(targets.numpy())\n",
    "\n",
    "test_mse = mean_squared_error(targets_list, predictions)\n",
    "print(f'Test MSE: {test_mse}')"
   ]
  },
  {
   "cell_type": "code",
   "execution_count": 175,
   "id": "c40297d5-025c-4263-878d-e41f34868661",
   "metadata": {
    "tags": []
   },
   "outputs": [
    {
     "name": "stdout",
     "output_type": "stream",
     "text": [
      "\n",
      "Test Accuracy: 0.7986322188449848\n",
      "Test Confusion Matrix:\n",
      " [[286 151]\n",
      " [114 765]]\n",
      "Test Classification Report:\n",
      "               precision    recall  f1-score   support\n",
      "\n",
      "         0.0       0.71      0.65      0.68       437\n",
      "         1.0       0.84      0.87      0.85       879\n",
      "\n",
      "    accuracy                           0.80      1316\n",
      "   macro avg       0.78      0.76      0.77      1316\n",
      "weighted avg       0.80      0.80      0.80      1316\n",
      "\n"
     ]
    },
    {
     "data": {
      "image/png": "[encoded data removed]",
      "text/plain": [
       "<Figure size 1200x400 with 1 Axes>"
      ]
     },
     "metadata": {},
     "output_type": "display_data"
    }
   ],
   "source": [
    "show_metrics(targets_list, np.round(predictions), mode=\"Test\")\n",
    "conf_matrix_test = confusion_matrix(targets_list, np.round(predictions))\n",
    "show_mat(conf_matrix_test, title=\"Confusion Matrix - Test\")"
   ]
  },
  {
   "cell_type": "markdown",
   "id": "1571c12a-2124-4ce5-a943-b7966d443d33",
   "metadata": {},
   "source": [
    "We can see from the report that the accuracy of the best model on the test set is around 79.86%, which is close to the results of the model on the training set (81.27%)."
   ]
  },
  {
   "cell_type": "markdown",
   "id": "aca4bd55-e3d5-47a0-b94e-28269aab4bfd",
   "metadata": {},
   "source": [
    "# Neural Network Conclusion"
   ]
  },
  {
   "cell_type": "markdown",
   "id": "288198e3-c88e-4dc7-afd4-489e203b8776",
   "metadata": {},
   "source": [
    "In conclusion, the created neural network with the best hyperparameters does a good job with new data, demonstrating its effectiveness in predicting the number of goals in the remaining playing time of soccer matches. The model underwent a comprehensive training process, incorporating hyperparameter tuning to enhance its performance. "
   ]
  },
  {
   "cell_type": "markdown",
   "id": "72384add-6716-4558-b30e-66e02030acbc",
   "metadata": {},
   "source": [
    "# Decision Tree Classifier"
   ]
  },
  {
   "cell_type": "markdown",
   "id": "91e6db68-7bbe-442b-b49f-b7e06c078b0e",
   "metadata": {},
   "source": [
    "This time let's see how Random Forest will classify this."
   ]
  },
  {
   "cell_type": "code",
   "execution_count": 44,
   "id": "8797c5ba-4112-43fc-9442-48cce37a276a",
   "metadata": {},
   "outputs": [
    {
     "data": {
      "text/html": [
       "<style>#sk-container-id-2 {color: black;}#sk-container-id-2 pre{padding: 0;}#sk-container-id-2 div.sk-toggleable {background-color: white;}#sk-container-id-2 label.sk-toggleable__label {cursor: pointer;display: block;width: 100%;margin-bottom: 0;padding: 0.3em;box-sizing: border-box;text-align: center;}#sk-container-id-2 label.sk-toggleable__label-arrow:before {content: \"▸\";float: left;margin-right: 0.25em;color: #696969;}#sk-container-id-2 label.sk-toggleable__label-arrow:hover:before {color: black;}#sk-container-id-2 div.sk-estimator:hover label.sk-toggleable__label-arrow:before {color: black;}#sk-container-id-2 div.sk-toggleable__content {max-height: 0;max-width: 0;overflow: hidden;text-align: left;background-color: #f0f8ff;}#sk-container-id-2 div.sk-toggleable__content pre {margin: 0.2em;color: black;border-radius: 0.25em;background-color: #f0f8ff;}#sk-container-id-2 input.sk-toggleable__control:checked~div.sk-toggleable__content {max-height: 200px;max-width: 100%;overflow: auto;}#sk-container-id-2 input.sk-toggleable__control:checked~label.sk-toggleable__label-arrow:before {content: \"▾\";}#sk-container-id-2 div.sk-estimator input.sk-toggleable__control:checked~label.sk-toggleable__label {background-color: #d4ebff;}#sk-container-id-2 div.sk-label input.sk-toggleable__control:checked~label.sk-toggleable__label {background-color: #d4ebff;}#sk-container-id-2 input.sk-hidden--visually {border: 0;clip: rect(1px 1px 1px 1px);clip: rect(1px, 1px, 1px, 1px);height: 1px;margin: -1px;overflow: hidden;padding: 0;position: absolute;width: 1px;}#sk-container-id-2 div.sk-estimator {font-family: monospace;background-color: #f0f8ff;border: 1px dotted black;border-radius: 0.25em;box-sizing: border-box;margin-bottom: 0.5em;}#sk-container-id-2 div.sk-estimator:hover {background-color: #d4ebff;}#sk-container-id-2 div.sk-parallel-item::after {content: \"\";width: 100%;border-bottom: 1px solid gray;flex-grow: 1;}#sk-container-id-2 div.sk-label:hover label.sk-toggleable__label {background-color: #d4ebff;}#sk-container-id-2 div.sk-serial::before {content: \"\";position: absolute;border-left: 1px solid gray;box-sizing: border-box;top: 0;bottom: 0;left: 50%;z-index: 0;}#sk-container-id-2 div.sk-serial {display: flex;flex-direction: column;align-items: center;background-color: white;padding-right: 0.2em;padding-left: 0.2em;position: relative;}#sk-container-id-2 div.sk-item {position: relative;z-index: 1;}#sk-container-id-2 div.sk-parallel {display: flex;align-items: stretch;justify-content: center;background-color: white;position: relative;}#sk-container-id-2 div.sk-item::before, #sk-container-id-2 div.sk-parallel-item::before {content: \"\";position: absolute;border-left: 1px solid gray;box-sizing: border-box;top: 0;bottom: 0;left: 50%;z-index: -1;}#sk-container-id-2 div.sk-parallel-item {display: flex;flex-direction: column;z-index: 1;position: relative;background-color: white;}#sk-container-id-2 div.sk-parallel-item:first-child::after {align-self: flex-end;width: 50%;}#sk-container-id-2 div.sk-parallel-item:last-child::after {align-self: flex-start;width: 50%;}#sk-container-id-2 div.sk-parallel-item:only-child::after {width: 0;}#sk-container-id-2 div.sk-dashed-wrapped {border: 1px dashed gray;margin: 0 0.4em 0.5em 0.4em;box-sizing: border-box;padding-bottom: 0.4em;background-color: white;}#sk-container-id-2 div.sk-label label {font-family: monospace;font-weight: bold;display: inline-block;line-height: 1.2em;}#sk-container-id-2 div.sk-label-container {text-align: center;}#sk-container-id-2 div.sk-container {/* jupyter's `normalize.less` sets `[hidden] { display: none; }` but bootstrap.min.css set `[hidden] { display: none !important; }` so we also need the `!important` here to be able to override the default hidden behavior on the sphinx rendered scikit-learn.org. See: https://github.com/scikit-learn/scikit-learn/issues/21755 */display: inline-block !important;position: relative;}#sk-container-id-2 div.sk-text-repr-fallback {display: none;}</style><div id=\"sk-container-id-2\" class=\"sk-top-container\"><div class=\"sk-text-repr-fallback\"><pre>DecisionTreeClassifier(random_state=42)</pre><b>In a Jupyter environment, please rerun this cell to show the HTML representation or trust the notebook. <br />On GitHub, the HTML representation is unable to render, please try loading this page with nbviewer.org.</b></div><div class=\"sk-container\" hidden><div class=\"sk-item\"><div class=\"sk-estimator sk-toggleable\"><input class=\"sk-toggleable__control sk-hidden--visually\" id=\"sk-estimator-id-2\" type=\"checkbox\" checked><label for=\"sk-estimator-id-2\" class=\"sk-toggleable__label sk-toggleable__label-arrow\">DecisionTreeClassifier</label><div class=\"sk-toggleable__content\"><pre>DecisionTreeClassifier(random_state=42)</pre></div></div></div></div></div>"
      ],
      "text/plain": [
       "DecisionTreeClassifier(random_state=42)"
      ]
     },
     "execution_count": 44,
     "metadata": {},
     "output_type": "execute_result"
    }
   ],
   "source": [
    "# Instantiate Decision Tree model\n",
    "decision_tree = DecisionTreeClassifier(random_state=42)\n",
    "\n",
    "# Train the model on the training set\n",
    "decision_tree.fit(X_train_1, y_train_1)"
   ]
  },
  {
   "cell_type": "markdown",
   "id": "08b4df64-2f76-49e2-ae24-c19817e09105",
   "metadata": {},
   "source": [
    "Let's see how well it performs on validation set"
   ]
  },
  {
   "cell_type": "code",
   "execution_count": 45,
   "id": "9ccdc417-6300-4b46-95da-dfadf510ca6d",
   "metadata": {},
   "outputs": [],
   "source": [
    "# Make predictions on the validation set\n",
    "y_val_pred = decision_tree.predict(X_val)\n",
    "\n",
    "# Evaluate the model on the validation set\n",
    "accuracy = accuracy_score(y_val, y_val_pred)\n",
    "conf_matrix = confusion_matrix(y_val, y_val_pred)\n",
    "class_report = classification_report(y_val, y_val_pred)"
   ]
  },
  {
   "cell_type": "code",
   "execution_count": 46,
   "id": "8b157a5f-9345-4180-90e6-a0a2da7793d3",
   "metadata": {},
   "outputs": [
    {
     "name": "stdout",
     "output_type": "stream",
     "text": [
      "Validation Accuracy: 0.7004038964124495\n",
      "Validation Confusion Matrix:\n",
      " [[ 912  581]\n",
      " [ 680 2036]]\n",
      "Validation Classification Report:\n",
      "               precision    recall  f1-score   support\n",
      "\n",
      "           0       0.57      0.61      0.59      1493\n",
      "           1       0.78      0.75      0.76      2716\n",
      "\n",
      "    accuracy                           0.70      4209\n",
      "   macro avg       0.68      0.68      0.68      4209\n",
      "weighted avg       0.71      0.70      0.70      4209\n",
      "\n"
     ]
    },
    {
     "data": {
      "image/png": "[encoded data removed]",
      "text/plain": [
       "<Figure size 800x600 with 1 Axes>"
      ]
     },
     "metadata": {},
     "output_type": "display_data"
    }
   ],
   "source": [
    "# Display evaluation metrics\n",
    "print(\"Validation Accuracy:\", accuracy)\n",
    "print(\"Validation Confusion Matrix:\\n\", conf_matrix)\n",
    "print(\"Validation Classification Report:\\n\", class_report)\n",
    "\n",
    "# Visualize Confusion Matrix\n",
    "fig, axes = plt.subplots(1, 1, figsize=(8, 6))\n",
    "sns.heatmap(conf_matrix, annot=True, fmt='d', cmap='Blues', cbar=False, ax=axes)\n",
    "axes.set_xlabel('Predicted')\n",
    "axes.set_ylabel('True')\n",
    "axes.set_title('Decision Tree - Validation Set')\n",
    "plt.show()"
   ]
  },
  {
   "cell_type": "markdown",
   "id": "68e86114-0000-43d6-bea4-68cfc7454976",
   "metadata": {},
   "source": [
    "With an accuracy of ~70%, an f1 score of 0.59 for class 0 given the number of misclassifications to class 0 when it should have been class 1.\n",
    "Misclassifying class 0 is less prevalent but it is still sizeable. Initial model is not the best."
   ]
  },
  {
   "cell_type": "code",
   "execution_count": 49,
   "id": "acb4b45b-30a6-4f06-823b-5e48ca6bfa64",
   "metadata": {},
   "outputs": [],
   "source": [
    "# Make predictions on the test set\n",
    "y_test_pred = decision_tree.predict(X_test)\n",
    "\n",
    "# Evaluate the model on the test set\n",
    "test_accuracy = accuracy_score(y_test, y_test_pred)\n",
    "test_conf_matrix = confusion_matrix(y_test, y_test_pred)\n",
    "test_class_report = classification_report(y_test, y_test_pred)"
   ]
  },
  {
   "cell_type": "code",
   "execution_count": 48,
   "id": "8378a4f8-0f1b-411f-a06c-def18fa1e487",
   "metadata": {},
   "outputs": [
    {
     "name": "stdout",
     "output_type": "stream",
     "text": [
      "Test Accuracy: 0.7226443768996961\n",
      "Test Confusion Matrix:\n",
      " [[290 147]\n",
      " [218 661]]\n",
      "Test Classification Report:\n",
      "               precision    recall  f1-score   support\n",
      "\n",
      "           0       0.57      0.66      0.61       437\n",
      "           1       0.82      0.75      0.78       879\n",
      "\n",
      "    accuracy                           0.72      1316\n",
      "   macro avg       0.69      0.71      0.70      1316\n",
      "weighted avg       0.74      0.72      0.73      1316\n",
      "\n"
     ]
    },
    {
     "data": {
      "image/png": "[encoded data removed]",
      "text/plain": [
       "<Figure size 800x600 with 1 Axes>"
      ]
     },
     "metadata": {},
     "output_type": "display_data"
    }
   ],
   "source": [
    "# Display evaluation metrics for the test set\n",
    "print(\"Test Accuracy:\", test_accuracy)\n",
    "print(\"Test Confusion Matrix:\\n\", test_conf_matrix)\n",
    "print(\"Test Classification Report:\\n\", test_class_report)\n",
    "\n",
    "# Visualize Confusion Matrix for the test set\n",
    "fig, axes = plt.subplots(1, 1, figsize=(8, 6))\n",
    "sns.heatmap(test_conf_matrix, annot=True, fmt='d', cmap='Blues', cbar=False, ax=axes)\n",
    "axes.set_xlabel('Predicted')\n",
    "axes.set_ylabel('True')\n",
    "axes.set_title('Decision Tree - Test Set')\n",
    "plt.show()"
   ]
  },
  {
   "cell_type": "markdown",
   "id": "1e062d0a-6fd9-4ec9-8388-1bbaf12f2dc8",
   "metadata": {},
   "source": [
    "Similar story in test set. There must be something that causes it to fit more to class 0."
   ]
  },
  {
   "cell_type": "markdown",
   "id": "9b6fa3f4-c281-4d5a-aee3-8935c0d2cf7f",
   "metadata": {},
   "source": [
    "Let's try to make the model better. We will use the Validation set  to train it since we already used the training data. using randomized search to save time"
   ]
  },
  {
   "cell_type": "code",
   "execution_count": 53,
   "id": "53931182-ddf7-4680-aba9-7a00692e4d04",
   "metadata": {},
   "outputs": [],
   "source": [
    "from scipy.stats import randint\n",
    "\n",
    "d_hpg = {\n",
    "    'criterion': ['gini', 'entropy'],\n",
    "    'splitter': ['best', 'random'],\n",
    "    'max_depth': [None, 10, 20, 30, 40, 50],\n",
    "    'min_samples_split': randint(2, 20),\n",
    "    'min_samples_leaf': randint(1, 20),\n",
    "    'max_features': ['auto', 'sqrt', 'log2', None]\n",
    "}"
   ]
  },
  {
   "cell_type": "code",
   "execution_count": 54,
   "id": "4d59cdbb-ab73-4330-b9ea-acf29c46bcba",
   "metadata": {},
   "outputs": [],
   "source": [
    "r_dtc = RandomizedSearchCV(decision_tree,d_hpg,scoring = 'f1', n_jobs = -1,refit = True,random_state =42)"
   ]
  },
  {
   "cell_type": "code",
   "execution_count": 55,
   "id": "265fe81f-cfb0-44a5-a249-5b9fa621fb8e",
   "metadata": {},
   "outputs": [
    {
     "name": "stderr",
     "output_type": "stream",
     "text": [
      "C:\\Users\\shawn\\AppData\\Local\\Programs\\Python\\Python311\\Lib\\site-packages\\sklearn\\model_selection\\_validation.py:425: FitFailedWarning: \n",
      "15 fits failed out of a total of 50.\n",
      "The score on these train-test partitions for these parameters will be set to nan.\n",
      "If these failures are not expected, you can try to debug them by setting error_score='raise'.\n",
      "\n",
      "Below are more details about the failures:\n",
      "--------------------------------------------------------------------------------\n",
      "8 fits failed with the following error:\n",
      "Traceback (most recent call last):\n",
      "  File \"C:\\Users\\shawn\\AppData\\Local\\Programs\\Python\\Python311\\Lib\\site-packages\\sklearn\\model_selection\\_validation.py\", line 729, in _fit_and_score\n",
      "    estimator.fit(X_train, y_train, **fit_params)\n",
      "  File \"C:\\Users\\shawn\\AppData\\Local\\Programs\\Python\\Python311\\Lib\\site-packages\\sklearn\\base.py\", line 1145, in wrapper\n",
      "    estimator._validate_params()\n",
      "  File \"C:\\Users\\shawn\\AppData\\Local\\Programs\\Python\\Python311\\Lib\\site-packages\\sklearn\\base.py\", line 638, in _validate_params\n",
      "    validate_parameter_constraints(\n",
      "  File \"C:\\Users\\shawn\\AppData\\Local\\Programs\\Python\\Python311\\Lib\\site-packages\\sklearn\\utils\\_param_validation.py\", line 96, in validate_parameter_constraints\n",
      "    raise InvalidParameterError(\n",
      "sklearn.utils._param_validation.InvalidParameterError: The 'max_features' parameter of DecisionTreeClassifier must be an int in the range [1, inf), a float in the range (0.0, 1.0], a str among {'log2', 'sqrt'} or None. Got 'auto' instead.\n",
      "\n",
      "--------------------------------------------------------------------------------\n",
      "7 fits failed with the following error:\n",
      "Traceback (most recent call last):\n",
      "  File \"C:\\Users\\shawn\\AppData\\Local\\Programs\\Python\\Python311\\Lib\\site-packages\\sklearn\\model_selection\\_validation.py\", line 729, in _fit_and_score\n",
      "    estimator.fit(X_train, y_train, **fit_params)\n",
      "  File \"C:\\Users\\shawn\\AppData\\Local\\Programs\\Python\\Python311\\Lib\\site-packages\\sklearn\\base.py\", line 1145, in wrapper\n",
      "    estimator._validate_params()\n",
      "  File \"C:\\Users\\shawn\\AppData\\Local\\Programs\\Python\\Python311\\Lib\\site-packages\\sklearn\\base.py\", line 638, in _validate_params\n",
      "    validate_parameter_constraints(\n",
      "  File \"C:\\Users\\shawn\\AppData\\Local\\Programs\\Python\\Python311\\Lib\\site-packages\\sklearn\\utils\\_param_validation.py\", line 96, in validate_parameter_constraints\n",
      "    raise InvalidParameterError(\n",
      "sklearn.utils._param_validation.InvalidParameterError: The 'max_features' parameter of DecisionTreeClassifier must be an int in the range [1, inf), a float in the range (0.0, 1.0], a str among {'sqrt', 'log2'} or None. Got 'auto' instead.\n",
      "\n",
      "  warnings.warn(some_fits_failed_message, FitFailedWarning)\n",
      "C:\\Users\\shawn\\AppData\\Local\\Programs\\Python\\Python311\\Lib\\site-packages\\sklearn\\model_selection\\_search.py:979: UserWarning: One or more of the test scores are non-finite: [       nan 0.8142218  0.8072526  0.82642912        nan 0.82613373\n",
      " 0.83270105 0.78406121        nan 0.82226363]\n",
      "  warnings.warn(\n"
     ]
    },
    {
     "data": {
      "text/html": [
       "<style>#sk-container-id-3 {color: black;}#sk-container-id-3 pre{padding: 0;}#sk-container-id-3 div.sk-toggleable {background-color: white;}#sk-container-id-3 label.sk-toggleable__label {cursor: pointer;display: block;width: 100%;margin-bottom: 0;padding: 0.3em;box-sizing: border-box;text-align: center;}#sk-container-id-3 label.sk-toggleable__label-arrow:before {content: \"▸\";float: left;margin-right: 0.25em;color: #696969;}#sk-container-id-3 label.sk-toggleable__label-arrow:hover:before {color: black;}#sk-container-id-3 div.sk-estimator:hover label.sk-toggleable__label-arrow:before {color: black;}#sk-container-id-3 div.sk-toggleable__content {max-height: 0;max-width: 0;overflow: hidden;text-align: left;background-color: #f0f8ff;}#sk-container-id-3 div.sk-toggleable__content pre {margin: 0.2em;color: black;border-radius: 0.25em;background-color: #f0f8ff;}#sk-container-id-3 input.sk-toggleable__control:checked~div.sk-toggleable__content {max-height: 200px;max-width: 100%;overflow: auto;}#sk-container-id-3 input.sk-toggleable__control:checked~label.sk-toggleable__label-arrow:before {content: \"▾\";}#sk-container-id-3 div.sk-estimator input.sk-toggleable__control:checked~label.sk-toggleable__label {background-color: #d4ebff;}#sk-container-id-3 div.sk-label input.sk-toggleable__control:checked~label.sk-toggleable__label {background-color: #d4ebff;}#sk-container-id-3 input.sk-hidden--visually {border: 0;clip: rect(1px 1px 1px 1px);clip: rect(1px, 1px, 1px, 1px);height: 1px;margin: -1px;overflow: hidden;padding: 0;position: absolute;width: 1px;}#sk-container-id-3 div.sk-estimator {font-family: monospace;background-color: #f0f8ff;border: 1px dotted black;border-radius: 0.25em;box-sizing: border-box;margin-bottom: 0.5em;}#sk-container-id-3 div.sk-estimator:hover {background-color: #d4ebff;}#sk-container-id-3 div.sk-parallel-item::after {content: \"\";width: 100%;border-bottom: 1px solid gray;flex-grow: 1;}#sk-container-id-3 div.sk-label:hover label.sk-toggleable__label {background-color: #d4ebff;}#sk-container-id-3 div.sk-serial::before {content: \"\";position: absolute;border-left: 1px solid gray;box-sizing: border-box;top: 0;bottom: 0;left: 50%;z-index: 0;}#sk-container-id-3 div.sk-serial {display: flex;flex-direction: column;align-items: center;background-color: white;padding-right: 0.2em;padding-left: 0.2em;position: relative;}#sk-container-id-3 div.sk-item {position: relative;z-index: 1;}#sk-container-id-3 div.sk-parallel {display: flex;align-items: stretch;justify-content: center;background-color: white;position: relative;}#sk-container-id-3 div.sk-item::before, #sk-container-id-3 div.sk-parallel-item::before {content: \"\";position: absolute;border-left: 1px solid gray;box-sizing: border-box;top: 0;bottom: 0;left: 50%;z-index: -1;}#sk-container-id-3 div.sk-parallel-item {display: flex;flex-direction: column;z-index: 1;position: relative;background-color: white;}#sk-container-id-3 div.sk-parallel-item:first-child::after {align-self: flex-end;width: 50%;}#sk-container-id-3 div.sk-parallel-item:last-child::after {align-self: flex-start;width: 50%;}#sk-container-id-3 div.sk-parallel-item:only-child::after {width: 0;}#sk-container-id-3 div.sk-dashed-wrapped {border: 1px dashed gray;margin: 0 0.4em 0.5em 0.4em;box-sizing: border-box;padding-bottom: 0.4em;background-color: white;}#sk-container-id-3 div.sk-label label {font-family: monospace;font-weight: bold;display: inline-block;line-height: 1.2em;}#sk-container-id-3 div.sk-label-container {text-align: center;}#sk-container-id-3 div.sk-container {/* jupyter's `normalize.less` sets `[hidden] { display: none; }` but bootstrap.min.css set `[hidden] { display: none !important; }` so we also need the `!important` here to be able to override the default hidden behavior on the sphinx rendered scikit-learn.org. See: https://github.com/scikit-learn/scikit-learn/issues/21755 */display: inline-block !important;position: relative;}#sk-container-id-3 div.sk-text-repr-fallback {display: none;}</style><div id=\"sk-container-id-3\" class=\"sk-top-container\"><div class=\"sk-text-repr-fallback\"><pre>RandomizedSearchCV(estimator=DecisionTreeClassifier(random_state=42), n_jobs=-1,\n",
       "                   param_distributions={&#x27;criterion&#x27;: [&#x27;gini&#x27;, &#x27;entropy&#x27;],\n",
       "                                        &#x27;max_depth&#x27;: [None, 10, 20, 30, 40, 50],\n",
       "                                        &#x27;max_features&#x27;: [&#x27;auto&#x27;, &#x27;sqrt&#x27;, &#x27;log2&#x27;,\n",
       "                                                         None],\n",
       "                                        &#x27;min_samples_leaf&#x27;: &lt;scipy.stats._distn_infrastructure.rv_discrete_frozen object at 0x000001BC680AD0D0&gt;,\n",
       "                                        &#x27;min_samples_split&#x27;: &lt;scipy.stats._distn_infrastructure.rv_discrete_frozen object at 0x000001BC67982010&gt;,\n",
       "                                        &#x27;splitter&#x27;: [&#x27;best&#x27;, &#x27;random&#x27;]},\n",
       "                   random_state=42, scoring=&#x27;f1&#x27;)</pre><b>In a Jupyter environment, please rerun this cell to show the HTML representation or trust the notebook. <br />On GitHub, the HTML representation is unable to render, please try loading this page with nbviewer.org.</b></div><div class=\"sk-container\" hidden><div class=\"sk-item sk-dashed-wrapped\"><div class=\"sk-label-container\"><div class=\"sk-label sk-toggleable\"><input class=\"sk-toggleable__control sk-hidden--visually\" id=\"sk-estimator-id-3\" type=\"checkbox\" ><label for=\"sk-estimator-id-3\" class=\"sk-toggleable__label sk-toggleable__label-arrow\">RandomizedSearchCV</label><div class=\"sk-toggleable__content\"><pre>RandomizedSearchCV(estimator=DecisionTreeClassifier(random_state=42), n_jobs=-1,\n",
       "                   param_distributions={&#x27;criterion&#x27;: [&#x27;gini&#x27;, &#x27;entropy&#x27;],\n",
       "                                        &#x27;max_depth&#x27;: [None, 10, 20, 30, 40, 50],\n",
       "                                        &#x27;max_features&#x27;: [&#x27;auto&#x27;, &#x27;sqrt&#x27;, &#x27;log2&#x27;,\n",
       "                                                         None],\n",
       "                                        &#x27;min_samples_leaf&#x27;: &lt;scipy.stats._distn_infrastructure.rv_discrete_frozen object at 0x000001BC680AD0D0&gt;,\n",
       "                                        &#x27;min_samples_split&#x27;: &lt;scipy.stats._distn_infrastructure.rv_discrete_frozen object at 0x000001BC67982010&gt;,\n",
       "                                        &#x27;splitter&#x27;: [&#x27;best&#x27;, &#x27;random&#x27;]},\n",
       "                   random_state=42, scoring=&#x27;f1&#x27;)</pre></div></div></div><div class=\"sk-parallel\"><div class=\"sk-parallel-item\"><div class=\"sk-item\"><div class=\"sk-label-container\"><div class=\"sk-label sk-toggleable\"><input class=\"sk-toggleable__control sk-hidden--visually\" id=\"sk-estimator-id-4\" type=\"checkbox\" ><label for=\"sk-estimator-id-4\" class=\"sk-toggleable__label sk-toggleable__label-arrow\">estimator: DecisionTreeClassifier</label><div class=\"sk-toggleable__content\"><pre>DecisionTreeClassifier(random_state=42)</pre></div></div></div><div class=\"sk-serial\"><div class=\"sk-item\"><div class=\"sk-estimator sk-toggleable\"><input class=\"sk-toggleable__control sk-hidden--visually\" id=\"sk-estimator-id-5\" type=\"checkbox\" ><label for=\"sk-estimator-id-5\" class=\"sk-toggleable__label sk-toggleable__label-arrow\">DecisionTreeClassifier</label><div class=\"sk-toggleable__content\"><pre>DecisionTreeClassifier(random_state=42)</pre></div></div></div></div></div></div></div></div></div></div>"
      ],
      "text/plain": [
       "RandomizedSearchCV(estimator=DecisionTreeClassifier(random_state=42), n_jobs=-1,\n",
       "                   param_distributions={'criterion': ['gini', 'entropy'],\n",
       "                                        'max_depth': [None, 10, 20, 30, 40, 50],\n",
       "                                        'max_features': ['auto', 'sqrt', 'log2',\n",
       "                                                         None],\n",
       "                                        'min_samples_leaf': <scipy.stats._distn_infrastructure.rv_discrete_frozen object at 0x000001BC680AD0D0>,\n",
       "                                        'min_samples_split': <scipy.stats._distn_infrastructure.rv_discrete_frozen object at 0x000001BC67982010>,\n",
       "                                        'splitter': ['best', 'random']},\n",
       "                   random_state=42, scoring='f1')"
      ]
     },
     "execution_count": 55,
     "metadata": {},
     "output_type": "execute_result"
    }
   ],
   "source": [
    "r_dtc.fit(X_val,y_val)"
   ]
  },
  {
   "cell_type": "code",
   "execution_count": 56,
   "id": "d67fdfdb-3c02-4121-bd83-494b78430fe1",
   "metadata": {},
   "outputs": [
    {
     "data": {
      "text/html": [
       "<style>#sk-container-id-4 {color: black;}#sk-container-id-4 pre{padding: 0;}#sk-container-id-4 div.sk-toggleable {background-color: white;}#sk-container-id-4 label.sk-toggleable__label {cursor: pointer;display: block;width: 100%;margin-bottom: 0;padding: 0.3em;box-sizing: border-box;text-align: center;}#sk-container-id-4 label.sk-toggleable__label-arrow:before {content: \"▸\";float: left;margin-right: 0.25em;color: #696969;}#sk-container-id-4 label.sk-toggleable__label-arrow:hover:before {color: black;}#sk-container-id-4 div.sk-estimator:hover label.sk-toggleable__label-arrow:before {color: black;}#sk-container-id-4 div.sk-toggleable__content {max-height: 0;max-width: 0;overflow: hidden;text-align: left;background-color: #f0f8ff;}#sk-container-id-4 div.sk-toggleable__content pre {margin: 0.2em;color: black;border-radius: 0.25em;background-color: #f0f8ff;}#sk-container-id-4 input.sk-toggleable__control:checked~div.sk-toggleable__content {max-height: 200px;max-width: 100%;overflow: auto;}#sk-container-id-4 input.sk-toggleable__control:checked~label.sk-toggleable__label-arrow:before {content: \"▾\";}#sk-container-id-4 div.sk-estimator input.sk-toggleable__control:checked~label.sk-toggleable__label {background-color: #d4ebff;}#sk-container-id-4 div.sk-label input.sk-toggleable__control:checked~label.sk-toggleable__label {background-color: #d4ebff;}#sk-container-id-4 input.sk-hidden--visually {border: 0;clip: rect(1px 1px 1px 1px);clip: rect(1px, 1px, 1px, 1px);height: 1px;margin: -1px;overflow: hidden;padding: 0;position: absolute;width: 1px;}#sk-container-id-4 div.sk-estimator {font-family: monospace;background-color: #f0f8ff;border: 1px dotted black;border-radius: 0.25em;box-sizing: border-box;margin-bottom: 0.5em;}#sk-container-id-4 div.sk-estimator:hover {background-color: #d4ebff;}#sk-container-id-4 div.sk-parallel-item::after {content: \"\";width: 100%;border-bottom: 1px solid gray;flex-grow: 1;}#sk-container-id-4 div.sk-label:hover label.sk-toggleable__label {background-color: #d4ebff;}#sk-container-id-4 div.sk-serial::before {content: \"\";position: absolute;border-left: 1px solid gray;box-sizing: border-box;top: 0;bottom: 0;left: 50%;z-index: 0;}#sk-container-id-4 div.sk-serial {display: flex;flex-direction: column;align-items: center;background-color: white;padding-right: 0.2em;padding-left: 0.2em;position: relative;}#sk-container-id-4 div.sk-item {position: relative;z-index: 1;}#sk-container-id-4 div.sk-parallel {display: flex;align-items: stretch;justify-content: center;background-color: white;position: relative;}#sk-container-id-4 div.sk-item::before, #sk-container-id-4 div.sk-parallel-item::before {content: \"\";position: absolute;border-left: 1px solid gray;box-sizing: border-box;top: 0;bottom: 0;left: 50%;z-index: -1;}#sk-container-id-4 div.sk-parallel-item {display: flex;flex-direction: column;z-index: 1;position: relative;background-color: white;}#sk-container-id-4 div.sk-parallel-item:first-child::after {align-self: flex-end;width: 50%;}#sk-container-id-4 div.sk-parallel-item:last-child::after {align-self: flex-start;width: 50%;}#sk-container-id-4 div.sk-parallel-item:only-child::after {width: 0;}#sk-container-id-4 div.sk-dashed-wrapped {border: 1px dashed gray;margin: 0 0.4em 0.5em 0.4em;box-sizing: border-box;padding-bottom: 0.4em;background-color: white;}#sk-container-id-4 div.sk-label label {font-family: monospace;font-weight: bold;display: inline-block;line-height: 1.2em;}#sk-container-id-4 div.sk-label-container {text-align: center;}#sk-container-id-4 div.sk-container {/* jupyter's `normalize.less` sets `[hidden] { display: none; }` but bootstrap.min.css set `[hidden] { display: none !important; }` so we also need the `!important` here to be able to override the default hidden behavior on the sphinx rendered scikit-learn.org. See: https://github.com/scikit-learn/scikit-learn/issues/21755 */display: inline-block !important;position: relative;}#sk-container-id-4 div.sk-text-repr-fallback {display: none;}</style><div id=\"sk-container-id-4\" class=\"sk-top-container\"><div class=\"sk-text-repr-fallback\"><pre>DecisionTreeClassifier(criterion=&#x27;entropy&#x27;, max_depth=30, min_samples_leaf=15,\n",
       "                       min_samples_split=16, random_state=42,\n",
       "                       splitter=&#x27;random&#x27;)</pre><b>In a Jupyter environment, please rerun this cell to show the HTML representation or trust the notebook. <br />On GitHub, the HTML representation is unable to render, please try loading this page with nbviewer.org.</b></div><div class=\"sk-container\" hidden><div class=\"sk-item\"><div class=\"sk-estimator sk-toggleable\"><input class=\"sk-toggleable__control sk-hidden--visually\" id=\"sk-estimator-id-6\" type=\"checkbox\" checked><label for=\"sk-estimator-id-6\" class=\"sk-toggleable__label sk-toggleable__label-arrow\">DecisionTreeClassifier</label><div class=\"sk-toggleable__content\"><pre>DecisionTreeClassifier(criterion=&#x27;entropy&#x27;, max_depth=30, min_samples_leaf=15,\n",
       "                       min_samples_split=16, random_state=42,\n",
       "                       splitter=&#x27;random&#x27;)</pre></div></div></div></div></div>"
      ],
      "text/plain": [
       "DecisionTreeClassifier(criterion='entropy', max_depth=30, min_samples_leaf=15,\n",
       "                       min_samples_split=16, random_state=42,\n",
       "                       splitter='random')"
      ]
     },
     "execution_count": 56,
     "metadata": {},
     "output_type": "execute_result"
    }
   ],
   "source": [
    "r_dtc.best_estimator_"
   ]
  },
  {
   "cell_type": "markdown",
   "id": "144310e3-357c-4f5f-8a08-10073be0dc12",
   "metadata": {},
   "source": [
    "Okay, those are the hyperparameters we got. let's see if the training went well first. let's evaluate on validation set"
   ]
  },
  {
   "cell_type": "code",
   "execution_count": 59,
   "id": "7fb236dc-01b1-40fa-8bcf-2010f7bc336e",
   "metadata": {},
   "outputs": [
    {
     "name": "stdout",
     "output_type": "stream",
     "text": [
      "\n",
      "Train Accuracy: 0.8063673081492041\n",
      "Train Confusion Matrix:\n",
      " [[ 913  580]\n",
      " [ 235 2481]]\n",
      "Train Classification Report:\n",
      "               precision    recall  f1-score   support\n",
      "\n",
      "           0       0.80      0.61      0.69      1493\n",
      "           1       0.81      0.91      0.86      2716\n",
      "\n",
      "    accuracy                           0.81      4209\n",
      "   macro avg       0.80      0.76      0.78      4209\n",
      "weighted avg       0.81      0.81      0.80      4209\n",
      "\n"
     ]
    },
    {
     "data": {
      "image/png": "[encoded data removed]",
      "text/plain": [
       "<Figure size 1200x400 with 1 Axes>"
      ]
     },
     "metadata": {},
     "output_type": "display_data"
    }
   ],
   "source": [
    "p_val = r_dtc.predict(X_val)\n",
    "metrics = show_metrics(y_val,p_val, 'Train')\n",
    "show_mat(metrics[1], \"Validation Set Statistics on Optimised estimator\")"
   ]
  },
  {
   "cell_type": "markdown",
   "id": "1ff4f397-68f4-44d6-ad26-57a6488fd2f7",
   "metadata": {},
   "source": [
    "Doing better. accuracy is now ~80%. F1 score for class 1 and class 0 also improved but for some reason, it still likes to misclassify 1 as a 0 sometimes. Not as often as before atleast"
   ]
  },
  {
   "cell_type": "markdown",
   "id": "4f01c69e-e70b-4f1c-8253-eacfa6721f91",
   "metadata": {},
   "source": [
    "Let's take do the real test."
   ]
  },
  {
   "cell_type": "code",
   "execution_count": 61,
   "id": "b05d7998-d643-492d-b8f9-48c8608d55c3",
   "metadata": {},
   "outputs": [
    {
     "name": "stdout",
     "output_type": "stream",
     "text": [
      "\n",
      "Test Accuracy: 0.7849544072948328\n",
      "Test Confusion Matrix:\n",
      " [[250 187]\n",
      " [ 96 783]]\n",
      "Test Classification Report:\n",
      "               precision    recall  f1-score   support\n",
      "\n",
      "           0       0.72      0.57      0.64       437\n",
      "           1       0.81      0.89      0.85       879\n",
      "\n",
      "    accuracy                           0.78      1316\n",
      "   macro avg       0.76      0.73      0.74      1316\n",
      "weighted avg       0.78      0.78      0.78      1316\n",
      "\n"
     ]
    },
    {
     "data": {
      "image/png": "[encoded data removed]",
      "text/plain": [
       "<Figure size 1200x400 with 1 Axes>"
      ]
     },
     "metadata": {},
     "output_type": "display_data"
    }
   ],
   "source": [
    "p_val = r_dtc.predict(X_test)\n",
    "metrics = show_metrics(y_test,p_val, 'Test')\n",
    "show_mat(metrics[1], \"Test set Statistics on Optimised estimator\")"
   ]
  },
  {
   "cell_type": "markdown",
   "id": "84746208-97be-44dc-aabc-27d89e1298af",
   "metadata": {},
   "source": [
    "Marginally more accurate(~72% for unoptimised, ~78% optimised). same goes for F1 score on both classes."
   ]
  },
  {
   "cell_type": "markdown",
   "id": "9d114548-2866-4fe3-9dd3-3bac37cd8cbd",
   "metadata": {},
   "source": [
    "#  Decision TreeConclusion\n",
    "The final accuracy is not great. the F1 also marginally improved. It seems there is a query that confuses class 1's as class 0's. That means there is may be overlap on the data set and it is confusing the model. Or maybe the query is just not that good."
   ]
  },
  {
   "cell_type": "markdown",
   "id": "96c34c8c-a8ce-4626-8c7b-6e8dfd7a2c10",
   "metadata": {},
   "source": [
    "# Final Conclusion"
   ]
  },
  {
   "cell_type": "markdown",
   "id": "b4944aa4-a2e8-4eaf-9efa-67f79e751654",
   "metadata": {},
   "source": [
    "Decision tree performed the worst. It probably had a hard time since there may be a lot of overlaps on the data like in the current_minute.\n",
    "Or that the model just cannot generalize the data well. This would probably explain why it was the worst performing model. \n",
    "Second place was Logistic regression.  It worked well for classifying and it can generalize the data better, but it was only marginally better. This might be because it is more flexible on how it handles its features. It assigns weights based on how important it thinks the feature is instead of just dividing the set based on a value for that feature.\n",
    "Neural Networks performed better. Makes sense. It is a bit like logistic regression since it  assigns weights based on importance but the amount of computation it did is probably the one that gave it the highest accuracy."
   ]
  }
 ],
 "metadata": {
  "kernelspec": {
   "display_name": "Python 3 (ipykernel)",
   "language": "python",
   "name": "python3"
  },
  "language_info": {
   "codemirror_mode": {
    "name": "ipython",
    "version": 3
   },
   "file_extension": ".py",
   "mimetype": "text/x-python",
   "name": "python",
   "nbconvert_exporter": "python",
   "pygments_lexer": "ipython3",
   "version": "3.11.5"
  }
 },
 "nbformat": 4,
 "nbformat_minor": 5
}
