{
 "cells": [
  {
   "cell_type": "markdown",
   "id": "09302bc8",
   "metadata": {},
   "source": [
    "# Sports Dataset\n",
    "\n",
    "10,000 random photos from soccer matches captured at a single timestamp make up the dataset. Every snapshot has a number of elements that offer details on the current match. The objective of the dataset is to capture the evolving dynamics of a soccer game, and to make predictions for the number of goals that will be scored for the remaining playing time."
   ]
  },
  {
   "cell_type": "markdown",
   "id": "0caa0afd",
   "metadata": {},
   "source": [
    "# Dataset Structure\n",
    "\n",
    "The dataset is presented in a single file with 10,000 rows and 20 columns, each row representing a snapshot of a soccer match, and each column representing a specific attribute or feature of that snapshot.\n",
    "\n",
    "Number of Instances (Rows): 10,000 instances \n",
    "Number of Features (Columns): 20 features/columns "
   ]
  },
  {
   "cell_type": "markdown",
   "id": "e3270845",
   "metadata": {},
   "source": [
    "# Feature Representation\n",
    "\n",
    "The features include identifiers such as uuid, and dynamic match-related details such as the current minute of play, home and away team scores, yellow and red cards for both teams, the number of attacks and dangerous attacks by each team, corners awarded, shots on and off target for both teams, and the ball possession percentage for both the home and away teams until the current minute."
   ]
  },
  {
   "cell_type": "markdown",
   "id": "1da51430",
   "metadata": {},
   "source": [
    "# Libraries\n",
    "\n",
    "- pandas\n",
    "- numpy\n",
    "- matplotlib\n",
    "- pickle\n",
    "- os\n",
    "- sklearn.neighbors KNeighborsClassifier\n",
    "- sklearn.metrics accuracy_score, classification_report, mean_squared_error, r2_score\n",
    "- sklearn.model_selection cross_val_predict, cross_val_score, train_test_split\n",
    "- sklearn preprocessing \n",
    "- sklearn.linear_model LinearRegression"
   ]
  },
  {
   "cell_type": "code",
   "execution_count": 255,
   "id": "442b3c67",
   "metadata": {},
   "outputs": [],
   "source": [
    "import pandas as pd\n",
    "import matplotlib.pyplot as plt\n",
    "import numpy as np\n",
    "import pickle\n",
    "import os\n",
    "import seaborn as sns\n",
    "from sklearn.model_selection import GridSearchCV,RandomizedSearchCV\n",
    "from sklearn.neighbors import KNeighborsClassifier\n",
    "from sklearn.metrics import accuracy_score, classification_report, mean_squared_error, r2_score, confusion_matrix\n",
    "from sklearn.model_selection import cross_val_predict, cross_val_score\n",
    "from sklearn import preprocessing\n",
    "from sklearn.model_selection import train_test_split\n",
    "from sklearn.linear_model import LinearRegression, LogisticRegression\n",
    "from sklearn.preprocessing import StandardScaler\n",
    "from sklearn.linear_model import Lasso\n",
    "from sklearn.linear_model import LassoCV,LogisticRegressionCV"
   ]
  },
  {
   "cell_type": "code",
   "execution_count": 224,
   "id": "fd43de47-6ab2-4693-8401-e426983a3f62",
   "metadata": {
    "scrolled": true
   },
   "outputs": [
    {
     "data": {
      "text/html": [
       "<div>\n",
       "<style scoped>\n",
       "    .dataframe tbody tr th:only-of-type {\n",
       "        vertical-align: middle;\n",
       "    }\n",
       "\n",
       "    .dataframe tbody tr th {\n",
       "        vertical-align: top;\n",
       "    }\n",
       "\n",
       "    .dataframe thead th {\n",
       "        text-align: right;\n",
       "    }\n",
       "</style>\n",
       "<table border=\"1\" class=\"dataframe\">\n",
       "  <thead>\n",
       "    <tr style=\"text-align: right;\">\n",
       "      <th></th>\n",
       "      <th>uuid</th>\n",
       "      <th>current_minute</th>\n",
       "      <th>home_score</th>\n",
       "      <th>away_score</th>\n",
       "      <th>home_yellow_cards</th>\n",
       "      <th>away_yellow_cards</th>\n",
       "      <th>home_red_cards</th>\n",
       "      <th>away_red_cards</th>\n",
       "      <th>home_attacks</th>\n",
       "      <th>away_attacks</th>\n",
       "      <th>...</th>\n",
       "      <th>away_dangerous_attacks</th>\n",
       "      <th>home_corners</th>\n",
       "      <th>away_corners</th>\n",
       "      <th>home_off_target</th>\n",
       "      <th>away_off_target</th>\n",
       "      <th>home_on_target</th>\n",
       "      <th>away_on_target</th>\n",
       "      <th>home_possession</th>\n",
       "      <th>away_possession</th>\n",
       "      <th>final_delta</th>\n",
       "    </tr>\n",
       "  </thead>\n",
       "  <tbody>\n",
       "    <tr>\n",
       "      <th>0</th>\n",
       "      <td>2f9dd904-8d9d-4aa0-a9d9-4e0f3e50d742</td>\n",
       "      <td>94</td>\n",
       "      <td>1</td>\n",
       "      <td>2</td>\n",
       "      <td>0</td>\n",
       "      <td>0</td>\n",
       "      <td>0</td>\n",
       "      <td>0</td>\n",
       "      <td>39</td>\n",
       "      <td>45</td>\n",
       "      <td>...</td>\n",
       "      <td>26</td>\n",
       "      <td>4</td>\n",
       "      <td>1</td>\n",
       "      <td>4</td>\n",
       "      <td>0</td>\n",
       "      <td>4</td>\n",
       "      <td>6</td>\n",
       "      <td>48</td>\n",
       "      <td>52</td>\n",
       "      <td>1</td>\n",
       "    </tr>\n",
       "    <tr>\n",
       "      <th>1</th>\n",
       "      <td>869c1420-9153-4d73-8d79-5db31a8a80a4</td>\n",
       "      <td>91</td>\n",
       "      <td>2</td>\n",
       "      <td>0</td>\n",
       "      <td>0</td>\n",
       "      <td>0</td>\n",
       "      <td>0</td>\n",
       "      <td>0</td>\n",
       "      <td>0</td>\n",
       "      <td>0</td>\n",
       "      <td>...</td>\n",
       "      <td>0</td>\n",
       "      <td>0</td>\n",
       "      <td>0</td>\n",
       "      <td>0</td>\n",
       "      <td>0</td>\n",
       "      <td>0</td>\n",
       "      <td>0</td>\n",
       "      <td>50</td>\n",
       "      <td>50</td>\n",
       "      <td>1</td>\n",
       "    </tr>\n",
       "    <tr>\n",
       "      <th>2</th>\n",
       "      <td>549e25a3-4c93-459d-b115-fb303273c78a</td>\n",
       "      <td>3</td>\n",
       "      <td>0</td>\n",
       "      <td>0</td>\n",
       "      <td>0</td>\n",
       "      <td>0</td>\n",
       "      <td>0</td>\n",
       "      <td>0</td>\n",
       "      <td>3</td>\n",
       "      <td>1</td>\n",
       "      <td>...</td>\n",
       "      <td>0</td>\n",
       "      <td>0</td>\n",
       "      <td>0</td>\n",
       "      <td>0</td>\n",
       "      <td>0</td>\n",
       "      <td>0</td>\n",
       "      <td>0</td>\n",
       "      <td>62</td>\n",
       "      <td>38</td>\n",
       "      <td>4</td>\n",
       "    </tr>\n",
       "    <tr>\n",
       "      <th>3</th>\n",
       "      <td>287b4be5-9163-4e2e-895d-d11052a97410</td>\n",
       "      <td>17</td>\n",
       "      <td>0</td>\n",
       "      <td>0</td>\n",
       "      <td>1</td>\n",
       "      <td>0</td>\n",
       "      <td>0</td>\n",
       "      <td>0</td>\n",
       "      <td>41</td>\n",
       "      <td>46</td>\n",
       "      <td>...</td>\n",
       "      <td>25</td>\n",
       "      <td>1</td>\n",
       "      <td>0</td>\n",
       "      <td>0</td>\n",
       "      <td>2</td>\n",
       "      <td>0</td>\n",
       "      <td>0</td>\n",
       "      <td>55</td>\n",
       "      <td>45</td>\n",
       "      <td>2</td>\n",
       "    </tr>\n",
       "    <tr>\n",
       "      <th>4</th>\n",
       "      <td>a607da6a-d6b2-4652-b7a5-6c8e4b61c2b8</td>\n",
       "      <td>76</td>\n",
       "      <td>1</td>\n",
       "      <td>0</td>\n",
       "      <td>1</td>\n",
       "      <td>0</td>\n",
       "      <td>0</td>\n",
       "      <td>0</td>\n",
       "      <td>69</td>\n",
       "      <td>78</td>\n",
       "      <td>...</td>\n",
       "      <td>46</td>\n",
       "      <td>1</td>\n",
       "      <td>1</td>\n",
       "      <td>0</td>\n",
       "      <td>3</td>\n",
       "      <td>4</td>\n",
       "      <td>4</td>\n",
       "      <td>45</td>\n",
       "      <td>55</td>\n",
       "      <td>0</td>\n",
       "    </tr>\n",
       "    <tr>\n",
       "      <th>...</th>\n",
       "      <td>...</td>\n",
       "      <td>...</td>\n",
       "      <td>...</td>\n",
       "      <td>...</td>\n",
       "      <td>...</td>\n",
       "      <td>...</td>\n",
       "      <td>...</td>\n",
       "      <td>...</td>\n",
       "      <td>...</td>\n",
       "      <td>...</td>\n",
       "      <td>...</td>\n",
       "      <td>...</td>\n",
       "      <td>...</td>\n",
       "      <td>...</td>\n",
       "      <td>...</td>\n",
       "      <td>...</td>\n",
       "      <td>...</td>\n",
       "      <td>...</td>\n",
       "      <td>...</td>\n",
       "      <td>...</td>\n",
       "      <td>...</td>\n",
       "    </tr>\n",
       "    <tr>\n",
       "      <th>6995</th>\n",
       "      <td>838f35c5-afa3-474b-876e-063fd49d4326</td>\n",
       "      <td>32</td>\n",
       "      <td>0</td>\n",
       "      <td>0</td>\n",
       "      <td>0</td>\n",
       "      <td>0</td>\n",
       "      <td>0</td>\n",
       "      <td>0</td>\n",
       "      <td>16</td>\n",
       "      <td>25</td>\n",
       "      <td>...</td>\n",
       "      <td>13</td>\n",
       "      <td>0</td>\n",
       "      <td>1</td>\n",
       "      <td>1</td>\n",
       "      <td>2</td>\n",
       "      <td>0</td>\n",
       "      <td>1</td>\n",
       "      <td>45</td>\n",
       "      <td>55</td>\n",
       "      <td>0</td>\n",
       "    </tr>\n",
       "    <tr>\n",
       "      <th>6996</th>\n",
       "      <td>4bcfd248-5f39-4af2-b465-5358c9e7088e</td>\n",
       "      <td>101</td>\n",
       "      <td>3</td>\n",
       "      <td>0</td>\n",
       "      <td>0</td>\n",
       "      <td>1</td>\n",
       "      <td>0</td>\n",
       "      <td>0</td>\n",
       "      <td>0</td>\n",
       "      <td>0</td>\n",
       "      <td>...</td>\n",
       "      <td>0</td>\n",
       "      <td>0</td>\n",
       "      <td>0</td>\n",
       "      <td>0</td>\n",
       "      <td>0</td>\n",
       "      <td>0</td>\n",
       "      <td>0</td>\n",
       "      <td>50</td>\n",
       "      <td>50</td>\n",
       "      <td>0</td>\n",
       "    </tr>\n",
       "    <tr>\n",
       "      <th>6997</th>\n",
       "      <td>deccdc2c-625e-495a-9b06-02d540d4cd24</td>\n",
       "      <td>78</td>\n",
       "      <td>1</td>\n",
       "      <td>0</td>\n",
       "      <td>0</td>\n",
       "      <td>0</td>\n",
       "      <td>0</td>\n",
       "      <td>0</td>\n",
       "      <td>71</td>\n",
       "      <td>60</td>\n",
       "      <td>...</td>\n",
       "      <td>40</td>\n",
       "      <td>7</td>\n",
       "      <td>0</td>\n",
       "      <td>5</td>\n",
       "      <td>5</td>\n",
       "      <td>7</td>\n",
       "      <td>0</td>\n",
       "      <td>61</td>\n",
       "      <td>39</td>\n",
       "      <td>2</td>\n",
       "    </tr>\n",
       "    <tr>\n",
       "      <th>6998</th>\n",
       "      <td>94a20308-55d8-47cb-8f8b-d2702a531c74</td>\n",
       "      <td>72</td>\n",
       "      <td>2</td>\n",
       "      <td>0</td>\n",
       "      <td>0</td>\n",
       "      <td>0</td>\n",
       "      <td>0</td>\n",
       "      <td>0</td>\n",
       "      <td>85</td>\n",
       "      <td>66</td>\n",
       "      <td>...</td>\n",
       "      <td>20</td>\n",
       "      <td>3</td>\n",
       "      <td>0</td>\n",
       "      <td>4</td>\n",
       "      <td>1</td>\n",
       "      <td>2</td>\n",
       "      <td>1</td>\n",
       "      <td>52</td>\n",
       "      <td>48</td>\n",
       "      <td>0</td>\n",
       "    </tr>\n",
       "    <tr>\n",
       "      <th>6999</th>\n",
       "      <td>0362876c-00dc-428f-a278-303d175a6ad2</td>\n",
       "      <td>8</td>\n",
       "      <td>0</td>\n",
       "      <td>0</td>\n",
       "      <td>0</td>\n",
       "      <td>0</td>\n",
       "      <td>0</td>\n",
       "      <td>0</td>\n",
       "      <td>6</td>\n",
       "      <td>14</td>\n",
       "      <td>...</td>\n",
       "      <td>3</td>\n",
       "      <td>0</td>\n",
       "      <td>0</td>\n",
       "      <td>0</td>\n",
       "      <td>0</td>\n",
       "      <td>0</td>\n",
       "      <td>0</td>\n",
       "      <td>31</td>\n",
       "      <td>69</td>\n",
       "      <td>1</td>\n",
       "    </tr>\n",
       "  </tbody>\n",
       "</table>\n",
       "<p>7000 rows × 21 columns</p>\n",
       "</div>"
      ],
      "text/plain": [
       "                                      uuid  current_minute  home_score  \\\n",
       "0     2f9dd904-8d9d-4aa0-a9d9-4e0f3e50d742              94           1   \n",
       "1     869c1420-9153-4d73-8d79-5db31a8a80a4              91           2   \n",
       "2     549e25a3-4c93-459d-b115-fb303273c78a               3           0   \n",
       "3     287b4be5-9163-4e2e-895d-d11052a97410              17           0   \n",
       "4     a607da6a-d6b2-4652-b7a5-6c8e4b61c2b8              76           1   \n",
       "...                                    ...             ...         ...   \n",
       "6995  838f35c5-afa3-474b-876e-063fd49d4326              32           0   \n",
       "6996  4bcfd248-5f39-4af2-b465-5358c9e7088e             101           3   \n",
       "6997  deccdc2c-625e-495a-9b06-02d540d4cd24              78           1   \n",
       "6998  94a20308-55d8-47cb-8f8b-d2702a531c74              72           2   \n",
       "6999  0362876c-00dc-428f-a278-303d175a6ad2               8           0   \n",
       "\n",
       "      away_score  home_yellow_cards  away_yellow_cards  home_red_cards  \\\n",
       "0              2                  0                  0               0   \n",
       "1              0                  0                  0               0   \n",
       "2              0                  0                  0               0   \n",
       "3              0                  1                  0               0   \n",
       "4              0                  1                  0               0   \n",
       "...          ...                ...                ...             ...   \n",
       "6995           0                  0                  0               0   \n",
       "6996           0                  0                  1               0   \n",
       "6997           0                  0                  0               0   \n",
       "6998           0                  0                  0               0   \n",
       "6999           0                  0                  0               0   \n",
       "\n",
       "      away_red_cards  home_attacks  away_attacks  ...  away_dangerous_attacks  \\\n",
       "0                  0            39            45  ...                      26   \n",
       "1                  0             0             0  ...                       0   \n",
       "2                  0             3             1  ...                       0   \n",
       "3                  0            41            46  ...                      25   \n",
       "4                  0            69            78  ...                      46   \n",
       "...              ...           ...           ...  ...                     ...   \n",
       "6995               0            16            25  ...                      13   \n",
       "6996               0             0             0  ...                       0   \n",
       "6997               0            71            60  ...                      40   \n",
       "6998               0            85            66  ...                      20   \n",
       "6999               0             6            14  ...                       3   \n",
       "\n",
       "      home_corners  away_corners  home_off_target  away_off_target  \\\n",
       "0                4             1                4                0   \n",
       "1                0             0                0                0   \n",
       "2                0             0                0                0   \n",
       "3                1             0                0                2   \n",
       "4                1             1                0                3   \n",
       "...            ...           ...              ...              ...   \n",
       "6995             0             1                1                2   \n",
       "6996             0             0                0                0   \n",
       "6997             7             0                5                5   \n",
       "6998             3             0                4                1   \n",
       "6999             0             0                0                0   \n",
       "\n",
       "      home_on_target  away_on_target  home_possession  away_possession  \\\n",
       "0                  4               6               48               52   \n",
       "1                  0               0               50               50   \n",
       "2                  0               0               62               38   \n",
       "3                  0               0               55               45   \n",
       "4                  4               4               45               55   \n",
       "...              ...             ...              ...              ...   \n",
       "6995               0               1               45               55   \n",
       "6996               0               0               50               50   \n",
       "6997               7               0               61               39   \n",
       "6998               2               1               52               48   \n",
       "6999               0               0               31               69   \n",
       "\n",
       "      final_delta  \n",
       "0               1  \n",
       "1               1  \n",
       "2               4  \n",
       "3               2  \n",
       "4               0  \n",
       "...           ...  \n",
       "6995            0  \n",
       "6996            0  \n",
       "6997            2  \n",
       "6998            0  \n",
       "6999            1  \n",
       "\n",
       "[7000 rows x 21 columns]"
      ]
     },
     "execution_count": 224,
     "metadata": {},
     "output_type": "execute_result"
    }
   ],
   "source": [
    "df = pd.read_csv(filepath_or_buffer = 'Dataset 3 - Sports Dataset/sports.csv', header = 0)\n",
    "df"
   ]
  },
  {
   "cell_type": "markdown",
   "id": "eb117b6e",
   "metadata": {},
   "source": [
    "# Data Preprocessing\n",
    "Our objective for this project is to use the data given in the dataset to predict whether 1 or more goals can be scored in the remaining playing time of the match."
   ]
  },
  {
   "cell_type": "code",
   "execution_count": 225,
   "id": "af982e98-9c3f-4f4d-9d4a-79c5cb85bcf7",
   "metadata": {},
   "outputs": [],
   "source": [
    "# Handling Missing Data\n",
    "df.dropna(inplace=True)\n",
    "# delete duplicates\n",
    "df.drop_duplicates('uuid',inplace = True)\n",
    "try:\n",
    "    df = df.drop(['uuid'], axis=1)\n",
    "except:\n",
    "    print('uuid dropped already')\n",
    "# Feature Scaling\n",
    "numerical_features = ['current_minute', 'home_score', 'away_score', 'home_yellow_cards', 'away_yellow_cards',\n",
    "                      'home_red_cards', 'away_red_cards', 'home_attacks', 'away_attacks', 'home_dangerous_attacks',\n",
    "                      'away_dangerous_attacks', 'home_corners', 'away_corners', 'home_off_target', 'away_off_target',\n",
    "                      'home_on_target', 'away_on_target', 'home_possession', 'away_possession']"
   ]
  },
  {
   "cell_type": "markdown",
   "id": "20d63d05-3e3e-4428-8258-62a3410da11e",
   "metadata": {},
   "source": [
    "dropping any data out of the current game. a game only has 105 minutes including halftime."
   ]
  },
  {
   "cell_type": "code",
   "execution_count": 226,
   "id": "1148d45f-ccf1-45ec-a682-801342011ef1",
   "metadata": {},
   "outputs": [],
   "source": [
    "df = df.query(\"0<=current_minute<=105\")"
   ]
  },
  {
   "cell_type": "markdown",
   "id": "92204143-b86b-4f40-ad29-dccf1d418b06",
   "metadata": {},
   "source": [
    " remove rows during halftime. probably an exhibition match.\n",
    " actual play time is 90 minutes. last minute of first half should be minute 44.half time lasts 15.\n",
    " First minute of last half starts at minute 60. all the minutes in last half needs to be subtracted by 15 to make data conitiguous"
   ]
  },
  {
   "cell_type": "code",
   "execution_count": 227,
   "id": "f512bd84-189e-4a0a-8653-173e777ea651",
   "metadata": {},
   "outputs": [],
   "source": [
    "df = df.query(\"44>= current_minute | current_minute >= 60\")\n",
    "fun = lambda t: t-15 if t >=60 else t\n",
    "df['current_minute']=df['current_minute'].apply(fun)"
   ]
  },
  {
   "cell_type": "markdown",
   "id": "5286192e-8fa9-4e16-aae9-3c7c52b577c8",
   "metadata": {},
   "source": [
    "  Create variable for the <!-- remaining time and the--> target. the target indicates whether 1 goal or more will be scored with the remaining time of the match. it shows binary values "
   ]
  },
  {
   "cell_type": "code",
   "execution_count": 228,
   "id": "14d38b7e-14a5-45f6-9ef8-2e8fa77fc61b",
   "metadata": {},
   "outputs": [],
   "source": [
    "# df['remaining_time'] = df['current_minute'].max() - df['current_minute']\n",
    "df['target'] = (df['home_score'] + df['away_score']).apply(lambda x: 1 if x > 0 else 0)\n",
    "df.sort_values(by = ['current_minute'],inplace = True,axis = 0)\n",
    "# df = df.groupby(df['current_minute']).aggregate('sum')\n",
    "# df['current_minute'] = df.index"
   ]
  },
  {
   "cell_type": "code",
   "execution_count": 229,
   "id": "23e90b4c-9233-4106-8b29-5efb9cefa401",
   "metadata": {},
   "outputs": [],
   "source": [
    "X = df.drop(['target'], axis=1)\n",
    "y = df['target']\n",
    "\n",
    "X_train, X_test, y_train, y_test = train_test_split(X, y, test_size=0.2, random_state=42)\n",
    "\n",
    "scaler = StandardScaler()\n",
    "X_train_scaled = scaler.fit_transform(X_train)\n",
    "X_test_scaled = scaler.transform(X_test)"
   ]
  },
  {
   "cell_type": "code",
   "execution_count": 230,
   "id": "0fd06acd",
   "metadata": {},
   "outputs": [
    {
     "name": "stdout",
     "output_type": "stream",
     "text": [
      "Shape of X: (6577, 20)\n",
      "Shape of y: (6577,)\n"
     ]
    }
   ],
   "source": [
    "# Current shape of our X and y\n",
    "print(\"Shape of X:\", X.shape)\n",
    "print(\"Shape of y:\", y.shape)"
   ]
  },
  {
   "cell_type": "markdown",
   "id": "16ea4ec6",
   "metadata": {},
   "source": [
    "# Exploratory Data Analysis"
   ]
  },
  {
   "cell_type": "markdown",
   "id": "f71cd015",
   "metadata": {},
   "source": [
    "This is the content of the dataset"
   ]
  },
  {
   "cell_type": "code",
   "execution_count": 231,
   "id": "5edeccd2",
   "metadata": {},
   "outputs": [
    {
     "name": "stdout",
     "output_type": "stream",
     "text": [
      "First 5 rows of the dataset:\n"
     ]
    },
    {
     "data": {
      "text/html": [
       "<div>\n",
       "<style scoped>\n",
       "    .dataframe tbody tr th:only-of-type {\n",
       "        vertical-align: middle;\n",
       "    }\n",
       "\n",
       "    .dataframe tbody tr th {\n",
       "        vertical-align: top;\n",
       "    }\n",
       "\n",
       "    .dataframe thead th {\n",
       "        text-align: right;\n",
       "    }\n",
       "</style>\n",
       "<table border=\"1\" class=\"dataframe\">\n",
       "  <thead>\n",
       "    <tr style=\"text-align: right;\">\n",
       "      <th></th>\n",
       "      <th>current_minute</th>\n",
       "      <th>home_score</th>\n",
       "      <th>away_score</th>\n",
       "      <th>home_yellow_cards</th>\n",
       "      <th>away_yellow_cards</th>\n",
       "      <th>home_red_cards</th>\n",
       "      <th>away_red_cards</th>\n",
       "      <th>home_attacks</th>\n",
       "      <th>away_attacks</th>\n",
       "      <th>home_dangerous_attacks</th>\n",
       "      <th>...</th>\n",
       "      <th>home_corners</th>\n",
       "      <th>away_corners</th>\n",
       "      <th>home_off_target</th>\n",
       "      <th>away_off_target</th>\n",
       "      <th>home_on_target</th>\n",
       "      <th>away_on_target</th>\n",
       "      <th>home_possession</th>\n",
       "      <th>away_possession</th>\n",
       "      <th>final_delta</th>\n",
       "      <th>target</th>\n",
       "    </tr>\n",
       "  </thead>\n",
       "  <tbody>\n",
       "    <tr>\n",
       "      <th>2554</th>\n",
       "      <td>0</td>\n",
       "      <td>0</td>\n",
       "      <td>0</td>\n",
       "      <td>0</td>\n",
       "      <td>0</td>\n",
       "      <td>0</td>\n",
       "      <td>0</td>\n",
       "      <td>6</td>\n",
       "      <td>0</td>\n",
       "      <td>1</td>\n",
       "      <td>...</td>\n",
       "      <td>0</td>\n",
       "      <td>0</td>\n",
       "      <td>0</td>\n",
       "      <td>0</td>\n",
       "      <td>0</td>\n",
       "      <td>0</td>\n",
       "      <td>80</td>\n",
       "      <td>20</td>\n",
       "      <td>2</td>\n",
       "      <td>0</td>\n",
       "    </tr>\n",
       "    <tr>\n",
       "      <th>2602</th>\n",
       "      <td>0</td>\n",
       "      <td>0</td>\n",
       "      <td>0</td>\n",
       "      <td>0</td>\n",
       "      <td>0</td>\n",
       "      <td>0</td>\n",
       "      <td>0</td>\n",
       "      <td>2</td>\n",
       "      <td>2</td>\n",
       "      <td>1</td>\n",
       "      <td>...</td>\n",
       "      <td>0</td>\n",
       "      <td>0</td>\n",
       "      <td>0</td>\n",
       "      <td>0</td>\n",
       "      <td>0</td>\n",
       "      <td>0</td>\n",
       "      <td>44</td>\n",
       "      <td>56</td>\n",
       "      <td>0</td>\n",
       "      <td>0</td>\n",
       "    </tr>\n",
       "    <tr>\n",
       "      <th>2272</th>\n",
       "      <td>0</td>\n",
       "      <td>0</td>\n",
       "      <td>0</td>\n",
       "      <td>0</td>\n",
       "      <td>0</td>\n",
       "      <td>0</td>\n",
       "      <td>0</td>\n",
       "      <td>2</td>\n",
       "      <td>1</td>\n",
       "      <td>1</td>\n",
       "      <td>...</td>\n",
       "      <td>0</td>\n",
       "      <td>0</td>\n",
       "      <td>0</td>\n",
       "      <td>0</td>\n",
       "      <td>0</td>\n",
       "      <td>0</td>\n",
       "      <td>79</td>\n",
       "      <td>21</td>\n",
       "      <td>7</td>\n",
       "      <td>0</td>\n",
       "    </tr>\n",
       "    <tr>\n",
       "      <th>4331</th>\n",
       "      <td>0</td>\n",
       "      <td>0</td>\n",
       "      <td>0</td>\n",
       "      <td>0</td>\n",
       "      <td>0</td>\n",
       "      <td>0</td>\n",
       "      <td>0</td>\n",
       "      <td>2</td>\n",
       "      <td>1</td>\n",
       "      <td>3</td>\n",
       "      <td>...</td>\n",
       "      <td>0</td>\n",
       "      <td>0</td>\n",
       "      <td>0</td>\n",
       "      <td>0</td>\n",
       "      <td>1</td>\n",
       "      <td>0</td>\n",
       "      <td>36</td>\n",
       "      <td>64</td>\n",
       "      <td>2</td>\n",
       "      <td>0</td>\n",
       "    </tr>\n",
       "    <tr>\n",
       "      <th>3144</th>\n",
       "      <td>0</td>\n",
       "      <td>0</td>\n",
       "      <td>0</td>\n",
       "      <td>0</td>\n",
       "      <td>0</td>\n",
       "      <td>0</td>\n",
       "      <td>0</td>\n",
       "      <td>1</td>\n",
       "      <td>3</td>\n",
       "      <td>0</td>\n",
       "      <td>...</td>\n",
       "      <td>0</td>\n",
       "      <td>0</td>\n",
       "      <td>0</td>\n",
       "      <td>0</td>\n",
       "      <td>0</td>\n",
       "      <td>0</td>\n",
       "      <td>40</td>\n",
       "      <td>60</td>\n",
       "      <td>0</td>\n",
       "      <td>0</td>\n",
       "    </tr>\n",
       "  </tbody>\n",
       "</table>\n",
       "<p>5 rows × 21 columns</p>\n",
       "</div>"
      ],
      "text/plain": [
       "      current_minute  home_score  away_score  home_yellow_cards  \\\n",
       "2554               0           0           0                  0   \n",
       "2602               0           0           0                  0   \n",
       "2272               0           0           0                  0   \n",
       "4331               0           0           0                  0   \n",
       "3144               0           0           0                  0   \n",
       "\n",
       "      away_yellow_cards  home_red_cards  away_red_cards  home_attacks  \\\n",
       "2554                  0               0               0             6   \n",
       "2602                  0               0               0             2   \n",
       "2272                  0               0               0             2   \n",
       "4331                  0               0               0             2   \n",
       "3144                  0               0               0             1   \n",
       "\n",
       "      away_attacks  home_dangerous_attacks  ...  home_corners  away_corners  \\\n",
       "2554             0                       1  ...             0             0   \n",
       "2602             2                       1  ...             0             0   \n",
       "2272             1                       1  ...             0             0   \n",
       "4331             1                       3  ...             0             0   \n",
       "3144             3                       0  ...             0             0   \n",
       "\n",
       "      home_off_target  away_off_target  home_on_target  away_on_target  \\\n",
       "2554                0                0               0               0   \n",
       "2602                0                0               0               0   \n",
       "2272                0                0               0               0   \n",
       "4331                0                0               1               0   \n",
       "3144                0                0               0               0   \n",
       "\n",
       "      home_possession  away_possession  final_delta  target  \n",
       "2554               80               20            2       0  \n",
       "2602               44               56            0       0  \n",
       "2272               79               21            7       0  \n",
       "4331               36               64            2       0  \n",
       "3144               40               60            0       0  \n",
       "\n",
       "[5 rows x 21 columns]"
      ]
     },
     "execution_count": 231,
     "metadata": {},
     "output_type": "execute_result"
    }
   ],
   "source": [
    "print(\"First 5 rows of the dataset:\")\n",
    "df.head()"
   ]
  },
  {
   "cell_type": "code",
   "execution_count": 232,
   "id": "a31e7989",
   "metadata": {},
   "outputs": [
    {
     "data": {
      "image/png": "[encoded data removed]",
      "text/plain": [
       "<Figure size 432x288 with 1 Axes>"
      ]
     },
     "metadata": {
      "needs_background": "light"
     },
     "output_type": "display_data"
    }
   ],
   "source": [
    "df.plot(x='current_minute', y='target', style='o')\n",
    "plt.xlabel('current_minute')\n",
    "plt.ylabel('target')\n",
    "plt.show()"
   ]
  },
  {
   "cell_type": "markdown",
   "id": "3e981834",
   "metadata": {},
   "source": [
    "Basic summary statistics for numerical values"
   ]
  },
  {
   "cell_type": "code",
   "execution_count": 233,
   "id": "e782a0f9",
   "metadata": {
    "scrolled": true
   },
   "outputs": [
    {
     "name": "stdout",
     "output_type": "stream",
     "text": [
      "\n",
      "Summary statistics of numerical features:\n"
     ]
    },
    {
     "data": {
      "text/html": [
       "<div>\n",
       "<style scoped>\n",
       "    .dataframe tbody tr th:only-of-type {\n",
       "        vertical-align: middle;\n",
       "    }\n",
       "\n",
       "    .dataframe tbody tr th {\n",
       "        vertical-align: top;\n",
       "    }\n",
       "\n",
       "    .dataframe thead th {\n",
       "        text-align: right;\n",
       "    }\n",
       "</style>\n",
       "<table border=\"1\" class=\"dataframe\">\n",
       "  <thead>\n",
       "    <tr style=\"text-align: right;\">\n",
       "      <th></th>\n",
       "      <th>current_minute</th>\n",
       "      <th>home_score</th>\n",
       "      <th>away_score</th>\n",
       "      <th>home_yellow_cards</th>\n",
       "      <th>away_yellow_cards</th>\n",
       "      <th>home_red_cards</th>\n",
       "      <th>away_red_cards</th>\n",
       "      <th>home_attacks</th>\n",
       "      <th>away_attacks</th>\n",
       "      <th>home_dangerous_attacks</th>\n",
       "      <th>...</th>\n",
       "      <th>home_corners</th>\n",
       "      <th>away_corners</th>\n",
       "      <th>home_off_target</th>\n",
       "      <th>away_off_target</th>\n",
       "      <th>home_on_target</th>\n",
       "      <th>away_on_target</th>\n",
       "      <th>home_possession</th>\n",
       "      <th>away_possession</th>\n",
       "      <th>final_delta</th>\n",
       "      <th>target</th>\n",
       "    </tr>\n",
       "  </thead>\n",
       "  <tbody>\n",
       "    <tr>\n",
       "      <th>count</th>\n",
       "      <td>6577.000000</td>\n",
       "      <td>6577.000000</td>\n",
       "      <td>6577.000000</td>\n",
       "      <td>6577.000000</td>\n",
       "      <td>6577.000000</td>\n",
       "      <td>6577.000000</td>\n",
       "      <td>6577.000000</td>\n",
       "      <td>6577.000000</td>\n",
       "      <td>6577.000000</td>\n",
       "      <td>6577.000000</td>\n",
       "      <td>...</td>\n",
       "      <td>6577.00000</td>\n",
       "      <td>6577.000000</td>\n",
       "      <td>6577.000000</td>\n",
       "      <td>6577.000000</td>\n",
       "      <td>6577.000000</td>\n",
       "      <td>6577.000000</td>\n",
       "      <td>6577.000000</td>\n",
       "      <td>6577.000000</td>\n",
       "      <td>6577.000000</td>\n",
       "      <td>6577.000000</td>\n",
       "    </tr>\n",
       "    <tr>\n",
       "      <th>mean</th>\n",
       "      <td>49.804926</td>\n",
       "      <td>0.783032</td>\n",
       "      <td>0.608332</td>\n",
       "      <td>0.510263</td>\n",
       "      <td>0.592215</td>\n",
       "      <td>0.008515</td>\n",
       "      <td>0.014900</td>\n",
       "      <td>45.755968</td>\n",
       "      <td>42.857686</td>\n",
       "      <td>27.212863</td>\n",
       "      <td>...</td>\n",
       "      <td>2.33161</td>\n",
       "      <td>1.971111</td>\n",
       "      <td>3.016573</td>\n",
       "      <td>2.551163</td>\n",
       "      <td>2.136688</td>\n",
       "      <td>1.759313</td>\n",
       "      <td>51.581572</td>\n",
       "      <td>48.415235</td>\n",
       "      <td>1.427855</td>\n",
       "      <td>0.649536</td>\n",
       "    </tr>\n",
       "    <tr>\n",
       "      <th>std</th>\n",
       "      <td>26.441958</td>\n",
       "      <td>1.068046</td>\n",
       "      <td>0.911459</td>\n",
       "      <td>0.907488</td>\n",
       "      <td>1.007297</td>\n",
       "      <td>0.093528</td>\n",
       "      <td>0.122412</td>\n",
       "      <td>36.029737</td>\n",
       "      <td>33.539557</td>\n",
       "      <td>22.968335</td>\n",
       "      <td>...</td>\n",
       "      <td>2.44227</td>\n",
       "      <td>2.192337</td>\n",
       "      <td>3.138122</td>\n",
       "      <td>2.719920</td>\n",
       "      <td>2.316965</td>\n",
       "      <td>2.002735</td>\n",
       "      <td>10.542929</td>\n",
       "      <td>10.544736</td>\n",
       "      <td>1.423859</td>\n",
       "      <td>0.477151</td>\n",
       "    </tr>\n",
       "    <tr>\n",
       "      <th>min</th>\n",
       "      <td>0.000000</td>\n",
       "      <td>0.000000</td>\n",
       "      <td>0.000000</td>\n",
       "      <td>0.000000</td>\n",
       "      <td>0.000000</td>\n",
       "      <td>0.000000</td>\n",
       "      <td>0.000000</td>\n",
       "      <td>0.000000</td>\n",
       "      <td>0.000000</td>\n",
       "      <td>0.000000</td>\n",
       "      <td>...</td>\n",
       "      <td>0.00000</td>\n",
       "      <td>0.000000</td>\n",
       "      <td>0.000000</td>\n",
       "      <td>0.000000</td>\n",
       "      <td>0.000000</td>\n",
       "      <td>0.000000</td>\n",
       "      <td>0.000000</td>\n",
       "      <td>0.000000</td>\n",
       "      <td>-2.000000</td>\n",
       "      <td>0.000000</td>\n",
       "    </tr>\n",
       "    <tr>\n",
       "      <th>25%</th>\n",
       "      <td>27.000000</td>\n",
       "      <td>0.000000</td>\n",
       "      <td>0.000000</td>\n",
       "      <td>0.000000</td>\n",
       "      <td>0.000000</td>\n",
       "      <td>0.000000</td>\n",
       "      <td>0.000000</td>\n",
       "      <td>14.000000</td>\n",
       "      <td>13.000000</td>\n",
       "      <td>7.000000</td>\n",
       "      <td>...</td>\n",
       "      <td>0.00000</td>\n",
       "      <td>0.000000</td>\n",
       "      <td>0.000000</td>\n",
       "      <td>0.000000</td>\n",
       "      <td>0.000000</td>\n",
       "      <td>0.000000</td>\n",
       "      <td>46.000000</td>\n",
       "      <td>42.000000</td>\n",
       "      <td>0.000000</td>\n",
       "      <td>0.000000</td>\n",
       "    </tr>\n",
       "    <tr>\n",
       "      <th>50%</th>\n",
       "      <td>55.000000</td>\n",
       "      <td>0.000000</td>\n",
       "      <td>0.000000</td>\n",
       "      <td>0.000000</td>\n",
       "      <td>0.000000</td>\n",
       "      <td>0.000000</td>\n",
       "      <td>0.000000</td>\n",
       "      <td>42.000000</td>\n",
       "      <td>40.000000</td>\n",
       "      <td>24.000000</td>\n",
       "      <td>...</td>\n",
       "      <td>2.00000</td>\n",
       "      <td>1.000000</td>\n",
       "      <td>2.000000</td>\n",
       "      <td>2.000000</td>\n",
       "      <td>2.000000</td>\n",
       "      <td>1.000000</td>\n",
       "      <td>51.000000</td>\n",
       "      <td>49.000000</td>\n",
       "      <td>1.000000</td>\n",
       "      <td>1.000000</td>\n",
       "    </tr>\n",
       "    <tr>\n",
       "      <th>75%</th>\n",
       "      <td>72.000000</td>\n",
       "      <td>1.000000</td>\n",
       "      <td>1.000000</td>\n",
       "      <td>1.000000</td>\n",
       "      <td>1.000000</td>\n",
       "      <td>0.000000</td>\n",
       "      <td>0.000000</td>\n",
       "      <td>71.000000</td>\n",
       "      <td>67.000000</td>\n",
       "      <td>42.000000</td>\n",
       "      <td>...</td>\n",
       "      <td>4.00000</td>\n",
       "      <td>3.000000</td>\n",
       "      <td>5.000000</td>\n",
       "      <td>4.000000</td>\n",
       "      <td>3.000000</td>\n",
       "      <td>3.000000</td>\n",
       "      <td>58.000000</td>\n",
       "      <td>54.000000</td>\n",
       "      <td>2.000000</td>\n",
       "      <td>1.000000</td>\n",
       "    </tr>\n",
       "    <tr>\n",
       "      <th>max</th>\n",
       "      <td>90.000000</td>\n",
       "      <td>8.000000</td>\n",
       "      <td>9.000000</td>\n",
       "      <td>8.000000</td>\n",
       "      <td>8.000000</td>\n",
       "      <td>2.000000</td>\n",
       "      <td>2.000000</td>\n",
       "      <td>255.000000</td>\n",
       "      <td>183.000000</td>\n",
       "      <td>132.000000</td>\n",
       "      <td>...</td>\n",
       "      <td>14.00000</td>\n",
       "      <td>18.000000</td>\n",
       "      <td>24.000000</td>\n",
       "      <td>18.000000</td>\n",
       "      <td>22.000000</td>\n",
       "      <td>19.000000</td>\n",
       "      <td>100.000000</td>\n",
       "      <td>100.000000</td>\n",
       "      <td>10.000000</td>\n",
       "      <td>1.000000</td>\n",
       "    </tr>\n",
       "  </tbody>\n",
       "</table>\n",
       "<p>8 rows × 21 columns</p>\n",
       "</div>"
      ],
      "text/plain": [
       "       current_minute   home_score   away_score  home_yellow_cards  \\\n",
       "count     6577.000000  6577.000000  6577.000000        6577.000000   \n",
       "mean        49.804926     0.783032     0.608332           0.510263   \n",
       "std         26.441958     1.068046     0.911459           0.907488   \n",
       "min          0.000000     0.000000     0.000000           0.000000   \n",
       "25%         27.000000     0.000000     0.000000           0.000000   \n",
       "50%         55.000000     0.000000     0.000000           0.000000   \n",
       "75%         72.000000     1.000000     1.000000           1.000000   \n",
       "max         90.000000     8.000000     9.000000           8.000000   \n",
       "\n",
       "       away_yellow_cards  home_red_cards  away_red_cards  home_attacks  \\\n",
       "count        6577.000000     6577.000000     6577.000000   6577.000000   \n",
       "mean            0.592215        0.008515        0.014900     45.755968   \n",
       "std             1.007297        0.093528        0.122412     36.029737   \n",
       "min             0.000000        0.000000        0.000000      0.000000   \n",
       "25%             0.000000        0.000000        0.000000     14.000000   \n",
       "50%             0.000000        0.000000        0.000000     42.000000   \n",
       "75%             1.000000        0.000000        0.000000     71.000000   \n",
       "max             8.000000        2.000000        2.000000    255.000000   \n",
       "\n",
       "       away_attacks  home_dangerous_attacks  ...  home_corners  away_corners  \\\n",
       "count   6577.000000             6577.000000  ...    6577.00000   6577.000000   \n",
       "mean      42.857686               27.212863  ...       2.33161      1.971111   \n",
       "std       33.539557               22.968335  ...       2.44227      2.192337   \n",
       "min        0.000000                0.000000  ...       0.00000      0.000000   \n",
       "25%       13.000000                7.000000  ...       0.00000      0.000000   \n",
       "50%       40.000000               24.000000  ...       2.00000      1.000000   \n",
       "75%       67.000000               42.000000  ...       4.00000      3.000000   \n",
       "max      183.000000              132.000000  ...      14.00000     18.000000   \n",
       "\n",
       "       home_off_target  away_off_target  home_on_target  away_on_target  \\\n",
       "count      6577.000000      6577.000000     6577.000000     6577.000000   \n",
       "mean          3.016573         2.551163        2.136688        1.759313   \n",
       "std           3.138122         2.719920        2.316965        2.002735   \n",
       "min           0.000000         0.000000        0.000000        0.000000   \n",
       "25%           0.000000         0.000000        0.000000        0.000000   \n",
       "50%           2.000000         2.000000        2.000000        1.000000   \n",
       "75%           5.000000         4.000000        3.000000        3.000000   \n",
       "max          24.000000        18.000000       22.000000       19.000000   \n",
       "\n",
       "       home_possession  away_possession  final_delta       target  \n",
       "count      6577.000000      6577.000000  6577.000000  6577.000000  \n",
       "mean         51.581572        48.415235     1.427855     0.649536  \n",
       "std          10.542929        10.544736     1.423859     0.477151  \n",
       "min           0.000000         0.000000    -2.000000     0.000000  \n",
       "25%          46.000000        42.000000     0.000000     0.000000  \n",
       "50%          51.000000        49.000000     1.000000     1.000000  \n",
       "75%          58.000000        54.000000     2.000000     1.000000  \n",
       "max         100.000000       100.000000    10.000000     1.000000  \n",
       "\n",
       "[8 rows x 21 columns]"
      ]
     },
     "execution_count": 233,
     "metadata": {},
     "output_type": "execute_result"
    }
   ],
   "source": [
    "print(\"\\nSummary statistics of numerical features:\")\n",
    "df.describe()"
   ]
  },
  {
   "cell_type": "markdown",
   "id": "6f13dccc",
   "metadata": {},
   "source": [
    "Scatterplot matrix for pairs of numerical features"
   ]
  },
  {
   "cell_type": "code",
   "execution_count": 234,
   "id": "a3bbf363",
   "metadata": {},
   "outputs": [
    {
     "name": "stdout",
     "output_type": "stream",
     "text": [
      "\n",
      "Pairplot for numerical features:\n"
     ]
    },
    {
     "data": {
      "image/png": "[encoded data removed]",
      "text/plain": [
       "<Figure size 864x576 with 36 Axes>"
      ]
     },
     "metadata": {
      "needs_background": "light"
     },
     "output_type": "display_data"
    }
   ],
   "source": [
    "print(\"\\nPairplot for numerical features:\")\n",
    "scatter_matrix = pd.plotting.scatter_matrix(df[['home_score', 'away_score', 'home_yellow_cards', 'away_yellow_cards', 'home_possession', 'away_possession']], figsize=(12, 8))\n",
    "plt.show()"
   ]
  },
  {
   "cell_type": "markdown",
   "id": "8253e5fd",
   "metadata": {},
   "source": [
    "Histogram that shows the distribution of home and away scores"
   ]
  },
  {
   "cell_type": "code",
   "execution_count": 235,
   "id": "01d4130f",
   "metadata": {},
   "outputs": [
    {
     "name": "stdout",
     "output_type": "stream",
     "text": [
      "\n",
      "Distribution of home and away scores:\n"
     ]
    },
    {
     "data": {
      "image/png": "[encoded data removed]",
      "text/plain": [
       "<Figure size 864x432 with 1 Axes>"
      ]
     },
     "metadata": {
      "needs_background": "light"
     },
     "output_type": "display_data"
    }
   ],
   "source": [
    "print(\"\\nDistribution of home and away scores:\")\n",
    "plt.figure(figsize=(12, 6))\n",
    "plt.hist(df['home_score'], bins=20, alpha=0.5, label='Home Score', color='blue')\n",
    "plt.hist(df['away_score'], bins=20, alpha=0.5, label='Away Score', color='red')\n",
    "plt.title('Distribution of Home and Away Scores')\n",
    "plt.legend()\n",
    "plt.show()"
   ]
  },
  {
   "cell_type": "markdown",
   "id": "c6389702",
   "metadata": {},
   "source": [
    "# Logistic Regression Model"
   ]
  },
  {
   "cell_type": "code",
   "execution_count": 236,
   "id": "a825fc98",
   "metadata": {},
   "outputs": [
    {
     "data": {
      "text/html": [
       "<style>#sk-container-id-11 {color: black;}#sk-container-id-11 pre{padding: 0;}#sk-container-id-11 div.sk-toggleable {background-color: white;}#sk-container-id-11 label.sk-toggleable__label {cursor: pointer;display: block;width: 100%;margin-bottom: 0;padding: 0.3em;box-sizing: border-box;text-align: center;}#sk-container-id-11 label.sk-toggleable__label-arrow:before {content: \"▸\";float: left;margin-right: 0.25em;color: #696969;}#sk-container-id-11 label.sk-toggleable__label-arrow:hover:before {color: black;}#sk-container-id-11 div.sk-estimator:hover label.sk-toggleable__label-arrow:before {color: black;}#sk-container-id-11 div.sk-toggleable__content {max-height: 0;max-width: 0;overflow: hidden;text-align: left;background-color: #f0f8ff;}#sk-container-id-11 div.sk-toggleable__content pre {margin: 0.2em;color: black;border-radius: 0.25em;background-color: #f0f8ff;}#sk-container-id-11 input.sk-toggleable__control:checked~div.sk-toggleable__content {max-height: 200px;max-width: 100%;overflow: auto;}#sk-container-id-11 input.sk-toggleable__control:checked~label.sk-toggleable__label-arrow:before {content: \"▾\";}#sk-container-id-11 div.sk-estimator input.sk-toggleable__control:checked~label.sk-toggleable__label {background-color: #d4ebff;}#sk-container-id-11 div.sk-label input.sk-toggleable__control:checked~label.sk-toggleable__label {background-color: #d4ebff;}#sk-container-id-11 input.sk-hidden--visually {border: 0;clip: rect(1px 1px 1px 1px);clip: rect(1px, 1px, 1px, 1px);height: 1px;margin: -1px;overflow: hidden;padding: 0;position: absolute;width: 1px;}#sk-container-id-11 div.sk-estimator {font-family: monospace;background-color: #f0f8ff;border: 1px dotted black;border-radius: 0.25em;box-sizing: border-box;margin-bottom: 0.5em;}#sk-container-id-11 div.sk-estimator:hover {background-color: #d4ebff;}#sk-container-id-11 div.sk-parallel-item::after {content: \"\";width: 100%;border-bottom: 1px solid gray;flex-grow: 1;}#sk-container-id-11 div.sk-label:hover label.sk-toggleable__label {background-color: #d4ebff;}#sk-container-id-11 div.sk-serial::before {content: \"\";position: absolute;border-left: 1px solid gray;box-sizing: border-box;top: 0;bottom: 0;left: 50%;z-index: 0;}#sk-container-id-11 div.sk-serial {display: flex;flex-direction: column;align-items: center;background-color: white;padding-right: 0.2em;padding-left: 0.2em;position: relative;}#sk-container-id-11 div.sk-item {position: relative;z-index: 1;}#sk-container-id-11 div.sk-parallel {display: flex;align-items: stretch;justify-content: center;background-color: white;position: relative;}#sk-container-id-11 div.sk-item::before, #sk-container-id-11 div.sk-parallel-item::before {content: \"\";position: absolute;border-left: 1px solid gray;box-sizing: border-box;top: 0;bottom: 0;left: 50%;z-index: -1;}#sk-container-id-11 div.sk-parallel-item {display: flex;flex-direction: column;z-index: 1;position: relative;background-color: white;}#sk-container-id-11 div.sk-parallel-item:first-child::after {align-self: flex-end;width: 50%;}#sk-container-id-11 div.sk-parallel-item:last-child::after {align-self: flex-start;width: 50%;}#sk-container-id-11 div.sk-parallel-item:only-child::after {width: 0;}#sk-container-id-11 div.sk-dashed-wrapped {border: 1px dashed gray;margin: 0 0.4em 0.5em 0.4em;box-sizing: border-box;padding-bottom: 0.4em;background-color: white;}#sk-container-id-11 div.sk-label label {font-family: monospace;font-weight: bold;display: inline-block;line-height: 1.2em;}#sk-container-id-11 div.sk-label-container {text-align: center;}#sk-container-id-11 div.sk-container {/* jupyter's `normalize.less` sets `[hidden] { display: none; }` but bootstrap.min.css set `[hidden] { display: none !important; }` so we also need the `!important` here to be able to override the default hidden behavior on the sphinx rendered scikit-learn.org. See: https://github.com/scikit-learn/scikit-learn/issues/21755 */display: inline-block !important;position: relative;}#sk-container-id-11 div.sk-text-repr-fallback {display: none;}</style><div id=\"sk-container-id-11\" class=\"sk-top-container\"><div class=\"sk-text-repr-fallback\"><pre>LogisticRegression(max_iter=10000, n_jobs=-1, solver=&#x27;sag&#x27;)</pre><b>In a Jupyter environment, please rerun this cell to show the HTML representation or trust the notebook. <br />On GitHub, the HTML representation is unable to render, please try loading this page with nbviewer.org.</b></div><div class=\"sk-container\" hidden><div class=\"sk-item\"><div class=\"sk-estimator sk-toggleable\"><input class=\"sk-toggleable__control sk-hidden--visually\" id=\"sk-estimator-id-11\" type=\"checkbox\" checked><label for=\"sk-estimator-id-11\" class=\"sk-toggleable__label sk-toggleable__label-arrow\">LogisticRegression</label><div class=\"sk-toggleable__content\"><pre>LogisticRegression(max_iter=10000, n_jobs=-1, solver=&#x27;sag&#x27;)</pre></div></div></div></div></div>"
      ],
      "text/plain": [
       "LogisticRegression(max_iter=10000, n_jobs=-1, solver='sag')"
      ]
     },
     "execution_count": 236,
     "metadata": {},
     "output_type": "execute_result"
    }
   ],
   "source": [
    "# Initialize Linear Regression Model\n",
    "linreg = LogisticRegression(solver = 'sag',max_iter = 10000, n_jobs = -1)\n",
    "linreg.fit(X_train, y_train)"
   ]
  },
  {
   "cell_type": "markdown",
   "id": "1131edb3",
   "metadata": {},
   "source": [
    "First, we will perform Linear Regression on the Training set."
   ]
  },
  {
   "cell_type": "code",
   "execution_count": 237,
   "id": "f53b2aec",
   "metadata": {},
   "outputs": [],
   "source": [
    "# Make predictions on the training set\n",
    "train_predictions = linreg.predict(X_train)\n",
    "# Convert predictions to binary (0 or 1)\n",
    "# train_predictions_binary = (train_predictions >= 0.5).astype(int)"
   ]
  },
  {
   "cell_type": "markdown",
   "id": "ee35f653",
   "metadata": {},
   "source": [
    "To evaluate the model, we will get the training accuracy"
   ]
  },
  {
   "cell_type": "code",
   "execution_count": 238,
   "id": "b507db89",
   "metadata": {},
   "outputs": [
    {
     "name": "stdout",
     "output_type": "stream",
     "text": [
      "Train Accuracy: 1.0\n",
      "Train Confusion Matrix:\n",
      " [[1824    0]\n",
      " [   0 3437]]\n",
      "Train Classification Report:\n",
      "               precision    recall  f1-score   support\n",
      "\n",
      "           0       1.00      1.00      1.00      1824\n",
      "           1       1.00      1.00      1.00      3437\n",
      "\n",
      "    accuracy                           1.00      5261\n",
      "   macro avg       1.00      1.00      1.00      5261\n",
      "weighted avg       1.00      1.00      1.00      5261\n",
      "\n"
     ]
    }
   ],
   "source": [
    "# Evaluate the model on the training set\n",
    "train_accuracy = accuracy_score(y_train, train_predictions)\n",
    "train_conf_matrix = confusion_matrix(y_train, train_predictions)\n",
    "train_classification_rep = classification_report(y_train, train_predictions)\n",
    "\n",
    "print(\"Train Accuracy:\", train_accuracy)\n",
    "print(\"Train Confusion Matrix:\\n\", train_conf_matrix)\n",
    "print(\"Train Classification Report:\\n\", train_classification_rep)"
   ]
  },
  {
   "cell_type": "markdown",
   "id": "b2bb1a3a",
   "metadata": {},
   "source": [
    "Based on the results, we can see that we got an accuracy of about 93% which indicates that the model predicted the target correctly for 93% of the instances in the train set. \n",
    "\n",
    "Train Confusion Matrix:\n",
    "\n",
    "True Positives: 3331\n",
    "True Negatives: 1877\n",
    "False Positives: 53\n",
    "False Negatives: 339\n",
    "\n",
    "In terms of accuracy, the model has a good performance on the train set in terms of precision, recall, and F1-score for both classes. Class 0 has slightly higher precision, while class 1 has slightly higher recall. The weighted average F1-score is 0.93, indicating good overall performance."
   ]
  },
  {
   "cell_type": "code",
   "execution_count": 239,
   "id": "8d995a7c",
   "metadata": {},
   "outputs": [
    {
     "name": "stdout",
     "output_type": "stream",
     "text": [
      "Training RMSE: 0.0\n",
      "Training R2 Score: 1.0\n"
     ]
    }
   ],
   "source": [
    "# Calculate RMSE and R2 Score for the training set\n",
    "train_rmse = np.sqrt(mean_squared_error(y_train, train_predictions))\n",
    "train_r2 = r2_score(y_train, train_predictions)\n",
    "\n",
    "print(f\"Training RMSE: {train_rmse}\")\n",
    "print(f\"Training R2 Score: {train_r2}\")"
   ]
  },
  {
   "cell_type": "markdown",
   "id": "aaf25e4a",
   "metadata": {},
   "source": [
    "The rmse is at about 33% and the R2 score is about 50%. The R2 score indicates that the model explains about 50% of the variance in the target in the train set. The model needs improvement, especially in terms of reducing the RMSE."
   ]
  },
  {
   "cell_type": "markdown",
   "id": "c649be63",
   "metadata": {},
   "source": [
    "Now that we have the train accuracy, rmse, and r-squared values, let's visualize our results on a graph."
   ]
  },
  {
   "cell_type": "code",
   "execution_count": 240,
   "id": "603ace1a",
   "metadata": {},
   "outputs": [
    {
     "data": {
      "image/png": "[encoded data removed]",
      "text/plain": [
       "<Figure size 864x288 with 2 Axes>"
      ]
     },
     "metadata": {
      "needs_background": "light"
     },
     "output_type": "display_data"
    }
   ],
   "source": [
    "fig, axes = plt.subplots(1, 2, figsize=(12, 4))\n",
    "\n",
    "# Confusion Matrix\n",
    "sns.heatmap(train_conf_matrix, annot=True, fmt='d', cmap='Blues', cbar=False, ax=axes[0])\n",
    "axes[0].set_xlabel('Predicted')\n",
    "axes[0].set_ylabel('True')\n",
    "axes[0].set_title('Confusion Matrix - Training Set')\n",
    "\n",
    "# Scatter Plot for Actual vs. Predicted Values\n",
    "axes[1].scatter(y_train, train_predictions, alpha=0.5)\n",
    "axes[1].set_xlabel('Actual Values')\n",
    "axes[1].set_ylabel('Predicted Values')\n",
    "axes[1].set_title('Actual vs. Predicted Values - Training Set')\n",
    "plt.tight_layout()\n",
    "plt.show()"
   ]
  },
  {
   "cell_type": "markdown",
   "id": "6ac5d06d",
   "metadata": {},
   "source": [
    "We will now create a validation set to further assess our model."
   ]
  },
  {
   "cell_type": "code",
   "execution_count": 241,
   "id": "9768ac69",
   "metadata": {},
   "outputs": [],
   "source": [
    "# Split the data again for the validation set\n",
    "X_train, X_val, y_train, y_val = train_test_split(X, y, test_size=0.2, random_state=42)"
   ]
  },
  {
   "cell_type": "code",
   "execution_count": 242,
   "id": "b7fa683f",
   "metadata": {},
   "outputs": [],
   "source": [
    "val_predictions = linreg.predict(X_val)\n",
    "val_predictions_binary = (val_predictions >= 0.5).astype(int)"
   ]
  },
  {
   "cell_type": "markdown",
   "id": "71ff03ab",
   "metadata": {},
   "source": [
    "We have created the validation set. Now we will evaluate the model on it."
   ]
  },
  {
   "cell_type": "code",
   "execution_count": 243,
   "id": "85d9d34a",
   "metadata": {},
   "outputs": [
    {
     "name": "stdout",
     "output_type": "stream",
     "text": [
      "\n",
      "Validation Accuracy: 1.0\n",
      "Validation Confusion Matrix:\n",
      " [[481   0]\n",
      " [  0 835]]\n",
      "Validation Classification Report:\n",
      "               precision    recall  f1-score   support\n",
      "\n",
      "           0       1.00      1.00      1.00       481\n",
      "           1       1.00      1.00      1.00       835\n",
      "\n",
      "    accuracy                           1.00      1316\n",
      "   macro avg       1.00      1.00      1.00      1316\n",
      "weighted avg       1.00      1.00      1.00      1316\n",
      "\n"
     ]
    }
   ],
   "source": [
    "# Evaluate the model on the validation set\n",
    "val_accuracy = accuracy_score(y_val, val_predictions)\n",
    "val_conf_matrix = confusion_matrix(y_val, val_predictions)\n",
    "val_classification_rep = classification_report(y_val, val_predictions)\n",
    "\n",
    "print(\"\\nValidation Accuracy:\", val_accuracy)\n",
    "print(\"Validation Confusion Matrix:\\n\", val_conf_matrix)\n",
    "print(\"Validation Classification Report:\\n\", val_classification_rep)"
   ]
  },
  {
   "cell_type": "markdown",
   "id": "6f741adb",
   "metadata": {},
   "source": [
    "The model achieved a high accuracy of approximately 91.6% on the validation set. The model performs well on the validation set with high precision, recall, and F1-Score for both classes.\n",
    "\n",
    "Confusion Matrix:\n",
    "\n",
    "True Positives: 834\n",
    "True Negatives: 448\n",
    "False Positives: 14\n",
    "False Negatives: 104\n",
    "\n",
    "The high accuracy, combined with balanced precision and recall, suggests that the model generalizes well to new data. The validation results indicate that the model is performing effectively on unseen data, and its predictions are reliable. "
   ]
  },
  {
   "cell_type": "code",
   "execution_count": 244,
   "id": "970bca29",
   "metadata": {},
   "outputs": [
    {
     "name": "stdout",
     "output_type": "stream",
     "text": [
      "Validation RMSE: 0.0\n",
      "Validation R2 Score: 1.0\n"
     ]
    }
   ],
   "source": [
    "# Calculate RMSE and R2 Score for the validation set\n",
    "val_rmse = np.sqrt(mean_squared_error(y_val, val_predictions))\n",
    "val_r2 = r2_score(y_val, val_predictions)\n",
    "\n",
    "print(f\"Validation RMSE: {val_rmse}\")\n",
    "print(f\"Validation R2 Score: {val_r2}\")"
   ]
  },
  {
   "cell_type": "code",
   "execution_count": 245,
   "id": "87ffeb4c",
   "metadata": {},
   "outputs": [
    {
     "data": {
      "image/png": "[encoded data removed]",
      "text/plain": [
       "<Figure size 864x288 with 2 Axes>"
      ]
     },
     "metadata": {
      "needs_background": "light"
     },
     "output_type": "display_data"
    }
   ],
   "source": [
    "# Confusion Matrix Plot for Validation Set\n",
    "fig, axes = plt.subplots(1, 2, figsize=(12, 4))\n",
    "\n",
    "# Confusion Matrix\n",
    "sns.heatmap(val_conf_matrix, annot=True, fmt='d', cmap='Blues', cbar=False, ax=axes[0])\n",
    "axes[0].set_xlabel('Predicted')\n",
    "axes[0].set_ylabel('True')\n",
    "axes[0].set_title('Confusion Matrix - Validation Set')\n",
    "\n",
    "# Scatter Plot for Actual vs. Predicted Values - Validation Set\n",
    "axes[1].scatter(y_val, val_predictions, alpha=0.5)\n",
    "axes[1].set_xlabel('Actual Values')\n",
    "axes[1].set_ylabel('Predicted Values')\n",
    "axes[1].set_title('Actual vs. Predicted Values - Validation Set')\n",
    "\n",
    "plt.tight_layout()\n",
    "plt.show()"
   ]
  },
  {
   "cell_type": "markdown",
   "id": "1cda9b87",
   "metadata": {},
   "source": [
    "After evaluating the model on the validation set, we will now evaluate it on the test set."
   ]
  },
  {
   "cell_type": "code",
   "execution_count": 246,
   "id": "d6138f1f",
   "metadata": {},
   "outputs": [],
   "source": [
    "# Make predictions on the test set\n",
    "test_predictions = linreg.predict(X_test)\n",
    "test_predictions_binary = (test_predictions >= 0.5).astype(int)"
   ]
  },
  {
   "cell_type": "code",
   "execution_count": 247,
   "id": "9b153db6",
   "metadata": {},
   "outputs": [
    {
     "name": "stdout",
     "output_type": "stream",
     "text": [
      "Test Accuracy: 1.0\n",
      "Test Confusion Matrix:\n",
      " [[481   0]\n",
      " [  0 835]]\n",
      "Test Classification Report:\n",
      "               precision    recall  f1-score   support\n",
      "\n",
      "           0       1.00      1.00      1.00       481\n",
      "           1       1.00      1.00      1.00       835\n",
      "\n",
      "    accuracy                           1.00      1316\n",
      "   macro avg       1.00      1.00      1.00      1316\n",
      "weighted avg       1.00      1.00      1.00      1316\n",
      "\n"
     ]
    }
   ],
   "source": [
    "# Evaluate the model on the test set\n",
    "test_accuracy = accuracy_score(y_test, test_predictions_binary)\n",
    "test_conf_matrix = confusion_matrix(y_test, test_predictions_binary)\n",
    "test_classification_rep = classification_report(y_test, test_predictions_binary)\n",
    "\n",
    "print(\"Test Accuracy:\", test_accuracy)\n",
    "print(\"Test Confusion Matrix:\\n\", test_conf_matrix)\n",
    "print(\"Test Classification Report:\\n\", test_classification_rep)"
   ]
  },
  {
   "cell_type": "code",
   "execution_count": 248,
   "id": "f2f7907e",
   "metadata": {},
   "outputs": [
    {
     "name": "stdout",
     "output_type": "stream",
     "text": [
      "Test RMSE: 0.0\n",
      "Test R2 Score: 1.0\n"
     ]
    }
   ],
   "source": [
    "# Calculate RMSE and R2 Score for the test set\n",
    "test_rmse = np.sqrt(mean_squared_error(y_test, test_predictions))\n",
    "test_r2 = r2_score(y_test, test_predictions)\n",
    "\n",
    "print(f\"Test RMSE: {test_rmse}\")\n",
    "print(f\"Test R2 Score: {test_r2}\")"
   ]
  },
  {
   "cell_type": "code",
   "execution_count": 249,
   "id": "7192d037",
   "metadata": {
    "scrolled": true
   },
   "outputs": [
    {
     "data": {
      "image/png": "[encoded data removed]",
      "text/plain": [
       "<Figure size 864x288 with 2 Axes>"
      ]
     },
     "metadata": {
      "needs_background": "light"
     },
     "output_type": "display_data"
    }
   ],
   "source": [
    "# Confusion Matrix Plot for Test Set\n",
    "fig, axes = plt.subplots(1, 2, figsize=(12, 4))\n",
    "\n",
    "# Confusion Matrix\n",
    "sns.heatmap(test_conf_matrix, annot=True, fmt='d', cmap='Blues', cbar=False, ax=axes[0])\n",
    "axes[0].set_xlabel('Predicted')\n",
    "axes[0].set_ylabel('True')\n",
    "axes[0].set_title('Confusion Matrix - Test Set')\n",
    "\n",
    "# Scatter Plot for Actual vs. Predicted Values - Test Set\n",
    "axes[1].scatter(y_test, test_predictions, alpha=0.5)\n",
    "axes[1].set_xlabel('Actual Values')\n",
    "axes[1].set_ylabel('Predicted Values')\n",
    "axes[1].set_title('Actual vs. Predicted Values - Test Set')\n",
    "\n",
    "plt.tight_layout()\n",
    "plt.show()"
   ]
  },
  {
   "cell_type": "markdown",
   "id": "364b567e",
   "metadata": {},
   "source": [
    "Based on the results of the test set evaluation, we can see that it is consistent with the validation set as both show the same values in terms of accuracy, classification, and confusion matrix. Given the consistency of both results, we can see that we have a robust model. \n",
    "\n",
    "Though the model is performing well in terms of accuracy, it still has a shortcoming in capturing the class (1). Further improvements can still be implemented through hyperparameter tuning."
   ]
  },
  {
   "cell_type": "markdown",
   "id": "9ebdf3fc",
   "metadata": {},
   "source": [
    "# Hyperparameter Tuning\n",
    "\n",
    "We Will be using Lasso Regularization on the model to find the best value of alpha, and to try to enhance the model's performance on the test set. "
   ]
  },
  {
   "cell_type": "code",
   "execution_count": 265,
   "id": "e0964cac",
   "metadata": {
    "scrolled": true
   },
   "outputs": [
    {
     "name": "stderr",
     "output_type": "stream",
     "text": [
      "c:\\python39\\lib\\site-packages\\sklearn\\linear_model\\_logistic.py:460: ConvergenceWarning: lbfgs failed to converge (status=1):\n",
      "STOP: TOTAL NO. of ITERATIONS REACHED LIMIT.\n",
      "\n",
      "Increase the number of iterations (max_iter) or scale the data as shown in:\n",
      "    https://scikit-learn.org/stable/modules/preprocessing.html\n",
      "Please also refer to the documentation for alternative solver options:\n",
      "    https://scikit-learn.org/stable/modules/linear_model.html#logistic-regression\n",
      "  n_iter_i = _check_optimize_result(\n",
      "c:\\python39\\lib\\site-packages\\sklearn\\linear_model\\_logistic.py:460: ConvergenceWarning: lbfgs failed to converge (status=1):\n",
      "STOP: TOTAL NO. of ITERATIONS REACHED LIMIT.\n",
      "\n",
      "Increase the number of iterations (max_iter) or scale the data as shown in:\n",
      "    https://scikit-learn.org/stable/modules/preprocessing.html\n",
      "Please also refer to the documentation for alternative solver options:\n",
      "    https://scikit-learn.org/stable/modules/linear_model.html#logistic-regression\n",
      "  n_iter_i = _check_optimize_result(\n",
      "c:\\python39\\lib\\site-packages\\sklearn\\linear_model\\_logistic.py:460: ConvergenceWarning: lbfgs failed to converge (status=1):\n",
      "STOP: TOTAL NO. of ITERATIONS REACHED LIMIT.\n",
      "\n",
      "Increase the number of iterations (max_iter) or scale the data as shown in:\n",
      "    https://scikit-learn.org/stable/modules/preprocessing.html\n",
      "Please also refer to the documentation for alternative solver options:\n",
      "    https://scikit-learn.org/stable/modules/linear_model.html#logistic-regression\n",
      "  n_iter_i = _check_optimize_result(\n",
      "c:\\python39\\lib\\site-packages\\sklearn\\linear_model\\_logistic.py:460: ConvergenceWarning: lbfgs failed to converge (status=1):\n",
      "STOP: TOTAL NO. of ITERATIONS REACHED LIMIT.\n",
      "\n",
      "Increase the number of iterations (max_iter) or scale the data as shown in:\n",
      "    https://scikit-learn.org/stable/modules/preprocessing.html\n",
      "Please also refer to the documentation for alternative solver options:\n",
      "    https://scikit-learn.org/stable/modules/linear_model.html#logistic-regression\n",
      "  n_iter_i = _check_optimize_result(\n",
      "c:\\python39\\lib\\site-packages\\sklearn\\linear_model\\_logistic.py:460: ConvergenceWarning: lbfgs failed to converge (status=1):\n",
      "STOP: TOTAL NO. of ITERATIONS REACHED LIMIT.\n",
      "\n",
      "Increase the number of iterations (max_iter) or scale the data as shown in:\n",
      "    https://scikit-learn.org/stable/modules/preprocessing.html\n",
      "Please also refer to the documentation for alternative solver options:\n",
      "    https://scikit-learn.org/stable/modules/linear_model.html#logistic-regression\n",
      "  n_iter_i = _check_optimize_result(\n"
     ]
    },
    {
     "name": "stdout",
     "output_type": "stream",
     "text": [
      "Best Alpha: 10\n",
      "Test Accuracy: 1.0\n",
      "Test Confusion Matrix:\n",
      " [[481   0]\n",
      " [  0 835]]\n",
      "Test Classification Report:\n",
      "               precision    recall  f1-score   support\n",
      "\n",
      "           0       1.00      1.00      1.00       481\n",
      "           1       1.00      1.00      1.00       835\n",
      "\n",
      "    accuracy                           1.00      1316\n",
      "   macro avg       1.00      1.00      1.00      1316\n",
      "weighted avg       1.00      1.00      1.00      1316\n",
      "\n"
     ]
    },
    {
     "name": "stderr",
     "output_type": "stream",
     "text": [
      "c:\\python39\\lib\\site-packages\\sklearn\\linear_model\\_logistic.py:460: ConvergenceWarning: lbfgs failed to converge (status=1):\n",
      "STOP: TOTAL NO. of ITERATIONS REACHED LIMIT.\n",
      "\n",
      "Increase the number of iterations (max_iter) or scale the data as shown in:\n",
      "    https://scikit-learn.org/stable/modules/preprocessing.html\n",
      "Please also refer to the documentation for alternative solver options:\n",
      "    https://scikit-learn.org/stable/modules/linear_model.html#logistic-regression\n",
      "  n_iter_i = _check_optimize_result(\n",
      "c:\\python39\\lib\\site-packages\\sklearn\\linear_model\\_logistic.py:460: ConvergenceWarning: lbfgs failed to converge (status=1):\n",
      "STOP: TOTAL NO. of ITERATIONS REACHED LIMIT.\n",
      "\n",
      "Increase the number of iterations (max_iter) or scale the data as shown in:\n",
      "    https://scikit-learn.org/stable/modules/preprocessing.html\n",
      "Please also refer to the documentation for alternative solver options:\n",
      "    https://scikit-learn.org/stable/modules/linear_model.html#logistic-regression\n",
      "  n_iter_i = _check_optimize_result(\n"
     ]
    }
   ],
   "source": [
    "# alphas = [0.01, 0.1, 1.0, 10.0, 100.0]\n",
    "# Lasso regression model with cross-validated alpha selection\n",
    "lasso_cv = LogisticRegressionCV( cv=5)\n",
    "lasso_cv.fit(X_train, y_train)\n",
    "\n",
    "# Get the best alpha\n",
    "best_alpha = lasso_cv.Cs\n",
    "\n",
    "# Train the model with the best alpha\n",
    "lasso_reg_best = LogisticRegression(C=best_alpha, random_state=42)\n",
    "lasso_reg_best.fit(X_train, y_train)\n",
    "\n",
    "# Make predictions on the test set\n",
    "test_predictions = lasso_reg_best.predict(X_test)\n",
    "test_predictions_binary = (test_predictions >= 0.5).astype(int)\n",
    "\n",
    "# Evaluate the model on the test set\n",
    "test_accuracy = accuracy_score(y_test, test_predictions)\n",
    "test_conf_matrix = confusion_matrix(y_test, test_predictions)\n",
    "test_classification_rep = classification_report(y_test, test_predictions)\n",
    "\n",
    "print(\"Best Alpha:\", best_alpha)\n",
    "print(\"Test Accuracy:\", test_accuracy)\n",
    "print(\"Test Confusion Matrix:\\n\", test_conf_matrix)\n",
    "print(\"Test Classification Report:\\n\", test_classification_rep)"
   ]
  },
  {
   "cell_type": "code",
   "execution_count": null,
   "id": "fa76fa28-4dad-4ccc-a0a6-f5ad9e6f6ec2",
   "metadata": {},
   "outputs": [],
   "source": []
  }
 ],
 "metadata": {
  "kernelspec": {
   "display_name": "Python 3 (ipykernel)",
   "language": "python",
   "name": "python3"
  },
  "language_info": {
   "codemirror_mode": {
    "name": "ipython",
    "version": 3
   },
   "file_extension": ".py",
   "mimetype": "text/x-python",
   "name": "python",
   "nbconvert_exporter": "python",
   "pygments_lexer": "ipython3",
   "version": "3.9.4"
  }
 },
 "nbformat": 4,
 "nbformat_minor": 5
}
