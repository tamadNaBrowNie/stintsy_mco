{
 "cells": [
  {
   "cell_type": "markdown",
   "id": "09302bc8",
   "metadata": {},
   "source": [
    "# Sports Dataset\n",
    "\n",
    "10,000 random photos from soccer matches captured at a single timestamp make up the dataset. Every snapshot has a number of elements that offer details on the current match. The objective of the dataset is to capture the evolving dynamics of a soccer game, and to make predictions for the number of goals that will be scored for the remaining playing time."
   ]
  },
  {
   "cell_type": "markdown",
   "id": "0caa0afd",
   "metadata": {},
   "source": [
    "# Dataset Structure\n",
    "\n",
    "The dataset is presented in a single file with 10,000 rows and 20 columns, each row representing a snapshot of a soccer match, and each column representing a specific attribute or feature of that snapshot.\n",
    "\n",
    "Number of Instances (Rows): 10,000 instances \n",
    "Number of Features (Columns): 20 features/columns "
   ]
  },
  {
   "cell_type": "markdown",
   "id": "e3270845",
   "metadata": {},
   "source": [
    "# Feature Representation\n",
    "\n",
    "The features include identifiers such as uuid, and dynamic match-related details such as the current minute of play, home and away team scores, yellow and red cards for both teams, the number of attacks and dangerous attacks by each team, corners awarded, shots on and off target for both teams, and the ball possession percentage for both the home and away teams until the current minute."
   ]
  },
  {
   "cell_type": "markdown",
   "id": "1da51430",
   "metadata": {},
   "source": [
    "# Libraries\n",
    "\n",
    "- pandas\n",
    "- numpy\n",
    "- matplotlib\n",
    "- pickle\n",
    "- os\n",
    "- sklearn.metrics accuracy_score, classification_report, confusion_matrix\n",
    "- sklearn.model_selection cross_val_predict, cross_val_score, train_test_split\n",
    "- sklearn preprocessing \n",
    "- sklearn.linear_model LogisticRegression\n",
    "- sklearn.model_selection GridSearchCV,train_test_split\n",
    "- "
   ]
  },
  {
   "cell_type": "code",
   "execution_count": 161,
   "id": "442b3c67",
   "metadata": {},
   "outputs": [],
   "source": [
    "import pandas as pd\n",
    "import matplotlib.pyplot as plt\n",
    "import numpy as np\n",
    "import pickle\n",
    "import os\n",
    "import seaborn as sns\n",
    "from sklearn.model_selection import GridSearchCV\n",
    "from sklearn.neighbors import KNeighborsClassifier\n",
    "from sklearn.metrics import accuracy_score, classification_report, confusion_matrix\n",
    "from sklearn.model_selection import cross_val_predict, cross_val_score\n",
    "from sklearn import preprocessing\n",
    "from sklearn.model_selection import train_test_split\n",
    "from sklearn.linear_model import LogisticRegression\n",
    "from sklearn.preprocessing import StandardScaler"
   ]
  },
  {
   "cell_type": "code",
   "execution_count": 162,
   "id": "fd43de47-6ab2-4693-8401-e426983a3f62",
   "metadata": {
    "scrolled": true
   },
   "outputs": [
    {
     "data": {
      "text/html": [
       "<div>\n",
       "<style scoped>\n",
       "    .dataframe tbody tr th:only-of-type {\n",
       "        vertical-align: middle;\n",
       "    }\n",
       "\n",
       "    .dataframe tbody tr th {\n",
       "        vertical-align: top;\n",
       "    }\n",
       "\n",
       "    .dataframe thead th {\n",
       "        text-align: right;\n",
       "    }\n",
       "</style>\n",
       "<table border=\"1\" class=\"dataframe\">\n",
       "  <thead>\n",
       "    <tr style=\"text-align: right;\">\n",
       "      <th></th>\n",
       "      <th>uuid</th>\n",
       "      <th>current_minute</th>\n",
       "      <th>home_score</th>\n",
       "      <th>away_score</th>\n",
       "      <th>home_yellow_cards</th>\n",
       "      <th>away_yellow_cards</th>\n",
       "      <th>home_red_cards</th>\n",
       "      <th>away_red_cards</th>\n",
       "      <th>home_attacks</th>\n",
       "      <th>away_attacks</th>\n",
       "      <th>...</th>\n",
       "      <th>away_dangerous_attacks</th>\n",
       "      <th>home_corners</th>\n",
       "      <th>away_corners</th>\n",
       "      <th>home_off_target</th>\n",
       "      <th>away_off_target</th>\n",
       "      <th>home_on_target</th>\n",
       "      <th>away_on_target</th>\n",
       "      <th>home_possession</th>\n",
       "      <th>away_possession</th>\n",
       "      <th>final_delta</th>\n",
       "    </tr>\n",
       "  </thead>\n",
       "  <tbody>\n",
       "    <tr>\n",
       "      <th>0</th>\n",
       "      <td>2f9dd904-8d9d-4aa0-a9d9-4e0f3e50d742</td>\n",
       "      <td>94</td>\n",
       "      <td>1</td>\n",
       "      <td>2</td>\n",
       "      <td>0</td>\n",
       "      <td>0</td>\n",
       "      <td>0</td>\n",
       "      <td>0</td>\n",
       "      <td>39</td>\n",
       "      <td>45</td>\n",
       "      <td>...</td>\n",
       "      <td>26</td>\n",
       "      <td>4</td>\n",
       "      <td>1</td>\n",
       "      <td>4</td>\n",
       "      <td>0</td>\n",
       "      <td>4</td>\n",
       "      <td>6</td>\n",
       "      <td>48</td>\n",
       "      <td>52</td>\n",
       "      <td>1</td>\n",
       "    </tr>\n",
       "    <tr>\n",
       "      <th>1</th>\n",
       "      <td>869c1420-9153-4d73-8d79-5db31a8a80a4</td>\n",
       "      <td>91</td>\n",
       "      <td>2</td>\n",
       "      <td>0</td>\n",
       "      <td>0</td>\n",
       "      <td>0</td>\n",
       "      <td>0</td>\n",
       "      <td>0</td>\n",
       "      <td>0</td>\n",
       "      <td>0</td>\n",
       "      <td>...</td>\n",
       "      <td>0</td>\n",
       "      <td>0</td>\n",
       "      <td>0</td>\n",
       "      <td>0</td>\n",
       "      <td>0</td>\n",
       "      <td>0</td>\n",
       "      <td>0</td>\n",
       "      <td>50</td>\n",
       "      <td>50</td>\n",
       "      <td>1</td>\n",
       "    </tr>\n",
       "    <tr>\n",
       "      <th>2</th>\n",
       "      <td>549e25a3-4c93-459d-b115-fb303273c78a</td>\n",
       "      <td>3</td>\n",
       "      <td>0</td>\n",
       "      <td>0</td>\n",
       "      <td>0</td>\n",
       "      <td>0</td>\n",
       "      <td>0</td>\n",
       "      <td>0</td>\n",
       "      <td>3</td>\n",
       "      <td>1</td>\n",
       "      <td>...</td>\n",
       "      <td>0</td>\n",
       "      <td>0</td>\n",
       "      <td>0</td>\n",
       "      <td>0</td>\n",
       "      <td>0</td>\n",
       "      <td>0</td>\n",
       "      <td>0</td>\n",
       "      <td>62</td>\n",
       "      <td>38</td>\n",
       "      <td>4</td>\n",
       "    </tr>\n",
       "    <tr>\n",
       "      <th>3</th>\n",
       "      <td>287b4be5-9163-4e2e-895d-d11052a97410</td>\n",
       "      <td>17</td>\n",
       "      <td>0</td>\n",
       "      <td>0</td>\n",
       "      <td>1</td>\n",
       "      <td>0</td>\n",
       "      <td>0</td>\n",
       "      <td>0</td>\n",
       "      <td>41</td>\n",
       "      <td>46</td>\n",
       "      <td>...</td>\n",
       "      <td>25</td>\n",
       "      <td>1</td>\n",
       "      <td>0</td>\n",
       "      <td>0</td>\n",
       "      <td>2</td>\n",
       "      <td>0</td>\n",
       "      <td>0</td>\n",
       "      <td>55</td>\n",
       "      <td>45</td>\n",
       "      <td>2</td>\n",
       "    </tr>\n",
       "    <tr>\n",
       "      <th>4</th>\n",
       "      <td>a607da6a-d6b2-4652-b7a5-6c8e4b61c2b8</td>\n",
       "      <td>76</td>\n",
       "      <td>1</td>\n",
       "      <td>0</td>\n",
       "      <td>1</td>\n",
       "      <td>0</td>\n",
       "      <td>0</td>\n",
       "      <td>0</td>\n",
       "      <td>69</td>\n",
       "      <td>78</td>\n",
       "      <td>...</td>\n",
       "      <td>46</td>\n",
       "      <td>1</td>\n",
       "      <td>1</td>\n",
       "      <td>0</td>\n",
       "      <td>3</td>\n",
       "      <td>4</td>\n",
       "      <td>4</td>\n",
       "      <td>45</td>\n",
       "      <td>55</td>\n",
       "      <td>0</td>\n",
       "    </tr>\n",
       "    <tr>\n",
       "      <th>...</th>\n",
       "      <td>...</td>\n",
       "      <td>...</td>\n",
       "      <td>...</td>\n",
       "      <td>...</td>\n",
       "      <td>...</td>\n",
       "      <td>...</td>\n",
       "      <td>...</td>\n",
       "      <td>...</td>\n",
       "      <td>...</td>\n",
       "      <td>...</td>\n",
       "      <td>...</td>\n",
       "      <td>...</td>\n",
       "      <td>...</td>\n",
       "      <td>...</td>\n",
       "      <td>...</td>\n",
       "      <td>...</td>\n",
       "      <td>...</td>\n",
       "      <td>...</td>\n",
       "      <td>...</td>\n",
       "      <td>...</td>\n",
       "      <td>...</td>\n",
       "    </tr>\n",
       "    <tr>\n",
       "      <th>6995</th>\n",
       "      <td>838f35c5-afa3-474b-876e-063fd49d4326</td>\n",
       "      <td>32</td>\n",
       "      <td>0</td>\n",
       "      <td>0</td>\n",
       "      <td>0</td>\n",
       "      <td>0</td>\n",
       "      <td>0</td>\n",
       "      <td>0</td>\n",
       "      <td>16</td>\n",
       "      <td>25</td>\n",
       "      <td>...</td>\n",
       "      <td>13</td>\n",
       "      <td>0</td>\n",
       "      <td>1</td>\n",
       "      <td>1</td>\n",
       "      <td>2</td>\n",
       "      <td>0</td>\n",
       "      <td>1</td>\n",
       "      <td>45</td>\n",
       "      <td>55</td>\n",
       "      <td>0</td>\n",
       "    </tr>\n",
       "    <tr>\n",
       "      <th>6996</th>\n",
       "      <td>4bcfd248-5f39-4af2-b465-5358c9e7088e</td>\n",
       "      <td>101</td>\n",
       "      <td>3</td>\n",
       "      <td>0</td>\n",
       "      <td>0</td>\n",
       "      <td>1</td>\n",
       "      <td>0</td>\n",
       "      <td>0</td>\n",
       "      <td>0</td>\n",
       "      <td>0</td>\n",
       "      <td>...</td>\n",
       "      <td>0</td>\n",
       "      <td>0</td>\n",
       "      <td>0</td>\n",
       "      <td>0</td>\n",
       "      <td>0</td>\n",
       "      <td>0</td>\n",
       "      <td>0</td>\n",
       "      <td>50</td>\n",
       "      <td>50</td>\n",
       "      <td>0</td>\n",
       "    </tr>\n",
       "    <tr>\n",
       "      <th>6997</th>\n",
       "      <td>deccdc2c-625e-495a-9b06-02d540d4cd24</td>\n",
       "      <td>78</td>\n",
       "      <td>1</td>\n",
       "      <td>0</td>\n",
       "      <td>0</td>\n",
       "      <td>0</td>\n",
       "      <td>0</td>\n",
       "      <td>0</td>\n",
       "      <td>71</td>\n",
       "      <td>60</td>\n",
       "      <td>...</td>\n",
       "      <td>40</td>\n",
       "      <td>7</td>\n",
       "      <td>0</td>\n",
       "      <td>5</td>\n",
       "      <td>5</td>\n",
       "      <td>7</td>\n",
       "      <td>0</td>\n",
       "      <td>61</td>\n",
       "      <td>39</td>\n",
       "      <td>2</td>\n",
       "    </tr>\n",
       "    <tr>\n",
       "      <th>6998</th>\n",
       "      <td>94a20308-55d8-47cb-8f8b-d2702a531c74</td>\n",
       "      <td>72</td>\n",
       "      <td>2</td>\n",
       "      <td>0</td>\n",
       "      <td>0</td>\n",
       "      <td>0</td>\n",
       "      <td>0</td>\n",
       "      <td>0</td>\n",
       "      <td>85</td>\n",
       "      <td>66</td>\n",
       "      <td>...</td>\n",
       "      <td>20</td>\n",
       "      <td>3</td>\n",
       "      <td>0</td>\n",
       "      <td>4</td>\n",
       "      <td>1</td>\n",
       "      <td>2</td>\n",
       "      <td>1</td>\n",
       "      <td>52</td>\n",
       "      <td>48</td>\n",
       "      <td>0</td>\n",
       "    </tr>\n",
       "    <tr>\n",
       "      <th>6999</th>\n",
       "      <td>0362876c-00dc-428f-a278-303d175a6ad2</td>\n",
       "      <td>8</td>\n",
       "      <td>0</td>\n",
       "      <td>0</td>\n",
       "      <td>0</td>\n",
       "      <td>0</td>\n",
       "      <td>0</td>\n",
       "      <td>0</td>\n",
       "      <td>6</td>\n",
       "      <td>14</td>\n",
       "      <td>...</td>\n",
       "      <td>3</td>\n",
       "      <td>0</td>\n",
       "      <td>0</td>\n",
       "      <td>0</td>\n",
       "      <td>0</td>\n",
       "      <td>0</td>\n",
       "      <td>0</td>\n",
       "      <td>31</td>\n",
       "      <td>69</td>\n",
       "      <td>1</td>\n",
       "    </tr>\n",
       "  </tbody>\n",
       "</table>\n",
       "<p>7000 rows × 21 columns</p>\n",
       "</div>"
      ],
      "text/plain": [
       "                                      uuid  current_minute  home_score  \\\n",
       "0     2f9dd904-8d9d-4aa0-a9d9-4e0f3e50d742              94           1   \n",
       "1     869c1420-9153-4d73-8d79-5db31a8a80a4              91           2   \n",
       "2     549e25a3-4c93-459d-b115-fb303273c78a               3           0   \n",
       "3     287b4be5-9163-4e2e-895d-d11052a97410              17           0   \n",
       "4     a607da6a-d6b2-4652-b7a5-6c8e4b61c2b8              76           1   \n",
       "...                                    ...             ...         ...   \n",
       "6995  838f35c5-afa3-474b-876e-063fd49d4326              32           0   \n",
       "6996  4bcfd248-5f39-4af2-b465-5358c9e7088e             101           3   \n",
       "6997  deccdc2c-625e-495a-9b06-02d540d4cd24              78           1   \n",
       "6998  94a20308-55d8-47cb-8f8b-d2702a531c74              72           2   \n",
       "6999  0362876c-00dc-428f-a278-303d175a6ad2               8           0   \n",
       "\n",
       "      away_score  home_yellow_cards  away_yellow_cards  home_red_cards  \\\n",
       "0              2                  0                  0               0   \n",
       "1              0                  0                  0               0   \n",
       "2              0                  0                  0               0   \n",
       "3              0                  1                  0               0   \n",
       "4              0                  1                  0               0   \n",
       "...          ...                ...                ...             ...   \n",
       "6995           0                  0                  0               0   \n",
       "6996           0                  0                  1               0   \n",
       "6997           0                  0                  0               0   \n",
       "6998           0                  0                  0               0   \n",
       "6999           0                  0                  0               0   \n",
       "\n",
       "      away_red_cards  home_attacks  away_attacks  ...  away_dangerous_attacks  \\\n",
       "0                  0            39            45  ...                      26   \n",
       "1                  0             0             0  ...                       0   \n",
       "2                  0             3             1  ...                       0   \n",
       "3                  0            41            46  ...                      25   \n",
       "4                  0            69            78  ...                      46   \n",
       "...              ...           ...           ...  ...                     ...   \n",
       "6995               0            16            25  ...                      13   \n",
       "6996               0             0             0  ...                       0   \n",
       "6997               0            71            60  ...                      40   \n",
       "6998               0            85            66  ...                      20   \n",
       "6999               0             6            14  ...                       3   \n",
       "\n",
       "      home_corners  away_corners  home_off_target  away_off_target  \\\n",
       "0                4             1                4                0   \n",
       "1                0             0                0                0   \n",
       "2                0             0                0                0   \n",
       "3                1             0                0                2   \n",
       "4                1             1                0                3   \n",
       "...            ...           ...              ...              ...   \n",
       "6995             0             1                1                2   \n",
       "6996             0             0                0                0   \n",
       "6997             7             0                5                5   \n",
       "6998             3             0                4                1   \n",
       "6999             0             0                0                0   \n",
       "\n",
       "      home_on_target  away_on_target  home_possession  away_possession  \\\n",
       "0                  4               6               48               52   \n",
       "1                  0               0               50               50   \n",
       "2                  0               0               62               38   \n",
       "3                  0               0               55               45   \n",
       "4                  4               4               45               55   \n",
       "...              ...             ...              ...              ...   \n",
       "6995               0               1               45               55   \n",
       "6996               0               0               50               50   \n",
       "6997               7               0               61               39   \n",
       "6998               2               1               52               48   \n",
       "6999               0               0               31               69   \n",
       "\n",
       "      final_delta  \n",
       "0               1  \n",
       "1               1  \n",
       "2               4  \n",
       "3               2  \n",
       "4               0  \n",
       "...           ...  \n",
       "6995            0  \n",
       "6996            0  \n",
       "6997            2  \n",
       "6998            0  \n",
       "6999            1  \n",
       "\n",
       "[7000 rows x 21 columns]"
      ]
     },
     "execution_count": 162,
     "metadata": {},
     "output_type": "execute_result"
    }
   ],
   "source": [
    "df = pd.read_csv(filepath_or_buffer = 'Dataset 3 - Sports Dataset/sports.csv', header = 0)\n",
    "df"
   ]
  },
  {
   "cell_type": "markdown",
   "id": "eb117b6e",
   "metadata": {},
   "source": [
    "# Data Preprocessing\n",
    "Our objective for this project is to use the data given in the dataset to predict whether 1 or more goals can be scored in the remaining playing time of the match."
   ]
  },
  {
   "cell_type": "markdown",
   "id": "1817f26e-6fa3-4fe5-9218-cc983a20e278",
   "metadata": {
    "scrolled": true
   },
   "source": [
    "Remove Missing Data"
   ]
  },
  {
   "cell_type": "code",
   "execution_count": 163,
   "id": "3dffecdb-d752-48c4-a996-e074e002d871",
   "metadata": {
    "scrolled": true
   },
   "outputs": [],
   "source": [
    "df.dropna(inplace=True)"
   ]
  },
  {
   "cell_type": "markdown",
   "id": "fa0978ff-c7c2-40c1-93d6-ed491f5881b4",
   "metadata": {},
   "source": [
    "UUID is an unique identifier. no need to keep it."
   ]
  },
  {
   "cell_type": "code",
   "execution_count": 164,
   "id": "8aae6059-7650-46a1-8d31-10c64cf6f85c",
   "metadata": {
    "scrolled": true
   },
   "outputs": [],
   "source": [
    "try:\n",
    "    df = df.drop(['uuid'], axis=1)\n",
    "except:\n",
    "    print('no uuid')"
   ]
  },
  {
   "cell_type": "markdown",
   "id": "c2b47730-39c7-47fe-afd8-766a2756f460",
   "metadata": {},
   "source": [
    "Use only data taken within the game time. Games last 105 minutes.  \n",
    "Then remove any data from halftime. Halftime should be around minute 45 to minute 60. Because of that, starting minute 60, subtract them by 15 to make data contiguous."
   ]
  },
  {
   "cell_type": "code",
   "execution_count": 165,
   "id": "678ebeae-34cc-4c76-bdd1-12027c476433",
   "metadata": {
    "scrolled": true
   },
   "outputs": [],
   "source": [
    "df = df.query('0<= current_minute <= 105 ')\n",
    "df = df.query('not (44 < current_minute <60)')\n",
    "df['current_minute'] = df['current_minute'].apply(lambda x: x-15 if x > 45 else x)"
   ]
  },
  {
   "cell_type": "markdown",
   "id": "b02bf09e-2286-46c2-9048-4b3ea9248902",
   "metadata": {
    "scrolled": true
   },
   "source": [
    "<!-- df = df.groupby(df['current_minute'],as_index = False).aggregate('sum')\n",
    "Aggregating was temptying but the samples became to small to use \n",
    "Feature Scaling\n",
    "numerical_features = ['current_minute', 'home_score', 'away_score', 'home_yellow_cards', 'away_yellow_cards',\n",
    "                      'home_red_cards', 'away_red_cards', 'home_attacks', 'away_attacks', 'home_dangerous_attacks',\n",
    "                      'away_dangerous_attacks', 'home_corners', 'away_corners', 'home_off_target', 'away_off_target',\n",
    "                      'home_on_target', 'away_on_target', 'home_possession', 'away_possession'] -->"
   ]
  },
  {
   "cell_type": "code",
   "execution_count": 166,
   "id": "a8c2687b",
   "metadata": {},
   "outputs": [],
   "source": [
    "# the target variable indicates whether 1 goal or more will be scored with the remaining time of the match. it shows binary values\n",
    "df['target']= 0\n",
    "df.loc[df['home_score'] + df['away_score']>0,'target'] = 1\n",
    "\n",
    "X = df.drop(['target','home_score','away_score'], axis=1)\n",
    "y = df['target']\n"
   ]
  },
  {
   "cell_type": "code",
   "execution_count": 167,
   "id": "0fd06acd",
   "metadata": {},
   "outputs": [
    {
     "name": "stdout",
     "output_type": "stream",
     "text": [
      "Shape of X: (6577, 18)\n",
      "Shape of y: (6577,)\n"
     ]
    }
   ],
   "source": [
    "# Current shape of our X and y\n",
    "print(\"Shape of X:\", X.shape)\n",
    "print(\"Shape of y:\", y.shape)"
   ]
  },
  {
   "cell_type": "markdown",
   "id": "16ea4ec6",
   "metadata": {},
   "source": [
    "# Exploratory Data Analysis"
   ]
  },
  {
   "cell_type": "markdown",
   "id": "f71cd015",
   "metadata": {},
   "source": [
    "This is the content of the dataset"
   ]
  },
  {
   "cell_type": "code",
   "execution_count": 168,
   "id": "5edeccd2",
   "metadata": {
    "scrolled": true
   },
   "outputs": [
    {
     "name": "stdout",
     "output_type": "stream",
     "text": [
      "First 5 rows of the dataset:\n"
     ]
    },
    {
     "data": {
      "text/html": [
       "<div>\n",
       "<style scoped>\n",
       "    .dataframe tbody tr th:only-of-type {\n",
       "        vertical-align: middle;\n",
       "    }\n",
       "\n",
       "    .dataframe tbody tr th {\n",
       "        vertical-align: top;\n",
       "    }\n",
       "\n",
       "    .dataframe thead th {\n",
       "        text-align: right;\n",
       "    }\n",
       "</style>\n",
       "<table border=\"1\" class=\"dataframe\">\n",
       "  <thead>\n",
       "    <tr style=\"text-align: right;\">\n",
       "      <th></th>\n",
       "      <th>current_minute</th>\n",
       "      <th>home_score</th>\n",
       "      <th>away_score</th>\n",
       "      <th>home_yellow_cards</th>\n",
       "      <th>away_yellow_cards</th>\n",
       "      <th>home_red_cards</th>\n",
       "      <th>away_red_cards</th>\n",
       "      <th>home_attacks</th>\n",
       "      <th>away_attacks</th>\n",
       "      <th>home_dangerous_attacks</th>\n",
       "      <th>...</th>\n",
       "      <th>home_corners</th>\n",
       "      <th>away_corners</th>\n",
       "      <th>home_off_target</th>\n",
       "      <th>away_off_target</th>\n",
       "      <th>home_on_target</th>\n",
       "      <th>away_on_target</th>\n",
       "      <th>home_possession</th>\n",
       "      <th>away_possession</th>\n",
       "      <th>final_delta</th>\n",
       "      <th>target</th>\n",
       "    </tr>\n",
       "  </thead>\n",
       "  <tbody>\n",
       "    <tr>\n",
       "      <th>0</th>\n",
       "      <td>79</td>\n",
       "      <td>1</td>\n",
       "      <td>2</td>\n",
       "      <td>0</td>\n",
       "      <td>0</td>\n",
       "      <td>0</td>\n",
       "      <td>0</td>\n",
       "      <td>39</td>\n",
       "      <td>45</td>\n",
       "      <td>29</td>\n",
       "      <td>...</td>\n",
       "      <td>4</td>\n",
       "      <td>1</td>\n",
       "      <td>4</td>\n",
       "      <td>0</td>\n",
       "      <td>4</td>\n",
       "      <td>6</td>\n",
       "      <td>48</td>\n",
       "      <td>52</td>\n",
       "      <td>1</td>\n",
       "      <td>1</td>\n",
       "    </tr>\n",
       "    <tr>\n",
       "      <th>1</th>\n",
       "      <td>76</td>\n",
       "      <td>2</td>\n",
       "      <td>0</td>\n",
       "      <td>0</td>\n",
       "      <td>0</td>\n",
       "      <td>0</td>\n",
       "      <td>0</td>\n",
       "      <td>0</td>\n",
       "      <td>0</td>\n",
       "      <td>0</td>\n",
       "      <td>...</td>\n",
       "      <td>0</td>\n",
       "      <td>0</td>\n",
       "      <td>0</td>\n",
       "      <td>0</td>\n",
       "      <td>0</td>\n",
       "      <td>0</td>\n",
       "      <td>50</td>\n",
       "      <td>50</td>\n",
       "      <td>1</td>\n",
       "      <td>1</td>\n",
       "    </tr>\n",
       "    <tr>\n",
       "      <th>2</th>\n",
       "      <td>3</td>\n",
       "      <td>0</td>\n",
       "      <td>0</td>\n",
       "      <td>0</td>\n",
       "      <td>0</td>\n",
       "      <td>0</td>\n",
       "      <td>0</td>\n",
       "      <td>3</td>\n",
       "      <td>1</td>\n",
       "      <td>1</td>\n",
       "      <td>...</td>\n",
       "      <td>0</td>\n",
       "      <td>0</td>\n",
       "      <td>0</td>\n",
       "      <td>0</td>\n",
       "      <td>0</td>\n",
       "      <td>0</td>\n",
       "      <td>62</td>\n",
       "      <td>38</td>\n",
       "      <td>4</td>\n",
       "      <td>0</td>\n",
       "    </tr>\n",
       "    <tr>\n",
       "      <th>3</th>\n",
       "      <td>17</td>\n",
       "      <td>0</td>\n",
       "      <td>0</td>\n",
       "      <td>1</td>\n",
       "      <td>0</td>\n",
       "      <td>0</td>\n",
       "      <td>0</td>\n",
       "      <td>41</td>\n",
       "      <td>46</td>\n",
       "      <td>11</td>\n",
       "      <td>...</td>\n",
       "      <td>1</td>\n",
       "      <td>0</td>\n",
       "      <td>0</td>\n",
       "      <td>2</td>\n",
       "      <td>0</td>\n",
       "      <td>0</td>\n",
       "      <td>55</td>\n",
       "      <td>45</td>\n",
       "      <td>2</td>\n",
       "      <td>0</td>\n",
       "    </tr>\n",
       "    <tr>\n",
       "      <th>4</th>\n",
       "      <td>61</td>\n",
       "      <td>1</td>\n",
       "      <td>0</td>\n",
       "      <td>1</td>\n",
       "      <td>0</td>\n",
       "      <td>0</td>\n",
       "      <td>0</td>\n",
       "      <td>69</td>\n",
       "      <td>78</td>\n",
       "      <td>21</td>\n",
       "      <td>...</td>\n",
       "      <td>1</td>\n",
       "      <td>1</td>\n",
       "      <td>0</td>\n",
       "      <td>3</td>\n",
       "      <td>4</td>\n",
       "      <td>4</td>\n",
       "      <td>45</td>\n",
       "      <td>55</td>\n",
       "      <td>0</td>\n",
       "      <td>1</td>\n",
       "    </tr>\n",
       "  </tbody>\n",
       "</table>\n",
       "<p>5 rows × 21 columns</p>\n",
       "</div>"
      ],
      "text/plain": [
       "   current_minute  home_score  away_score  home_yellow_cards  \\\n",
       "0              79           1           2                  0   \n",
       "1              76           2           0                  0   \n",
       "2               3           0           0                  0   \n",
       "3              17           0           0                  1   \n",
       "4              61           1           0                  1   \n",
       "\n",
       "   away_yellow_cards  home_red_cards  away_red_cards  home_attacks  \\\n",
       "0                  0               0               0            39   \n",
       "1                  0               0               0             0   \n",
       "2                  0               0               0             3   \n",
       "3                  0               0               0            41   \n",
       "4                  0               0               0            69   \n",
       "\n",
       "   away_attacks  home_dangerous_attacks  ...  home_corners  away_corners  \\\n",
       "0            45                      29  ...             4             1   \n",
       "1             0                       0  ...             0             0   \n",
       "2             1                       1  ...             0             0   \n",
       "3            46                      11  ...             1             0   \n",
       "4            78                      21  ...             1             1   \n",
       "\n",
       "   home_off_target  away_off_target  home_on_target  away_on_target  \\\n",
       "0                4                0               4               6   \n",
       "1                0                0               0               0   \n",
       "2                0                0               0               0   \n",
       "3                0                2               0               0   \n",
       "4                0                3               4               4   \n",
       "\n",
       "   home_possession  away_possession  final_delta  target  \n",
       "0               48               52            1       1  \n",
       "1               50               50            1       1  \n",
       "2               62               38            4       0  \n",
       "3               55               45            2       0  \n",
       "4               45               55            0       1  \n",
       "\n",
       "[5 rows x 21 columns]"
      ]
     },
     "execution_count": 168,
     "metadata": {},
     "output_type": "execute_result"
    }
   ],
   "source": [
    "print(\"First 5 rows of the dataset:\")\n",
    "df.head()"
   ]
  },
  {
   "cell_type": "code",
   "execution_count": 169,
   "id": "a31e7989",
   "metadata": {},
   "outputs": [
    {
     "data": {
      "image/png": "[encoded data removed]",
      "text/plain": [
       "<Figure size 640x480 with 1 Axes>"
      ]
     },
     "metadata": {},
     "output_type": "display_data"
    }
   ],
   "source": [
    "df.plot(x='current_minute', y='target', style='o')\n",
    "plt.xlabel('remaining_time')\n",
    "plt.ylabel('target')\n",
    "plt.show()"
   ]
  },
  {
   "cell_type": "markdown",
   "id": "3e981834",
   "metadata": {},
   "source": [
    "Basic summary statistics for numerical values.  \n",
    "Chart above shows that some snapshots had goals. Others had none. The data given does not have enough resolution to resolve when goals were made."
   ]
  },
  {
   "cell_type": "code",
   "execution_count": 170,
   "id": "e782a0f9",
   "metadata": {
    "scrolled": true
   },
   "outputs": [
    {
     "name": "stdout",
     "output_type": "stream",
     "text": [
      "\n",
      "Summary statistics of numerical features:\n"
     ]
    },
    {
     "data": {
      "text/html": [
       "<div>\n",
       "<style scoped>\n",
       "    .dataframe tbody tr th:only-of-type {\n",
       "        vertical-align: middle;\n",
       "    }\n",
       "\n",
       "    .dataframe tbody tr th {\n",
       "        vertical-align: top;\n",
       "    }\n",
       "\n",
       "    .dataframe thead th {\n",
       "        text-align: right;\n",
       "    }\n",
       "</style>\n",
       "<table border=\"1\" class=\"dataframe\">\n",
       "  <thead>\n",
       "    <tr style=\"text-align: right;\">\n",
       "      <th></th>\n",
       "      <th>current_minute</th>\n",
       "      <th>home_score</th>\n",
       "      <th>away_score</th>\n",
       "      <th>home_yellow_cards</th>\n",
       "      <th>away_yellow_cards</th>\n",
       "      <th>home_red_cards</th>\n",
       "      <th>away_red_cards</th>\n",
       "      <th>home_attacks</th>\n",
       "      <th>away_attacks</th>\n",
       "      <th>home_dangerous_attacks</th>\n",
       "      <th>...</th>\n",
       "      <th>home_corners</th>\n",
       "      <th>away_corners</th>\n",
       "      <th>home_off_target</th>\n",
       "      <th>away_off_target</th>\n",
       "      <th>home_on_target</th>\n",
       "      <th>away_on_target</th>\n",
       "      <th>home_possession</th>\n",
       "      <th>away_possession</th>\n",
       "      <th>final_delta</th>\n",
       "      <th>target</th>\n",
       "    </tr>\n",
       "  </thead>\n",
       "  <tbody>\n",
       "    <tr>\n",
       "      <th>count</th>\n",
       "      <td>6577.000000</td>\n",
       "      <td>6577.000000</td>\n",
       "      <td>6577.000000</td>\n",
       "      <td>6577.000000</td>\n",
       "      <td>6577.000000</td>\n",
       "      <td>6577.000000</td>\n",
       "      <td>6577.000000</td>\n",
       "      <td>6577.000000</td>\n",
       "      <td>6577.000000</td>\n",
       "      <td>6577.000000</td>\n",
       "      <td>...</td>\n",
       "      <td>6577.00000</td>\n",
       "      <td>6577.000000</td>\n",
       "      <td>6577.000000</td>\n",
       "      <td>6577.000000</td>\n",
       "      <td>6577.000000</td>\n",
       "      <td>6577.000000</td>\n",
       "      <td>6577.000000</td>\n",
       "      <td>6577.000000</td>\n",
       "      <td>6577.000000</td>\n",
       "      <td>6577.000000</td>\n",
       "    </tr>\n",
       "    <tr>\n",
       "      <th>mean</th>\n",
       "      <td>49.804926</td>\n",
       "      <td>0.783032</td>\n",
       "      <td>0.608332</td>\n",
       "      <td>0.510263</td>\n",
       "      <td>0.592215</td>\n",
       "      <td>0.008515</td>\n",
       "      <td>0.014900</td>\n",
       "      <td>45.755968</td>\n",
       "      <td>42.857686</td>\n",
       "      <td>27.212863</td>\n",
       "      <td>...</td>\n",
       "      <td>2.33161</td>\n",
       "      <td>1.971111</td>\n",
       "      <td>3.016573</td>\n",
       "      <td>2.551163</td>\n",
       "      <td>2.136688</td>\n",
       "      <td>1.759313</td>\n",
       "      <td>51.581572</td>\n",
       "      <td>48.415235</td>\n",
       "      <td>1.427855</td>\n",
       "      <td>0.649536</td>\n",
       "    </tr>\n",
       "    <tr>\n",
       "      <th>std</th>\n",
       "      <td>26.441958</td>\n",
       "      <td>1.068046</td>\n",
       "      <td>0.911459</td>\n",
       "      <td>0.907488</td>\n",
       "      <td>1.007297</td>\n",
       "      <td>0.093528</td>\n",
       "      <td>0.122412</td>\n",
       "      <td>36.029737</td>\n",
       "      <td>33.539557</td>\n",
       "      <td>22.968335</td>\n",
       "      <td>...</td>\n",
       "      <td>2.44227</td>\n",
       "      <td>2.192337</td>\n",
       "      <td>3.138122</td>\n",
       "      <td>2.719920</td>\n",
       "      <td>2.316965</td>\n",
       "      <td>2.002735</td>\n",
       "      <td>10.542929</td>\n",
       "      <td>10.544736</td>\n",
       "      <td>1.423859</td>\n",
       "      <td>0.477151</td>\n",
       "    </tr>\n",
       "    <tr>\n",
       "      <th>min</th>\n",
       "      <td>0.000000</td>\n",
       "      <td>0.000000</td>\n",
       "      <td>0.000000</td>\n",
       "      <td>0.000000</td>\n",
       "      <td>0.000000</td>\n",
       "      <td>0.000000</td>\n",
       "      <td>0.000000</td>\n",
       "      <td>0.000000</td>\n",
       "      <td>0.000000</td>\n",
       "      <td>0.000000</td>\n",
       "      <td>...</td>\n",
       "      <td>0.00000</td>\n",
       "      <td>0.000000</td>\n",
       "      <td>0.000000</td>\n",
       "      <td>0.000000</td>\n",
       "      <td>0.000000</td>\n",
       "      <td>0.000000</td>\n",
       "      <td>0.000000</td>\n",
       "      <td>0.000000</td>\n",
       "      <td>-2.000000</td>\n",
       "      <td>0.000000</td>\n",
       "    </tr>\n",
       "    <tr>\n",
       "      <th>25%</th>\n",
       "      <td>27.000000</td>\n",
       "      <td>0.000000</td>\n",
       "      <td>0.000000</td>\n",
       "      <td>0.000000</td>\n",
       "      <td>0.000000</td>\n",
       "      <td>0.000000</td>\n",
       "      <td>0.000000</td>\n",
       "      <td>14.000000</td>\n",
       "      <td>13.000000</td>\n",
       "      <td>7.000000</td>\n",
       "      <td>...</td>\n",
       "      <td>0.00000</td>\n",
       "      <td>0.000000</td>\n",
       "      <td>0.000000</td>\n",
       "      <td>0.000000</td>\n",
       "      <td>0.000000</td>\n",
       "      <td>0.000000</td>\n",
       "      <td>46.000000</td>\n",
       "      <td>42.000000</td>\n",
       "      <td>0.000000</td>\n",
       "      <td>0.000000</td>\n",
       "    </tr>\n",
       "    <tr>\n",
       "      <th>50%</th>\n",
       "      <td>55.000000</td>\n",
       "      <td>0.000000</td>\n",
       "      <td>0.000000</td>\n",
       "      <td>0.000000</td>\n",
       "      <td>0.000000</td>\n",
       "      <td>0.000000</td>\n",
       "      <td>0.000000</td>\n",
       "      <td>42.000000</td>\n",
       "      <td>40.000000</td>\n",
       "      <td>24.000000</td>\n",
       "      <td>...</td>\n",
       "      <td>2.00000</td>\n",
       "      <td>1.000000</td>\n",
       "      <td>2.000000</td>\n",
       "      <td>2.000000</td>\n",
       "      <td>2.000000</td>\n",
       "      <td>1.000000</td>\n",
       "      <td>51.000000</td>\n",
       "      <td>49.000000</td>\n",
       "      <td>1.000000</td>\n",
       "      <td>1.000000</td>\n",
       "    </tr>\n",
       "    <tr>\n",
       "      <th>75%</th>\n",
       "      <td>72.000000</td>\n",
       "      <td>1.000000</td>\n",
       "      <td>1.000000</td>\n",
       "      <td>1.000000</td>\n",
       "      <td>1.000000</td>\n",
       "      <td>0.000000</td>\n",
       "      <td>0.000000</td>\n",
       "      <td>71.000000</td>\n",
       "      <td>67.000000</td>\n",
       "      <td>42.000000</td>\n",
       "      <td>...</td>\n",
       "      <td>4.00000</td>\n",
       "      <td>3.000000</td>\n",
       "      <td>5.000000</td>\n",
       "      <td>4.000000</td>\n",
       "      <td>3.000000</td>\n",
       "      <td>3.000000</td>\n",
       "      <td>58.000000</td>\n",
       "      <td>54.000000</td>\n",
       "      <td>2.000000</td>\n",
       "      <td>1.000000</td>\n",
       "    </tr>\n",
       "    <tr>\n",
       "      <th>max</th>\n",
       "      <td>90.000000</td>\n",
       "      <td>8.000000</td>\n",
       "      <td>9.000000</td>\n",
       "      <td>8.000000</td>\n",
       "      <td>8.000000</td>\n",
       "      <td>2.000000</td>\n",
       "      <td>2.000000</td>\n",
       "      <td>255.000000</td>\n",
       "      <td>183.000000</td>\n",
       "      <td>132.000000</td>\n",
       "      <td>...</td>\n",
       "      <td>14.00000</td>\n",
       "      <td>18.000000</td>\n",
       "      <td>24.000000</td>\n",
       "      <td>18.000000</td>\n",
       "      <td>22.000000</td>\n",
       "      <td>19.000000</td>\n",
       "      <td>100.000000</td>\n",
       "      <td>100.000000</td>\n",
       "      <td>10.000000</td>\n",
       "      <td>1.000000</td>\n",
       "    </tr>\n",
       "  </tbody>\n",
       "</table>\n",
       "<p>8 rows × 21 columns</p>\n",
       "</div>"
      ],
      "text/plain": [
       "       current_minute   home_score   away_score  home_yellow_cards  \\\n",
       "count     6577.000000  6577.000000  6577.000000        6577.000000   \n",
       "mean        49.804926     0.783032     0.608332           0.510263   \n",
       "std         26.441958     1.068046     0.911459           0.907488   \n",
       "min          0.000000     0.000000     0.000000           0.000000   \n",
       "25%         27.000000     0.000000     0.000000           0.000000   \n",
       "50%         55.000000     0.000000     0.000000           0.000000   \n",
       "75%         72.000000     1.000000     1.000000           1.000000   \n",
       "max         90.000000     8.000000     9.000000           8.000000   \n",
       "\n",
       "       away_yellow_cards  home_red_cards  away_red_cards  home_attacks  \\\n",
       "count        6577.000000     6577.000000     6577.000000   6577.000000   \n",
       "mean            0.592215        0.008515        0.014900     45.755968   \n",
       "std             1.007297        0.093528        0.122412     36.029737   \n",
       "min             0.000000        0.000000        0.000000      0.000000   \n",
       "25%             0.000000        0.000000        0.000000     14.000000   \n",
       "50%             0.000000        0.000000        0.000000     42.000000   \n",
       "75%             1.000000        0.000000        0.000000     71.000000   \n",
       "max             8.000000        2.000000        2.000000    255.000000   \n",
       "\n",
       "       away_attacks  home_dangerous_attacks  ...  home_corners  away_corners  \\\n",
       "count   6577.000000             6577.000000  ...    6577.00000   6577.000000   \n",
       "mean      42.857686               27.212863  ...       2.33161      1.971111   \n",
       "std       33.539557               22.968335  ...       2.44227      2.192337   \n",
       "min        0.000000                0.000000  ...       0.00000      0.000000   \n",
       "25%       13.000000                7.000000  ...       0.00000      0.000000   \n",
       "50%       40.000000               24.000000  ...       2.00000      1.000000   \n",
       "75%       67.000000               42.000000  ...       4.00000      3.000000   \n",
       "max      183.000000              132.000000  ...      14.00000     18.000000   \n",
       "\n",
       "       home_off_target  away_off_target  home_on_target  away_on_target  \\\n",
       "count      6577.000000      6577.000000     6577.000000     6577.000000   \n",
       "mean          3.016573         2.551163        2.136688        1.759313   \n",
       "std           3.138122         2.719920        2.316965        2.002735   \n",
       "min           0.000000         0.000000        0.000000        0.000000   \n",
       "25%           0.000000         0.000000        0.000000        0.000000   \n",
       "50%           2.000000         2.000000        2.000000        1.000000   \n",
       "75%           5.000000         4.000000        3.000000        3.000000   \n",
       "max          24.000000        18.000000       22.000000       19.000000   \n",
       "\n",
       "       home_possession  away_possession  final_delta       target  \n",
       "count      6577.000000      6577.000000  6577.000000  6577.000000  \n",
       "mean         51.581572        48.415235     1.427855     0.649536  \n",
       "std          10.542929        10.544736     1.423859     0.477151  \n",
       "min           0.000000         0.000000    -2.000000     0.000000  \n",
       "25%          46.000000        42.000000     0.000000     0.000000  \n",
       "50%          51.000000        49.000000     1.000000     1.000000  \n",
       "75%          58.000000        54.000000     2.000000     1.000000  \n",
       "max         100.000000       100.000000    10.000000     1.000000  \n",
       "\n",
       "[8 rows x 21 columns]"
      ]
     },
     "execution_count": 170,
     "metadata": {},
     "output_type": "execute_result"
    }
   ],
   "source": [
    "print(\"\\nSummary statistics of numerical features:\")\n",
    "df.describe()"
   ]
  },
  {
   "cell_type": "markdown",
   "id": "6f13dccc",
   "metadata": {},
   "source": [
    "Scatterplot matrix for pairs of numerical features"
   ]
  },
  {
   "cell_type": "code",
   "execution_count": 171,
   "id": "a3bbf363",
   "metadata": {},
   "outputs": [
    {
     "name": "stdout",
     "output_type": "stream",
     "text": [
      "\n",
      "Pairplot for numerical features:\n"
     ]
    },
    {
     "data": {
      "image/png": "[encoded data removed]",
      "text/plain": [
       "<Figure size 1200x800 with 36 Axes>"
      ]
     },
     "metadata": {},
     "output_type": "display_data"
    }
   ],
   "source": [
    "print(\"\\nPairplot for numerical features:\")\n",
    "scatter_matrix = pd.plotting.scatter_matrix(df[['home_score', 'away_score', 'home_yellow_cards', 'away_yellow_cards', 'home_possession', 'away_possession']], figsize=(12, 8))\n",
    "plt.show()"
   ]
  },
  {
   "cell_type": "markdown",
   "id": "8253e5fd",
   "metadata": {},
   "source": [
    "Histogram that shows the distribution of home and away scores"
   ]
  },
  {
   "cell_type": "code",
   "execution_count": 172,
   "id": "01d4130f",
   "metadata": {},
   "outputs": [
    {
     "name": "stdout",
     "output_type": "stream",
     "text": [
      "\n",
      "Distribution of home and away scores:\n"
     ]
    },
    {
     "data": {
      "image/png": "[encoded data removed]",
      "text/plain": [
       "<Figure size 1200x600 with 1 Axes>"
      ]
     },
     "metadata": {},
     "output_type": "display_data"
    }
   ],
   "source": [
    "print(\"\\nDistribution of home and away scores:\")\n",
    "plt.figure(figsize=(12, 6))\n",
    "plt.hist(df['home_score'], bins=20, alpha=0.5, label='Home Score', color='blue')\n",
    "plt.hist(df['away_score'], bins=20, alpha=0.5, label='Away Score', color='red')\n",
    "plt.title('Distribution of Home and Away Scores')\n",
    "plt.legend()\n",
    "plt.show()"
   ]
  },
  {
   "cell_type": "markdown",
   "id": "097735da-e8c5-4353-969c-fd7b8c2f9d44",
   "metadata": {},
   "source": [
    "# Data set splitting"
   ]
  },
  {
   "cell_type": "code",
   "execution_count": 173,
   "id": "951260b3-0067-45f9-a2e2-43bd90de3df1",
   "metadata": {},
   "outputs": [],
   "source": [
    "X_train, X_test, y_train, y_test = train_test_split(X, y, test_size=0.2, random_state=42)\n",
    "X_train, X_val, y_train, y_val = train_test_split(X_test, y_test, test_size=0.2, random_state=42)\n",
    "scaler = StandardScaler()\n",
    "X_train = scaler.fit_transform(X_train)\n",
    "X_test = scaler.transform(X_test)\n",
    "X_train_1, X_val, y_train_1, y_val = train_test_split(X_train, y_train, test_size=0.5, random_state=42)\n",
    "X_val_1, X_val_test, y_val_1,y_val_test = train_test_split(X_val,y_val, test_size=0.2, random_state=42)"
   ]
  },
  {
   "cell_type": "markdown",
   "id": "82255aae-e70f-46d0-b350-8154baf095fe",
   "metadata": {},
   "source": [
    "# Helpers\n",
    "The cells below contain functions that will help with displaying things later"
   ]
  },
  {
   "cell_type": "code",
   "execution_count": 174,
   "id": "dd06a8ce-55d6-4d18-81ab-7d69951dcdf0",
   "metadata": {},
   "outputs": [],
   "source": [
    "# predictions: model predictions\n",
    "# actual: the actual labels\n",
    "#mode: type of data set evaluated\n",
    "def show_metrics(true,predictions,mode = \"Train\"):\n",
    "    \n",
    "    accuracy = accuracy_score(true,predictions)\n",
    "    conf_matrix = confusion_matrix(true,predictions)\n",
    "    classification_rep = classification_report(true,predictions)\n",
    "    \n",
    "    print(f\"\\n{mode} Accuracy:\", accuracy)\n",
    "    print(f\"{mode} Confusion Matrix:\\n\", conf_matrix)\n",
    "    print(f\"{mode} Classification Report:\\n\", classification_rep)\n",
    "    return accuracy, conf_matrix,classification_rep"
   ]
  },
  {
   "cell_type": "code",
   "execution_count": 180,
   "id": "603ace1a",
   "metadata": {},
   "outputs": [
    {
     "data": {
      "image/png": "[encoded data removed]",
      "text/plain": [
       "<Figure size 1200x400 with 1 Axes>"
      ]
     },
     "metadata": {},
     "output_type": "display_data"
    }
   ],
   "source": [
    "def show_mat(mat,title = \"Confusion Matrix\")\n",
    "    fig, axes = plt.subplots(1, 1, figsize=(12, 4))\n",
    "    \n",
    "    # Confusion Matrix\n",
    "    sns.heatmap(mat, annot=True, fmt='d', cmap='Blues', cbar=False, ax=axes)\n",
    "    axes.set_xlabel('Predicted')\n",
    "    axes.set_ylabel('True')\n",
    "    axes.set_title(title)\n",
    "    \n",
    "    plt.show()"
   ]
  },
  {
   "cell_type": "markdown",
   "id": "c6389702",
   "metadata": {},
   "source": [
    "# Logistic Regression Model\n",
    "Since this is a classification task, Logistic regression can be applied. Its implementation is rather simple here."
   ]
  },
  {
   "cell_type": "markdown",
   "id": "6285a521-41ec-4b0e-adcd-9ff7f8142690",
   "metadata": {},
   "source": [
    "Step 1: Initialize and train the model"
   ]
  },
  {
   "cell_type": "code",
   "execution_count": 175,
   "id": "da869556-917a-4fe6-a64e-749bdac7ff81",
   "metadata": {},
   "outputs": [
    {
     "data": {
      "text/html": [
       "<style>#sk-container-id-3 {color: black;}#sk-container-id-3 pre{padding: 0;}#sk-container-id-3 div.sk-toggleable {background-color: white;}#sk-container-id-3 label.sk-toggleable__label {cursor: pointer;display: block;width: 100%;margin-bottom: 0;padding: 0.3em;box-sizing: border-box;text-align: center;}#sk-container-id-3 label.sk-toggleable__label-arrow:before {content: \"▸\";float: left;margin-right: 0.25em;color: #696969;}#sk-container-id-3 label.sk-toggleable__label-arrow:hover:before {color: black;}#sk-container-id-3 div.sk-estimator:hover label.sk-toggleable__label-arrow:before {color: black;}#sk-container-id-3 div.sk-toggleable__content {max-height: 0;max-width: 0;overflow: hidden;text-align: left;background-color: #f0f8ff;}#sk-container-id-3 div.sk-toggleable__content pre {margin: 0.2em;color: black;border-radius: 0.25em;background-color: #f0f8ff;}#sk-container-id-3 input.sk-toggleable__control:checked~div.sk-toggleable__content {max-height: 200px;max-width: 100%;overflow: auto;}#sk-container-id-3 input.sk-toggleable__control:checked~label.sk-toggleable__label-arrow:before {content: \"▾\";}#sk-container-id-3 div.sk-estimator input.sk-toggleable__control:checked~label.sk-toggleable__label {background-color: #d4ebff;}#sk-container-id-3 div.sk-label input.sk-toggleable__control:checked~label.sk-toggleable__label {background-color: #d4ebff;}#sk-container-id-3 input.sk-hidden--visually {border: 0;clip: rect(1px 1px 1px 1px);clip: rect(1px, 1px, 1px, 1px);height: 1px;margin: -1px;overflow: hidden;padding: 0;position: absolute;width: 1px;}#sk-container-id-3 div.sk-estimator {font-family: monospace;background-color: #f0f8ff;border: 1px dotted black;border-radius: 0.25em;box-sizing: border-box;margin-bottom: 0.5em;}#sk-container-id-3 div.sk-estimator:hover {background-color: #d4ebff;}#sk-container-id-3 div.sk-parallel-item::after {content: \"\";width: 100%;border-bottom: 1px solid gray;flex-grow: 1;}#sk-container-id-3 div.sk-label:hover label.sk-toggleable__label {background-color: #d4ebff;}#sk-container-id-3 div.sk-serial::before {content: \"\";position: absolute;border-left: 1px solid gray;box-sizing: border-box;top: 0;bottom: 0;left: 50%;z-index: 0;}#sk-container-id-3 div.sk-serial {display: flex;flex-direction: column;align-items: center;background-color: white;padding-right: 0.2em;padding-left: 0.2em;position: relative;}#sk-container-id-3 div.sk-item {position: relative;z-index: 1;}#sk-container-id-3 div.sk-parallel {display: flex;align-items: stretch;justify-content: center;background-color: white;position: relative;}#sk-container-id-3 div.sk-item::before, #sk-container-id-3 div.sk-parallel-item::before {content: \"\";position: absolute;border-left: 1px solid gray;box-sizing: border-box;top: 0;bottom: 0;left: 50%;z-index: -1;}#sk-container-id-3 div.sk-parallel-item {display: flex;flex-direction: column;z-index: 1;position: relative;background-color: white;}#sk-container-id-3 div.sk-parallel-item:first-child::after {align-self: flex-end;width: 50%;}#sk-container-id-3 div.sk-parallel-item:last-child::after {align-self: flex-start;width: 50%;}#sk-container-id-3 div.sk-parallel-item:only-child::after {width: 0;}#sk-container-id-3 div.sk-dashed-wrapped {border: 1px dashed gray;margin: 0 0.4em 0.5em 0.4em;box-sizing: border-box;padding-bottom: 0.4em;background-color: white;}#sk-container-id-3 div.sk-label label {font-family: monospace;font-weight: bold;display: inline-block;line-height: 1.2em;}#sk-container-id-3 div.sk-label-container {text-align: center;}#sk-container-id-3 div.sk-container {/* jupyter's `normalize.less` sets `[hidden] { display: none; }` but bootstrap.min.css set `[hidden] { display: none !important; }` so we also need the `!important` here to be able to override the default hidden behavior on the sphinx rendered scikit-learn.org. See: https://github.com/scikit-learn/scikit-learn/issues/21755 */display: inline-block !important;position: relative;}#sk-container-id-3 div.sk-text-repr-fallback {display: none;}</style><div id=\"sk-container-id-3\" class=\"sk-top-container\"><div class=\"sk-text-repr-fallback\"><pre>LogisticRegression(n_jobs=-1)</pre><b>In a Jupyter environment, please rerun this cell to show the HTML representation or trust the notebook. <br />On GitHub, the HTML representation is unable to render, please try loading this page with nbviewer.org.</b></div><div class=\"sk-container\" hidden><div class=\"sk-item\"><div class=\"sk-estimator sk-toggleable\"><input class=\"sk-toggleable__control sk-hidden--visually\" id=\"sk-estimator-id-3\" type=\"checkbox\" checked><label for=\"sk-estimator-id-3\" class=\"sk-toggleable__label sk-toggleable__label-arrow\">LogisticRegression</label><div class=\"sk-toggleable__content\"><pre>LogisticRegression(n_jobs=-1)</pre></div></div></div></div></div>"
      ],
      "text/plain": [
       "LogisticRegression(n_jobs=-1)"
      ]
     },
     "execution_count": 175,
     "metadata": {},
     "output_type": "execute_result"
    }
   ],
   "source": [
    "logreg = LogisticRegression(n_jobs = -1)\n",
    "logreg.fit(X_train_1,y_train_1)"
   ]
  },
  {
   "cell_type": "markdown",
   "id": "c29dad24-63f7-4014-aba1-7a9b17dd6c81",
   "metadata": {},
   "source": [
    "Step 2: validate initial model"
   ]
  },
  {
   "cell_type": "code",
   "execution_count": 176,
   "id": "16371e56-02b7-4510-ba58-01f81cf468be",
   "metadata": {},
   "outputs": [
    {
     "name": "stdout",
     "output_type": "stream",
     "text": [
      "\n",
      "Train Accuracy: 0.8079847908745247\n",
      "Train Confusion Matrix:\n",
      " [[244 106]\n",
      " [ 96 606]]\n",
      "Train Classification Report:\n",
      "               precision    recall  f1-score   support\n",
      "\n",
      "           0       0.72      0.70      0.71       350\n",
      "           1       0.85      0.86      0.86       702\n",
      "\n",
      "    accuracy                           0.81      1052\n",
      "   macro avg       0.78      0.78      0.78      1052\n",
      "weighted avg       0.81      0.81      0.81      1052\n",
      "\n"
     ]
    }
   ],
   "source": [
    "# This is the training \n",
    "y_train_t_1 = logreg.predict(X_train_1)\n",
    "metrics = show_metrics(y_train_1,y_train_t_1)"
   ]
  },
  {
   "cell_type": "code",
   "execution_count": 182,
   "id": "6e3f9fa9-2dca-4eb5-8721-5738bff651e4",
   "metadata": {},
   "outputs": [
    {
     "name": "stdout",
     "output_type": "stream",
     "text": [
      "\n",
      "Train Accuracy: 0.8079847908745247\n",
      "Train Confusion Matrix:\n",
      " [[244 106]\n",
      " [ 96 606]]\n",
      "Train Classification Report:\n",
      "               precision    recall  f1-score   support\n",
      "\n",
      "           0       0.72      0.70      0.71       350\n",
      "           1       0.85      0.86      0.86       702\n",
      "\n",
      "    accuracy                           0.81      1052\n",
      "   macro avg       0.78      0.78      0.78      1052\n",
      "weighted avg       0.81      0.81      0.81      1052\n",
      "\n"
     ]
    },
    {
     "data": {
      "text/plain": [
       "(0.8679245283018868,\n",
       " array([[33,  8],\n",
       "        [ 6, 59]], dtype=int64),\n",
       " '              precision    recall  f1-score   support\\n\\n           0       0.85      0.80      0.83        41\\n           1       0.88      0.91      0.89        65\\n\\n    accuracy                           0.87       106\\n   macro avg       0.86      0.86      0.86       106\\nweighted avg       0.87      0.87      0.87       106\\n')"
      ]
     },
     "execution_count": 182,
     "metadata": {},
     "output_type": "execute_result"
    }
   ],
   "source": [
    "# get test accuracy with a validation set\n",
    "y_pred_v = logreg.predict(X_val_test)\n",
    "metrics = show_metrics(y_val_test,y_pred_v)\n",
    "show_mat()"
   ]
  },
  {
   "cell_type": "markdown",
   "id": "1131edb3",
   "metadata": {},
   "source": [
    "Step 3: Find the best hyper parameters"
   ]
  },
  {
   "cell_type": "code",
   "execution_count": 178,
   "id": "11fd88d8-51ba-487d-bfb6-4747cdd7b842",
   "metadata": {},
   "outputs": [],
   "source": [
    "# This is the grid of possible hyperparameter values to use.\n",
    "# Use a different validation set for training and searching the best estimator\n",
    "hpg = {'solver' : ['lbfgs', 'liblinear',  'sag'],\n",
    "      'fit_intercept' : [True,False],\n",
    "       'class_weight' : [None, 'balanced'],\n",
    "       'max_iter': [i for i in range(100,1000, 100)],\n",
    "       'C' : [1.0,1.1,1.01,1.001,1.0001,1.00001],\n",
    "       'tol' : [1e-5,1e-4,1e-3,1e-2,1e-1],\n",
    "      }\n",
    "# Gridsearch the best hyperparameter values\n",
    "finder = GridSearchCV(logreg,hpg,n_jobs = -1,refit = True,scoring = 'f1',error_score='raise')\n",
    "finder.fit(X_val_1, y_val_1)\n",
    "logreg = finder.best_estimator_"
   ]
  },
  {
   "cell_type": "markdown",
   "id": "ee35f653",
   "metadata": {},
   "source": [
    "To evaluate the model, we will get the training accuracy"
   ]
  },
  {
   "cell_type": "code",
   "execution_count": 179,
   "id": "adf20afe-9c03-4503-ad12-4f134b37360e",
   "metadata": {},
   "outputs": [
    {
     "name": "stdout",
     "output_type": "stream",
     "text": [
      "\n",
      "Train Accuracy: 0.8079847908745247\n",
      "Train Confusion Matrix:\n",
      " [[244 106]\n",
      " [ 96 606]]\n",
      "Train Classification Report:\n",
      "               precision    recall  f1-score   support\n",
      "\n",
      "           0       0.72      0.70      0.71       350\n",
      "           1       0.85      0.86      0.86       702\n",
      "\n",
      "    accuracy                           0.81      1052\n",
      "   macro avg       0.78      0.78      0.78      1052\n",
      "weighted avg       0.81      0.81      0.81      1052\n",
      "\n"
     ]
    }
   ],
   "source": [
    "train_predictions = logreg.predict(X_val_1)\n",
    "acc, mat_train, class_rep = show_metrics(y_val_1,train_predictions,\"Train\")"
   ]
  },
  {
   "cell_type": "markdown",
   "id": "b2bb1a3a",
   "metadata": {},
   "source": [
    "Based on the results, we can see that we got an accuracy of about 93% which indicates that the model predicted the target correctly for 80.798% of the instances in the train set. \n",
    "\n",
    "Train Confusion Matrix:\n",
    "\n",
    "True Positives: 606\n",
    "True Negatives: 244\n",
    "False Positives: 106\n",
    "False Negatives: 96\n",
    "\n",
    "In terms of accuracy, the model has a good performance on the train set in terms of precision, recall, and F1-score for both classes. Class 0 has slightly higher precision, while class 1 has slightly higher recall. The weighted average F1-score is 0.93, indicating good overall performance."
   ]
  },
  {
   "cell_type": "markdown",
   "id": "aaf25e4a",
   "metadata": {},
   "source": [
    "The rmse is at about 33% and the R2 score is about 50%. The R2 score indicates that the model explains about 50% of the variance in the target in the train set. The model needs improvement, especially in terms of reducing the RMSE."
   ]
  },
  {
   "cell_type": "markdown",
   "id": "c649be63",
   "metadata": {},
   "source": [
    "Now that we have the train accuracy, rmse, and r-squared values, let's visualize our results on a graph."
   ]
  },
  {
   "cell_type": "markdown",
   "id": "71ff03ab",
   "metadata": {},
   "source": [
    "We have created the validation set. Now we will evaluate the model on it."
   ]
  },
  {
   "cell_type": "markdown",
   "id": "6f741adb",
   "metadata": {},
   "source": [
    "The model achieved a high accuracy of approximately 91.6% on the validation set. The model performs well on the validation set with high precision, recall, and F1-Score for both classes.\n",
    "\n",
    "Confusion Matrix:\n",
    "\n",
    "True Positives: 834\n",
    "True Negatives: 448\n",
    "False Positives: 14\n",
    "False Negatives: 104\n",
    "\n",
    "The high accuracy, combined with balanced precision and recall, suggests that the model generalizes well to new data. The validation results indicate that the model is performing effectively on unseen data, and its predictions are reliable. "
   ]
  },
  {
   "cell_type": "code",
   "execution_count": 181,
   "id": "87ffeb4c",
   "metadata": {},
   "outputs": [
    {
     "ename": "NameError",
     "evalue": "name 'val_conf_matrix' is not defined",
     "output_type": "error",
     "traceback": [
      "\u001b[1;31m---------------------------------------------------------------------------\u001b[0m",
      "\u001b[1;31mNameError\u001b[0m                                 Traceback (most recent call last)",
      "Cell \u001b[1;32mIn[181], line 5\u001b[0m\n\u001b[0;32m      2\u001b[0m fig, axes \u001b[38;5;241m=\u001b[39m plt\u001b[38;5;241m.\u001b[39msubplots(\u001b[38;5;241m1\u001b[39m, \u001b[38;5;241m2\u001b[39m, figsize\u001b[38;5;241m=\u001b[39m(\u001b[38;5;241m12\u001b[39m, \u001b[38;5;241m4\u001b[39m))\n\u001b[0;32m      4\u001b[0m \u001b[38;5;66;03m# Confusion Matrix\u001b[39;00m\n\u001b[1;32m----> 5\u001b[0m sns\u001b[38;5;241m.\u001b[39mheatmap(\u001b[43mval_conf_matrix\u001b[49m, annot\u001b[38;5;241m=\u001b[39m\u001b[38;5;28;01mTrue\u001b[39;00m, fmt\u001b[38;5;241m=\u001b[39m\u001b[38;5;124m'\u001b[39m\u001b[38;5;124md\u001b[39m\u001b[38;5;124m'\u001b[39m, cmap\u001b[38;5;241m=\u001b[39m\u001b[38;5;124m'\u001b[39m\u001b[38;5;124mBlues\u001b[39m\u001b[38;5;124m'\u001b[39m, cbar\u001b[38;5;241m=\u001b[39m\u001b[38;5;28;01mFalse\u001b[39;00m, ax\u001b[38;5;241m=\u001b[39maxes[\u001b[38;5;241m0\u001b[39m])\n\u001b[0;32m      6\u001b[0m axes[\u001b[38;5;241m0\u001b[39m]\u001b[38;5;241m.\u001b[39mset_xlabel(\u001b[38;5;124m'\u001b[39m\u001b[38;5;124mPredicted\u001b[39m\u001b[38;5;124m'\u001b[39m)\n\u001b[0;32m      7\u001b[0m axes[\u001b[38;5;241m0\u001b[39m]\u001b[38;5;241m.\u001b[39mset_ylabel(\u001b[38;5;124m'\u001b[39m\u001b[38;5;124mTrue\u001b[39m\u001b[38;5;124m'\u001b[39m)\n",
      "\u001b[1;31mNameError\u001b[0m: name 'val_conf_matrix' is not defined"
     ]
    },
    {
     "data": {
      "image/png": "[encoded data removed]",
      "text/plain": [
       "<Figure size 1200x400 with 2 Axes>"
      ]
     },
     "metadata": {},
     "output_type": "display_data"
    }
   ],
   "source": [
    "# Confusion Matrix Plot for Validation Set\n",
    "fig, axes = plt.subplots(1, 2, figsize=(12, 4))\n",
    "\n",
    "# Confusion Matrix\n",
    "sns.heatmap(val_conf_matrix, annot=True, fmt='d', cmap='Blues', cbar=False, ax=axes[0])\n",
    "axes[0].set_xlabel('Predicted')\n",
    "axes[0].set_ylabel('True')\n",
    "axes[0].set_title('Confusion Matrix - Validation Set')\n",
    "\n",
    "# Scatter Plot for Actual vs. Predicted Values - Validation Set\n",
    "axes[1].scatter(y_val, val_predictions, alpha=0.5)\n",
    "axes[1].set_xlabel('Actual Values')\n",
    "axes[1].set_ylabel('Predicted Values')\n",
    "axes[1].set_title('Actual vs. Predicted Values - Validation Set')\n",
    "\n",
    "plt.tight_layout()\n",
    "plt.show()"
   ]
  },
  {
   "cell_type": "markdown",
   "id": "1cda9b87",
   "metadata": {},
   "source": [
    "After evaluating the model on the validation set, we will now evaluate it on the test set."
   ]
  },
  {
   "cell_type": "code",
   "execution_count": null,
   "id": "d6138f1f",
   "metadata": {},
   "outputs": [],
   "source": [
    "# Make predictions on the test set\n",
    "test_predictions = logreg.predict(X_test)"
   ]
  },
  {
   "cell_type": "code",
   "execution_count": null,
   "id": "9b153db6",
   "metadata": {},
   "outputs": [],
   "source": [
    "# Evaluate the model on the test set\n",
    "test_accuracy = accuracy_score(y_test, test_predictions)\n",
    "test_conf_matrix = confusion_matrix(y_test, test_predictions)\n",
    "test_classification_rep = classification_report(y_test, test_predictions)\n",
    "\n",
    "print(\"Test Accuracy:\", test_accuracy)\n",
    "print(\"Test Confusion Matrix:\\n\", test_conf_matrix)\n",
    "print(\"Test Classification Report:\\n\", test_classification_rep)"
   ]
  },
  {
   "cell_type": "code",
   "execution_count": null,
   "id": "7192d037",
   "metadata": {
    "scrolled": true
   },
   "outputs": [],
   "source": [
    "# Confusion Matrix Plot for Test Set\n",
    "fig, axes = plt.subplots(1, 2, figsize=(12, 4))\n",
    "\n",
    "# Confusion Matrix\n",
    "sns.heatmap(test_conf_matrix, annot=True, fmt='d', cmap='Blues', cbar=False, ax=axes[0])\n",
    "axes[0].set_xlabel('Predicted')\n",
    "axes[0].set_ylabel('True')\n",
    "axes[0].set_title('Confusion Matrix - Test Set')\n",
    "\n",
    "# Scatter Plot for Actual vs. Predicted Values - Test Set\n",
    "axes[1].scatter(y_test, test_predictions, alpha=0.5)\n",
    "axes[1].set_xlabel('Actual Values')\n",
    "axes[1].set_ylabel('Predicted Values')\n",
    "axes[1].set_title('Actual vs. Predicted Values - Test Set')\n",
    "\n",
    "plt.tight_layout()\n",
    "plt.show()"
   ]
  },
  {
   "cell_type": "markdown",
   "id": "364b567e",
   "metadata": {},
   "source": [
    "Based on the results of the test set evaluation, we can see that it is consistent with the validation set as both show the same values in terms of accuracy, classification, and confusion matrix. Given the consistency of both results, we can see that we have a robust model. \n",
    "\n",
    "Though the model is performing well in terms of accuracy, it still has a shortcoming in capturing the class (1). Further improvements can still be implemented through hyperparameter tuning."
   ]
  },
  {
   "cell_type": "code",
   "execution_count": null,
   "id": "d5de0819-4ac5-42a7-886e-d4ffd0618234",
   "metadata": {},
   "outputs": [],
   "source": []
  }
 ],
 "metadata": {
  "kernelspec": {
   "display_name": "Python 3 (ipykernel)",
   "language": "python",
   "name": "python3"
  },
  "language_info": {
   "codemirror_mode": {
    "name": "ipython",
    "version": 3
   },
   "file_extension": ".py",
   "mimetype": "text/x-python",
   "name": "python",
   "nbconvert_exporter": "python",
   "pygments_lexer": "ipython3",
   "version": "3.11.5"
  }
 },
 "nbformat": 4,
 "nbformat_minor": 5
}
