{
 "cells": [
  {
   "cell_type": "code",
   "execution_count": 20,
   "id": "fd43de47-6ab2-4693-8401-e426983a3f62",
   "metadata": {},
   "outputs": [],
   "source": [
    "import pandas as pd\n",
    "\n",
    "pd.set_option(\"display.expand_frame_repr\", True)\n",
    "pd.set_option('display.colheader_justify','right')\n",
    "pd.set_option('display.width', 100)\n",
    "pd.set_option(\"display.max_colwidth\", 30)\n",
    "df = pd.read_csv(filepath_or_buffer = './Dataset 3 - Sports Dataset/sports.csv', header = 0)\n",
    "pd.set_option(\"display.max_rows\", df.shape[0])\n",
    "df.sort_values(by = \"current_minute\", axis = 0)"
   ]
  },
  {
   "cell_type": "code",
   "execution_count": null,
   "id": "dc0d8236-24a7-4703-ae5b-671f00b9db5d",
   "metadata": {},
   "outputs": [],
   "source": []
  }
 ],
 "metadata": {
  "kernelspec": {
   "display_name": "Python 3 (ipykernel)",
   "language": "python",
   "name": "python3"
  },
  "language_info": {
   "codemirror_mode": {
    "name": "ipython",
    "version": 3
   },
   "file_extension": ".py",
   "mimetype": "text/x-python",
   "name": "python",
   "nbconvert_exporter": "python",
   "pygments_lexer": "ipython3",
   "version": "3.9.4"
  }
 },
 "nbformat": 4,
 "nbformat_minor": 5
}
